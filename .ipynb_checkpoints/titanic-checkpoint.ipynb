{
 "cells": [
  {
   "cell_type": "code",
   "execution_count": 1,
   "metadata": {
    "_cell_guid": "b1076dfc-b9ad-4769-8c92-a6c4dae69d19",
    "_uuid": "8f2839f25d086af736a60e9eeb907d3b93b6e0e5",
    "execution": {
     "iopub.execute_input": "2021-06-24T16:19:05.579269Z",
     "iopub.status.busy": "2021-06-24T16:19:05.578694Z",
     "iopub.status.idle": "2021-06-24T16:19:06.632589Z",
     "shell.execute_reply": "2021-06-24T16:19:06.631348Z",
     "shell.execute_reply.started": "2021-06-24T16:19:05.579232Z"
    }
   },
   "outputs": [],
   "source": [
    "# This Python 3 environment comes with many helpful analytics libraries installed\n",
    "# It is defined by the kaggle/python Docker image: https://github.com/kaggle/docker-python\n",
    "# For example, here's several helpful packages to load\n",
    "\n",
    "import numpy as np # linear algebra\n",
    "import pandas as pd # data processing, CSV file I/O (e.g. pd.read_csv)\n",
    "import matplotlib.pyplot as plt\n",
    "import seaborn as sns\n",
    "\n",
    "# Input data files are available in the read-only \"../input/\" directory\n",
    "# For example, running this (by clicking run or pressing Shift+Enter) will list all files under the input directory\n",
    "\n",
    "import os\n",
    "for dirname, _, filenames in os.walk('/kaggle/input'):\n",
    "    for filename in filenames:\n",
    "        print(os.path.join(dirname, filename))\n",
    "\n",
    "# You can write up to 20GB to the current directory (/kaggle/working/) that gets preserved as output when you create a version using \"Save & Run All\" \n",
    "# You can also write temporary files to /kaggle/temp/, but they won't be saved outside of the current session"
   ]
  },
  {
   "cell_type": "code",
   "execution_count": 2,
   "metadata": {
    "execution": {
     "iopub.execute_input": "2021-06-24T17:19:45.000884Z",
     "iopub.status.busy": "2021-06-24T17:19:45.000371Z",
     "iopub.status.idle": "2021-06-24T17:19:45.025976Z",
     "shell.execute_reply": "2021-06-24T17:19:45.025110Z",
     "shell.execute_reply.started": "2021-06-24T17:19:45.000850Z"
    }
   },
   "outputs": [],
   "source": [
    "pd.set_option('display.max_columns',20)\n",
    "# import datasets\n",
    "train_df = pd.read_csv('input_data/train.csv')\n",
    "test_df = pd.read_csv('input_data/test.csv')\n",
    "gender_submission = pd.read_csv('input_data/gender_submission.csv')"
   ]
  },
  {
   "cell_type": "code",
   "execution_count": 5,
   "metadata": {
    "execution": {
     "iopub.execute_input": "2021-06-23T20:31:51.534654Z",
     "iopub.status.busy": "2021-06-23T20:31:51.534277Z",
     "iopub.status.idle": "2021-06-23T20:31:51.549012Z",
     "shell.execute_reply": "2021-06-23T20:31:51.547726Z",
     "shell.execute_reply.started": "2021-06-23T20:31:51.534624Z"
    }
   },
   "outputs": [],
   "source": [
    "#train_df['Cabin'].str.extract('([A-Za-z])').value_counts()"
   ]
  },
  {
   "cell_type": "code",
   "execution_count": 6,
   "metadata": {
    "execution": {
     "iopub.execute_input": "2021-06-23T14:36:20.467987Z",
     "iopub.status.busy": "2021-06-23T14:36:20.467611Z",
     "iopub.status.idle": "2021-06-23T14:36:20.485706Z",
     "shell.execute_reply": "2021-06-23T14:36:20.484585Z",
     "shell.execute_reply.started": "2021-06-23T14:36:20.467958Z"
    }
   },
   "outputs": [
    {
     "name": "stdout",
     "output_type": "stream",
     "text": [
      "<class 'pandas.core.frame.DataFrame'>\n",
      "RangeIndex: 891 entries, 0 to 890\n",
      "Data columns (total 12 columns):\n",
      " #   Column       Non-Null Count  Dtype  \n",
      "---  ------       --------------  -----  \n",
      " 0   PassengerId  891 non-null    int64  \n",
      " 1   Survived     891 non-null    int64  \n",
      " 2   Pclass       891 non-null    int64  \n",
      " 3   Name         891 non-null    object \n",
      " 4   Sex          891 non-null    object \n",
      " 5   Age          714 non-null    float64\n",
      " 6   SibSp        891 non-null    int64  \n",
      " 7   Parch        891 non-null    int64  \n",
      " 8   Ticket       891 non-null    object \n",
      " 9   Fare         891 non-null    float64\n",
      " 10  Cabin        204 non-null    object \n",
      " 11  Embarked     889 non-null    object \n",
      "dtypes: float64(2), int64(5), object(5)\n",
      "memory usage: 83.7+ KB\n"
     ]
    }
   ],
   "source": [
    "train_df.info()"
   ]
  },
  {
   "cell_type": "code",
   "execution_count": 7,
   "metadata": {
    "execution": {
     "iopub.execute_input": "2021-06-24T17:19:47.484399Z",
     "iopub.status.busy": "2021-06-24T17:19:47.483789Z",
     "iopub.status.idle": "2021-06-24T17:19:47.490312Z",
     "shell.execute_reply": "2021-06-24T17:19:47.489285Z",
     "shell.execute_reply.started": "2021-06-24T17:19:47.484362Z"
    }
   },
   "outputs": [],
   "source": [
    "train_df['FamilySize'] = train_df['SibSp']+train_df['Parch']+1"
   ]
  },
  {
   "cell_type": "code",
   "execution_count": 8,
   "metadata": {
    "execution": {
     "iopub.execute_input": "2021-06-23T14:36:21.358018Z",
     "iopub.status.busy": "2021-06-23T14:36:21.357623Z",
     "iopub.status.idle": "2021-06-23T14:36:21.375820Z",
     "shell.execute_reply": "2021-06-23T14:36:21.374806Z",
     "shell.execute_reply.started": "2021-06-23T14:36:21.357986Z"
    }
   },
   "outputs": [
    {
     "data": {
      "text/html": [
       "<div>\n",
       "<style scoped>\n",
       "    .dataframe tbody tr th:only-of-type {\n",
       "        vertical-align: middle;\n",
       "    }\n",
       "\n",
       "    .dataframe tbody tr th {\n",
       "        vertical-align: top;\n",
       "    }\n",
       "\n",
       "    .dataframe thead th {\n",
       "        text-align: right;\n",
       "    }\n",
       "</style>\n",
       "<table border=\"1\" class=\"dataframe\">\n",
       "  <thead>\n",
       "    <tr style=\"text-align: right;\">\n",
       "      <th></th>\n",
       "      <th>PassengerId</th>\n",
       "      <th>Survived</th>\n",
       "      <th>Pclass</th>\n",
       "      <th>Name</th>\n",
       "      <th>Sex</th>\n",
       "      <th>Age</th>\n",
       "      <th>SibSp</th>\n",
       "      <th>Parch</th>\n",
       "      <th>Ticket</th>\n",
       "      <th>Fare</th>\n",
       "      <th>Cabin</th>\n",
       "      <th>Embarked</th>\n",
       "      <th>FamilySize</th>\n",
       "    </tr>\n",
       "  </thead>\n",
       "  <tbody>\n",
       "    <tr>\n",
       "      <th>61</th>\n",
       "      <td>62</td>\n",
       "      <td>1</td>\n",
       "      <td>1</td>\n",
       "      <td>Icard, Miss. Amelie</td>\n",
       "      <td>female</td>\n",
       "      <td>38.0</td>\n",
       "      <td>0</td>\n",
       "      <td>0</td>\n",
       "      <td>113572</td>\n",
       "      <td>80.0</td>\n",
       "      <td>B28</td>\n",
       "      <td>NaN</td>\n",
       "      <td>1</td>\n",
       "    </tr>\n",
       "    <tr>\n",
       "      <th>829</th>\n",
       "      <td>830</td>\n",
       "      <td>1</td>\n",
       "      <td>1</td>\n",
       "      <td>Stone, Mrs. George Nelson (Martha Evelyn)</td>\n",
       "      <td>female</td>\n",
       "      <td>62.0</td>\n",
       "      <td>0</td>\n",
       "      <td>0</td>\n",
       "      <td>113572</td>\n",
       "      <td>80.0</td>\n",
       "      <td>B28</td>\n",
       "      <td>NaN</td>\n",
       "      <td>1</td>\n",
       "    </tr>\n",
       "  </tbody>\n",
       "</table>\n",
       "</div>"
      ],
      "text/plain": [
       "     PassengerId  Survived  Pclass                                       Name  \\\n",
       "61            62         1       1                        Icard, Miss. Amelie   \n",
       "829          830         1       1  Stone, Mrs. George Nelson (Martha Evelyn)   \n",
       "\n",
       "        Sex   Age  SibSp  Parch  Ticket  Fare Cabin Embarked  FamilySize  \n",
       "61   female  38.0      0      0  113572  80.0   B28      NaN           1  \n",
       "829  female  62.0      0      0  113572  80.0   B28      NaN           1  "
      ]
     },
     "execution_count": 8,
     "metadata": {},
     "output_type": "execute_result"
    }
   ],
   "source": [
    "train_df.loc[train_df['Embarked'].isnull()]"
   ]
  },
  {
   "cell_type": "code",
   "execution_count": 9,
   "metadata": {
    "execution": {
     "iopub.execute_input": "2021-06-23T14:36:21.699625Z",
     "iopub.status.busy": "2021-06-23T14:36:21.699268Z",
     "iopub.status.idle": "2021-06-23T14:36:21.708654Z",
     "shell.execute_reply": "2021-06-23T14:36:21.707545Z",
     "shell.execute_reply.started": "2021-06-23T14:36:21.699595Z"
    }
   },
   "outputs": [
    {
     "data": {
      "text/plain": [
       "S    644\n",
       "C    168\n",
       "Q     77\n",
       "Name: Embarked, dtype: int64"
      ]
     },
     "execution_count": 9,
     "metadata": {},
     "output_type": "execute_result"
    }
   ],
   "source": [
    "train_df['Embarked'].value_counts()"
   ]
  },
  {
   "cell_type": "code",
   "execution_count": 10,
   "metadata": {
    "execution": {
     "iopub.execute_input": "2021-06-24T17:19:50.509963Z",
     "iopub.status.busy": "2021-06-24T17:19:50.509591Z",
     "iopub.status.idle": "2021-06-24T17:19:50.518613Z",
     "shell.execute_reply": "2021-06-24T17:19:50.517540Z",
     "shell.execute_reply.started": "2021-06-24T17:19:50.509924Z"
    }
   },
   "outputs": [],
   "source": [
    "train_df['Name_length'] = train_df['Name'].apply(lambda x:len(x.split()))"
   ]
  },
  {
   "cell_type": "code",
   "execution_count": 11,
   "metadata": {
    "execution": {
     "iopub.execute_input": "2021-06-24T16:25:26.660011Z",
     "iopub.status.busy": "2021-06-24T16:25:26.659635Z",
     "iopub.status.idle": "2021-06-24T16:25:26.680078Z",
     "shell.execute_reply": "2021-06-24T16:25:26.678723Z",
     "shell.execute_reply.started": "2021-06-24T16:25:26.659976Z"
    }
   },
   "outputs": [
    {
     "data": {
      "text/html": [
       "<div>\n",
       "<style scoped>\n",
       "    .dataframe tbody tr th:only-of-type {\n",
       "        vertical-align: middle;\n",
       "    }\n",
       "\n",
       "    .dataframe tbody tr th {\n",
       "        vertical-align: top;\n",
       "    }\n",
       "\n",
       "    .dataframe thead th {\n",
       "        text-align: right;\n",
       "    }\n",
       "</style>\n",
       "<table border=\"1\" class=\"dataframe\">\n",
       "  <thead>\n",
       "    <tr style=\"text-align: right;\">\n",
       "      <th></th>\n",
       "      <th>Survived</th>\n",
       "    </tr>\n",
       "    <tr>\n",
       "      <th>Name_length</th>\n",
       "      <th></th>\n",
       "    </tr>\n",
       "  </thead>\n",
       "  <tbody>\n",
       "    <tr>\n",
       "      <th>3</th>\n",
       "      <td>0.291803</td>\n",
       "    </tr>\n",
       "    <tr>\n",
       "      <th>4</th>\n",
       "      <td>0.341902</td>\n",
       "    </tr>\n",
       "    <tr>\n",
       "      <th>5</th>\n",
       "      <td>0.427083</td>\n",
       "    </tr>\n",
       "    <tr>\n",
       "      <th>6</th>\n",
       "      <td>0.769231</td>\n",
       "    </tr>\n",
       "    <tr>\n",
       "      <th>7</th>\n",
       "      <td>0.842105</td>\n",
       "    </tr>\n",
       "    <tr>\n",
       "      <th>8</th>\n",
       "      <td>0.555556</td>\n",
       "    </tr>\n",
       "    <tr>\n",
       "      <th>9</th>\n",
       "      <td>1.000000</td>\n",
       "    </tr>\n",
       "    <tr>\n",
       "      <th>14</th>\n",
       "      <td>1.000000</td>\n",
       "    </tr>\n",
       "  </tbody>\n",
       "</table>\n",
       "</div>"
      ],
      "text/plain": [
       "             Survived\n",
       "Name_length          \n",
       "3            0.291803\n",
       "4            0.341902\n",
       "5            0.427083\n",
       "6            0.769231\n",
       "7            0.842105\n",
       "8            0.555556\n",
       "9            1.000000\n",
       "14           1.000000"
      ]
     },
     "execution_count": 11,
     "metadata": {},
     "output_type": "execute_result"
    }
   ],
   "source": [
    "train_df[['Name_length','Survived']].groupby('Name_length').mean()"
   ]
  },
  {
   "cell_type": "code",
   "execution_count": 12,
   "metadata": {
    "execution": {
     "iopub.execute_input": "2021-06-24T17:19:54.536440Z",
     "iopub.status.busy": "2021-06-24T17:19:54.535845Z",
     "iopub.status.idle": "2021-06-24T17:19:54.547496Z",
     "shell.execute_reply": "2021-06-24T17:19:54.546349Z",
     "shell.execute_reply.started": "2021-06-24T17:19:54.536404Z"
    }
   },
   "outputs": [],
   "source": [
    "train_df['Ticket_type'] = train_df['Ticket'].apply(lambda x: x[0:3])\n",
    "train_df['Ticket_type'] = train_df['Ticket_type'].astype('category')\n",
    "train_df['Ticket_type'] = train_df['Ticket_type'].cat.codes"
   ]
  },
  {
   "cell_type": "code",
   "execution_count": 13,
   "metadata": {
    "execution": {
     "iopub.execute_input": "2021-06-24T17:19:55.016771Z",
     "iopub.status.busy": "2021-06-24T17:19:55.016422Z",
     "iopub.status.idle": "2021-06-24T17:19:55.035826Z",
     "shell.execute_reply": "2021-06-24T17:19:55.034665Z",
     "shell.execute_reply.started": "2021-06-24T17:19:55.016742Z"
    }
   },
   "outputs": [
    {
     "data": {
      "text/html": [
       "<div>\n",
       "<style scoped>\n",
       "    .dataframe tbody tr th:only-of-type {\n",
       "        vertical-align: middle;\n",
       "    }\n",
       "\n",
       "    .dataframe tbody tr th {\n",
       "        vertical-align: top;\n",
       "    }\n",
       "\n",
       "    .dataframe thead th {\n",
       "        text-align: right;\n",
       "    }\n",
       "</style>\n",
       "<table border=\"1\" class=\"dataframe\">\n",
       "  <thead>\n",
       "    <tr style=\"text-align: right;\">\n",
       "      <th></th>\n",
       "      <th>Survived</th>\n",
       "    </tr>\n",
       "    <tr>\n",
       "      <th>Ticket_type</th>\n",
       "      <th></th>\n",
       "    </tr>\n",
       "  </thead>\n",
       "  <tbody>\n",
       "    <tr>\n",
       "      <th>76</th>\n",
       "      <td>0.0</td>\n",
       "    </tr>\n",
       "    <tr>\n",
       "      <th>122</th>\n",
       "      <td>0.0</td>\n",
       "    </tr>\n",
       "    <tr>\n",
       "      <th>39</th>\n",
       "      <td>0.0</td>\n",
       "    </tr>\n",
       "    <tr>\n",
       "      <th>121</th>\n",
       "      <td>0.0</td>\n",
       "    </tr>\n",
       "    <tr>\n",
       "      <th>119</th>\n",
       "      <td>0.0</td>\n",
       "    </tr>\n",
       "    <tr>\n",
       "      <th>...</th>\n",
       "      <td>...</td>\n",
       "    </tr>\n",
       "    <tr>\n",
       "      <th>22</th>\n",
       "      <td>1.0</td>\n",
       "    </tr>\n",
       "    <tr>\n",
       "      <th>56</th>\n",
       "      <td>1.0</td>\n",
       "    </tr>\n",
       "    <tr>\n",
       "      <th>29</th>\n",
       "      <td>1.0</td>\n",
       "    </tr>\n",
       "    <tr>\n",
       "      <th>127</th>\n",
       "      <td>1.0</td>\n",
       "    </tr>\n",
       "    <tr>\n",
       "      <th>41</th>\n",
       "      <td>1.0</td>\n",
       "    </tr>\n",
       "  </tbody>\n",
       "</table>\n",
       "<p>154 rows × 1 columns</p>\n",
       "</div>"
      ],
      "text/plain": [
       "             Survived\n",
       "Ticket_type          \n",
       "76                0.0\n",
       "122               0.0\n",
       "39                0.0\n",
       "121               0.0\n",
       "119               0.0\n",
       "...               ...\n",
       "22                1.0\n",
       "56                1.0\n",
       "29                1.0\n",
       "127               1.0\n",
       "41                1.0\n",
       "\n",
       "[154 rows x 1 columns]"
      ]
     },
     "execution_count": 13,
     "metadata": {},
     "output_type": "execute_result"
    }
   ],
   "source": [
    "train_df[['Ticket_type','Survived']].groupby('Ticket_type').mean().sort_values('Survived')"
   ]
  },
  {
   "cell_type": "code",
   "execution_count": 14,
   "metadata": {
    "execution": {
     "iopub.execute_input": "2021-06-23T14:36:22.099007Z",
     "iopub.status.busy": "2021-06-23T14:36:22.098636Z",
     "iopub.status.idle": "2021-06-23T14:36:22.111175Z",
     "shell.execute_reply": "2021-06-23T14:36:22.109713Z",
     "shell.execute_reply.started": "2021-06-23T14:36:22.098975Z"
    }
   },
   "outputs": [
    {
     "data": {
      "text/plain": [
       "S    23\n",
       "C    22\n",
       "Name: Embarked, dtype: int64"
      ]
     },
     "execution_count": 14,
     "metadata": {},
     "output_type": "execute_result"
    }
   ],
   "source": [
    "train_df.loc[(train_df['Cabin'].str.extract('(.*?)\\d')=='B')[0]]['Embarked'].value_counts()"
   ]
  },
  {
   "cell_type": "code",
   "execution_count": 15,
   "metadata": {
    "execution": {
     "iopub.execute_input": "2021-06-24T17:20:01.880237Z",
     "iopub.status.busy": "2021-06-24T17:20:01.879806Z",
     "iopub.status.idle": "2021-06-24T17:20:01.889847Z",
     "shell.execute_reply": "2021-06-24T17:20:01.888714Z",
     "shell.execute_reply.started": "2021-06-24T17:20:01.880175Z"
    }
   },
   "outputs": [],
   "source": [
    "frequet_for_Embarked = train_df.loc[(train_df['Cabin'].str.extract('(.*?)\\d')=='B')[0]]['Embarked'].mode()[0]"
   ]
  },
  {
   "cell_type": "code",
   "execution_count": 16,
   "metadata": {
    "execution": {
     "iopub.execute_input": "2021-06-24T17:20:02.256209Z",
     "iopub.status.busy": "2021-06-24T17:20:02.253981Z",
     "iopub.status.idle": "2021-06-24T17:20:02.261514Z",
     "shell.execute_reply": "2021-06-24T17:20:02.260616Z",
     "shell.execute_reply.started": "2021-06-24T17:20:02.256146Z"
    }
   },
   "outputs": [],
   "source": [
    "train_df['Embarked'].fillna(frequet_for_Embarked,inplace=True)"
   ]
  },
  {
   "cell_type": "code",
   "execution_count": 17,
   "metadata": {
    "execution": {
     "iopub.execute_input": "2021-06-24T17:20:07.787617Z",
     "iopub.status.busy": "2021-06-24T17:20:07.787048Z",
     "iopub.status.idle": "2021-06-24T17:20:07.798232Z",
     "shell.execute_reply": "2021-06-24T17:20:07.797320Z",
     "shell.execute_reply.started": "2021-06-24T17:20:07.787563Z"
    }
   },
   "outputs": [],
   "source": [
    "train_df['Title'] = train_df['Name'].str.extract('([A-Za-z]+)\\.')"
   ]
  },
  {
   "cell_type": "code",
   "execution_count": 18,
   "metadata": {
    "execution": {
     "iopub.execute_input": "2021-06-24T17:20:08.334971Z",
     "iopub.status.busy": "2021-06-24T17:20:08.334537Z",
     "iopub.status.idle": "2021-06-24T17:20:08.350965Z",
     "shell.execute_reply": "2021-06-24T17:20:08.349530Z",
     "shell.execute_reply.started": "2021-06-24T17:20:08.334934Z"
    }
   },
   "outputs": [],
   "source": [
    "train_df['Title'] = train_df['Title'].replace(['Lady', 'Countess','Capt', 'Col',\\\n",
    "'Don', 'Dr', 'Major', 'Rev', 'Sir', 'Jonkheer', 'Dona'], 'Rare')\n",
    "\n",
    "train_df['Title'] = train_df['Title'].replace('Mlle', 'Miss')\n",
    "train_df['Title'] = train_df['Title'].replace('Ms', 'Miss')\n",
    "train_df['Title'] = train_df['Title'].replace('Mme', 'Mrs')"
   ]
  },
  {
   "cell_type": "code",
   "execution_count": 19,
   "metadata": {
    "execution": {
     "iopub.execute_input": "2021-06-23T14:36:26.753026Z",
     "iopub.status.busy": "2021-06-23T14:36:26.752263Z",
     "iopub.status.idle": "2021-06-23T14:36:26.768193Z",
     "shell.execute_reply": "2021-06-23T14:36:26.767082Z",
     "shell.execute_reply.started": "2021-06-23T14:36:26.752967Z"
    }
   },
   "outputs": [
    {
     "data": {
      "text/html": [
       "<div>\n",
       "<style scoped>\n",
       "    .dataframe tbody tr th:only-of-type {\n",
       "        vertical-align: middle;\n",
       "    }\n",
       "\n",
       "    .dataframe tbody tr th {\n",
       "        vertical-align: top;\n",
       "    }\n",
       "\n",
       "    .dataframe thead th {\n",
       "        text-align: right;\n",
       "    }\n",
       "</style>\n",
       "<table border=\"1\" class=\"dataframe\">\n",
       "  <thead>\n",
       "    <tr style=\"text-align: right;\">\n",
       "      <th></th>\n",
       "      <th>Survived</th>\n",
       "    </tr>\n",
       "    <tr>\n",
       "      <th>FamilySize</th>\n",
       "      <th></th>\n",
       "    </tr>\n",
       "  </thead>\n",
       "  <tbody>\n",
       "    <tr>\n",
       "      <th>4</th>\n",
       "      <td>0.724138</td>\n",
       "    </tr>\n",
       "    <tr>\n",
       "      <th>3</th>\n",
       "      <td>0.578431</td>\n",
       "    </tr>\n",
       "    <tr>\n",
       "      <th>2</th>\n",
       "      <td>0.552795</td>\n",
       "    </tr>\n",
       "    <tr>\n",
       "      <th>7</th>\n",
       "      <td>0.333333</td>\n",
       "    </tr>\n",
       "    <tr>\n",
       "      <th>1</th>\n",
       "      <td>0.303538</td>\n",
       "    </tr>\n",
       "    <tr>\n",
       "      <th>5</th>\n",
       "      <td>0.200000</td>\n",
       "    </tr>\n",
       "    <tr>\n",
       "      <th>6</th>\n",
       "      <td>0.136364</td>\n",
       "    </tr>\n",
       "    <tr>\n",
       "      <th>8</th>\n",
       "      <td>0.000000</td>\n",
       "    </tr>\n",
       "    <tr>\n",
       "      <th>11</th>\n",
       "      <td>0.000000</td>\n",
       "    </tr>\n",
       "  </tbody>\n",
       "</table>\n",
       "</div>"
      ],
      "text/plain": [
       "            Survived\n",
       "FamilySize          \n",
       "4           0.724138\n",
       "3           0.578431\n",
       "2           0.552795\n",
       "7           0.333333\n",
       "1           0.303538\n",
       "5           0.200000\n",
       "6           0.136364\n",
       "8           0.000000\n",
       "11          0.000000"
      ]
     },
     "execution_count": 19,
     "metadata": {},
     "output_type": "execute_result"
    }
   ],
   "source": [
    "train_df[['Survived','FamilySize']].groupby('FamilySize').mean().sort_values('Survived',ascending=0)"
   ]
  },
  {
   "cell_type": "code",
   "execution_count": 20,
   "metadata": {
    "execution": {
     "iopub.execute_input": "2021-06-24T17:20:21.821153Z",
     "iopub.status.busy": "2021-06-24T17:20:21.820617Z",
     "iopub.status.idle": "2021-06-24T17:20:21.828767Z",
     "shell.execute_reply": "2021-06-24T17:20:21.827472Z",
     "shell.execute_reply.started": "2021-06-24T17:20:21.821100Z"
    }
   },
   "outputs": [],
   "source": [
    "train_df['IsAlone'] = 0\n",
    "train_df.loc[train_df['FamilySize']==1,'IsAlone']=1"
   ]
  },
  {
   "cell_type": "code",
   "execution_count": 21,
   "metadata": {
    "execution": {
     "iopub.execute_input": "2021-06-24T17:20:22.373510Z",
     "iopub.status.busy": "2021-06-24T17:20:22.372820Z",
     "iopub.status.idle": "2021-06-24T17:20:22.379544Z",
     "shell.execute_reply": "2021-06-24T17:20:22.378708Z",
     "shell.execute_reply.started": "2021-06-24T17:20:22.373450Z"
    }
   },
   "outputs": [],
   "source": [
    "train_df['Sex'] = train_df['Sex'].map({'male':0,'female':1})"
   ]
  },
  {
   "cell_type": "code",
   "execution_count": 22,
   "metadata": {
    "execution": {
     "iopub.execute_input": "2021-06-23T14:36:32.914744Z",
     "iopub.status.busy": "2021-06-23T14:36:32.914357Z",
     "iopub.status.idle": "2021-06-23T14:36:32.924739Z",
     "shell.execute_reply": "2021-06-23T14:36:32.923715Z",
     "shell.execute_reply.started": "2021-06-23T14:36:32.914710Z"
    }
   },
   "outputs": [
    {
     "data": {
      "text/plain": [
       "Mr        517\n",
       "Miss      185\n",
       "Mrs       126\n",
       "Master     40\n",
       "Rare       23\n",
       "Name: Title, dtype: int64"
      ]
     },
     "execution_count": 22,
     "metadata": {},
     "output_type": "execute_result"
    }
   ],
   "source": [
    "train_df['Title'].value_counts()"
   ]
  },
  {
   "cell_type": "code",
   "execution_count": 23,
   "metadata": {
    "execution": {
     "iopub.execute_input": "2021-06-24T17:20:24.680266Z",
     "iopub.status.busy": "2021-06-24T17:20:24.679723Z",
     "iopub.status.idle": "2021-06-24T17:20:24.688061Z",
     "shell.execute_reply": "2021-06-24T17:20:24.687274Z",
     "shell.execute_reply.started": "2021-06-24T17:20:24.680210Z"
    }
   },
   "outputs": [],
   "source": [
    "train_df['Embarked'] = train_df['Embarked'].map({'C':0,'S':1,'Q':2})\n",
    "train_df['Title'] = train_df['Title'].map({'Mr':0,'Miss':1,'Mrs':2,'Master':3,'Rare':4})"
   ]
  },
  {
   "cell_type": "code",
   "execution_count": 24,
   "metadata": {
    "execution": {
     "iopub.execute_input": "2021-06-24T17:20:24.947098Z",
     "iopub.status.busy": "2021-06-24T17:20:24.946583Z",
     "iopub.status.idle": "2021-06-24T17:20:24.954676Z",
     "shell.execute_reply": "2021-06-24T17:20:24.953875Z",
     "shell.execute_reply.started": "2021-06-24T17:20:24.947066Z"
    }
   },
   "outputs": [],
   "source": [
    "train_df['Cabin_category'] = train_df['Cabin']\n",
    "train_df['Cabin_category'] = train_df['Cabin_category'].map({'A':1,'B':2,'C':2,'D':3,'E':4,'F':5,'G':6,'T':7})\n",
    "train_df['Cabin_category'] = train_df['Cabin_category'].fillna(0)"
   ]
  },
  {
   "cell_type": "code",
   "execution_count": 25,
   "metadata": {
    "execution": {
     "iopub.execute_input": "2021-06-24T17:20:26.169625Z",
     "iopub.status.busy": "2021-06-24T17:20:26.169108Z",
     "iopub.status.idle": "2021-06-24T17:20:26.175635Z",
     "shell.execute_reply": "2021-06-24T17:20:26.174625Z",
     "shell.execute_reply.started": "2021-06-24T17:20:26.169592Z"
    }
   },
   "outputs": [],
   "source": [
    "train_df['HasCabin'] = train_df['Cabin'].apply(lambda x:0 if x is np.nan else 1)"
   ]
  },
  {
   "cell_type": "code",
   "execution_count": 26,
   "metadata": {
    "execution": {
     "iopub.execute_input": "2021-06-24T17:20:29.068157Z",
     "iopub.status.busy": "2021-06-24T17:20:29.067639Z",
     "iopub.status.idle": "2021-06-24T17:20:29.073992Z",
     "shell.execute_reply": "2021-06-24T17:20:29.073244Z",
     "shell.execute_reply.started": "2021-06-24T17:20:29.068125Z"
    }
   },
   "outputs": [],
   "source": [
    "# train_df.drop(columns = ['PassengerId','Name','Ticket','Cabin'],inplace=True)"
   ]
  },
  {
   "cell_type": "code",
   "execution_count": 27,
   "metadata": {
    "execution": {
     "iopub.execute_input": "2021-06-24T17:20:29.997863Z",
     "iopub.status.busy": "2021-06-24T17:20:29.997370Z",
     "iopub.status.idle": "2021-06-24T17:20:30.008635Z",
     "shell.execute_reply": "2021-06-24T17:20:30.007606Z",
     "shell.execute_reply.started": "2021-06-24T17:20:29.997831Z"
    }
   },
   "outputs": [],
   "source": [
    "age_fillna = train_df.groupby('Pclass').median()['Age'].reset_index().rename(columns={'Age':'Age_merge'})"
   ]
  },
  {
   "cell_type": "code",
   "execution_count": 28,
   "metadata": {
    "execution": {
     "iopub.execute_input": "2021-06-24T17:20:30.272649Z",
     "iopub.status.busy": "2021-06-24T17:20:30.271914Z",
     "iopub.status.idle": "2021-06-24T17:20:30.283658Z",
     "shell.execute_reply": "2021-06-24T17:20:30.282410Z",
     "shell.execute_reply.started": "2021-06-24T17:20:30.272595Z"
    }
   },
   "outputs": [],
   "source": [
    "train_df = train_df.merge(age_fillna,how='left',on='Pclass')"
   ]
  },
  {
   "cell_type": "code",
   "execution_count": 29,
   "metadata": {
    "execution": {
     "iopub.execute_input": "2021-06-24T17:20:30.549152Z",
     "iopub.status.busy": "2021-06-24T17:20:30.548705Z",
     "iopub.status.idle": "2021-06-24T17:20:30.557106Z",
     "shell.execute_reply": "2021-06-24T17:20:30.555833Z",
     "shell.execute_reply.started": "2021-06-24T17:20:30.549116Z"
    }
   },
   "outputs": [],
   "source": [
    "train_df['Age'] = train_df['Age'].fillna(train_df['Age_merge'])\n",
    "train_df.drop(columns = ['Age_merge'],inplace=True)"
   ]
  },
  {
   "cell_type": "code",
   "execution_count": 30,
   "metadata": {
    "execution": {
     "iopub.execute_input": "2021-06-24T16:29:35.533791Z",
     "iopub.status.busy": "2021-06-24T16:29:35.533404Z",
     "iopub.status.idle": "2021-06-24T16:29:36.833725Z",
     "shell.execute_reply": "2021-06-24T16:29:36.832565Z",
     "shell.execute_reply.started": "2021-06-24T16:29:35.533758Z"
    }
   },
   "outputs": [
    {
     "ename": "ValueError",
     "evalue": "could not convert string to float: 'Braund, Mr. Owen Harris'",
     "output_type": "error",
     "traceback": [
      "\u001b[1;31m---------------------------------------------------------------------------\u001b[0m",
      "\u001b[1;31mValueError\u001b[0m                                Traceback (most recent call last)",
      "\u001b[1;32m<ipython-input-30-1ef13f545bdc>\u001b[0m in \u001b[0;36m<module>\u001b[1;34m\u001b[0m\n\u001b[0;32m      2\u001b[0m \u001b[0mplt\u001b[0m\u001b[1;33m.\u001b[0m\u001b[0mfigure\u001b[0m\u001b[1;33m(\u001b[0m\u001b[0mfigsize\u001b[0m\u001b[1;33m=\u001b[0m\u001b[1;33m(\u001b[0m\u001b[1;36m14\u001b[0m\u001b[1;33m,\u001b[0m\u001b[1;36m12\u001b[0m\u001b[1;33m)\u001b[0m\u001b[1;33m)\u001b[0m\u001b[1;33m\u001b[0m\u001b[1;33m\u001b[0m\u001b[0m\n\u001b[0;32m      3\u001b[0m \u001b[0mplt\u001b[0m\u001b[1;33m.\u001b[0m\u001b[0mtitle\u001b[0m\u001b[1;33m(\u001b[0m\u001b[1;34m'Pearson Correlation of Features'\u001b[0m\u001b[1;33m,\u001b[0m \u001b[0my\u001b[0m\u001b[1;33m=\u001b[0m\u001b[1;36m1.05\u001b[0m\u001b[1;33m,\u001b[0m \u001b[0msize\u001b[0m\u001b[1;33m=\u001b[0m\u001b[1;36m15\u001b[0m\u001b[1;33m)\u001b[0m\u001b[1;33m\u001b[0m\u001b[1;33m\u001b[0m\u001b[0m\n\u001b[1;32m----> 4\u001b[1;33m sns.heatmap(train_df.astype(float).corr(),linewidths=0.1,vmax=1.0, \n\u001b[0m\u001b[0;32m      5\u001b[0m             square=True, cmap=colormap, linecolor='white', annot=True)\n",
      "\u001b[1;32m~\\anaconda3\\lib\\site-packages\\pandas\\core\\generic.py\u001b[0m in \u001b[0;36mastype\u001b[1;34m(self, dtype, copy, errors)\u001b[0m\n\u001b[0;32m   5696\u001b[0m         \u001b[1;32melse\u001b[0m\u001b[1;33m:\u001b[0m\u001b[1;33m\u001b[0m\u001b[1;33m\u001b[0m\u001b[0m\n\u001b[0;32m   5697\u001b[0m             \u001b[1;31m# else, only a single dtype is given\u001b[0m\u001b[1;33m\u001b[0m\u001b[1;33m\u001b[0m\u001b[1;33m\u001b[0m\u001b[0m\n\u001b[1;32m-> 5698\u001b[1;33m             \u001b[0mnew_data\u001b[0m \u001b[1;33m=\u001b[0m \u001b[0mself\u001b[0m\u001b[1;33m.\u001b[0m\u001b[0m_data\u001b[0m\u001b[1;33m.\u001b[0m\u001b[0mastype\u001b[0m\u001b[1;33m(\u001b[0m\u001b[0mdtype\u001b[0m\u001b[1;33m=\u001b[0m\u001b[0mdtype\u001b[0m\u001b[1;33m,\u001b[0m \u001b[0mcopy\u001b[0m\u001b[1;33m=\u001b[0m\u001b[0mcopy\u001b[0m\u001b[1;33m,\u001b[0m \u001b[0merrors\u001b[0m\u001b[1;33m=\u001b[0m\u001b[0merrors\u001b[0m\u001b[1;33m)\u001b[0m\u001b[1;33m\u001b[0m\u001b[1;33m\u001b[0m\u001b[0m\n\u001b[0m\u001b[0;32m   5699\u001b[0m             \u001b[1;32mreturn\u001b[0m \u001b[0mself\u001b[0m\u001b[1;33m.\u001b[0m\u001b[0m_constructor\u001b[0m\u001b[1;33m(\u001b[0m\u001b[0mnew_data\u001b[0m\u001b[1;33m)\u001b[0m\u001b[1;33m.\u001b[0m\u001b[0m__finalize__\u001b[0m\u001b[1;33m(\u001b[0m\u001b[0mself\u001b[0m\u001b[1;33m)\u001b[0m\u001b[1;33m\u001b[0m\u001b[1;33m\u001b[0m\u001b[0m\n\u001b[0;32m   5700\u001b[0m \u001b[1;33m\u001b[0m\u001b[0m\n",
      "\u001b[1;32m~\\anaconda3\\lib\\site-packages\\pandas\\core\\internals\\managers.py\u001b[0m in \u001b[0;36mastype\u001b[1;34m(self, dtype, copy, errors)\u001b[0m\n\u001b[0;32m    580\u001b[0m \u001b[1;33m\u001b[0m\u001b[0m\n\u001b[0;32m    581\u001b[0m     \u001b[1;32mdef\u001b[0m \u001b[0mastype\u001b[0m\u001b[1;33m(\u001b[0m\u001b[0mself\u001b[0m\u001b[1;33m,\u001b[0m \u001b[0mdtype\u001b[0m\u001b[1;33m,\u001b[0m \u001b[0mcopy\u001b[0m\u001b[1;33m:\u001b[0m \u001b[0mbool\u001b[0m \u001b[1;33m=\u001b[0m \u001b[1;32mFalse\u001b[0m\u001b[1;33m,\u001b[0m \u001b[0merrors\u001b[0m\u001b[1;33m:\u001b[0m \u001b[0mstr\u001b[0m \u001b[1;33m=\u001b[0m \u001b[1;34m\"raise\"\u001b[0m\u001b[1;33m)\u001b[0m\u001b[1;33m:\u001b[0m\u001b[1;33m\u001b[0m\u001b[1;33m\u001b[0m\u001b[0m\n\u001b[1;32m--> 582\u001b[1;33m         \u001b[1;32mreturn\u001b[0m \u001b[0mself\u001b[0m\u001b[1;33m.\u001b[0m\u001b[0mapply\u001b[0m\u001b[1;33m(\u001b[0m\u001b[1;34m\"astype\"\u001b[0m\u001b[1;33m,\u001b[0m \u001b[0mdtype\u001b[0m\u001b[1;33m=\u001b[0m\u001b[0mdtype\u001b[0m\u001b[1;33m,\u001b[0m \u001b[0mcopy\u001b[0m\u001b[1;33m=\u001b[0m\u001b[0mcopy\u001b[0m\u001b[1;33m,\u001b[0m \u001b[0merrors\u001b[0m\u001b[1;33m=\u001b[0m\u001b[0merrors\u001b[0m\u001b[1;33m)\u001b[0m\u001b[1;33m\u001b[0m\u001b[1;33m\u001b[0m\u001b[0m\n\u001b[0m\u001b[0;32m    583\u001b[0m \u001b[1;33m\u001b[0m\u001b[0m\n\u001b[0;32m    584\u001b[0m     \u001b[1;32mdef\u001b[0m \u001b[0mconvert\u001b[0m\u001b[1;33m(\u001b[0m\u001b[0mself\u001b[0m\u001b[1;33m,\u001b[0m \u001b[1;33m**\u001b[0m\u001b[0mkwargs\u001b[0m\u001b[1;33m)\u001b[0m\u001b[1;33m:\u001b[0m\u001b[1;33m\u001b[0m\u001b[1;33m\u001b[0m\u001b[0m\n",
      "\u001b[1;32m~\\anaconda3\\lib\\site-packages\\pandas\\core\\internals\\managers.py\u001b[0m in \u001b[0;36mapply\u001b[1;34m(self, f, filter, **kwargs)\u001b[0m\n\u001b[0;32m    440\u001b[0m                 \u001b[0mapplied\u001b[0m \u001b[1;33m=\u001b[0m \u001b[0mb\u001b[0m\u001b[1;33m.\u001b[0m\u001b[0mapply\u001b[0m\u001b[1;33m(\u001b[0m\u001b[0mf\u001b[0m\u001b[1;33m,\u001b[0m \u001b[1;33m**\u001b[0m\u001b[0mkwargs\u001b[0m\u001b[1;33m)\u001b[0m\u001b[1;33m\u001b[0m\u001b[1;33m\u001b[0m\u001b[0m\n\u001b[0;32m    441\u001b[0m             \u001b[1;32melse\u001b[0m\u001b[1;33m:\u001b[0m\u001b[1;33m\u001b[0m\u001b[1;33m\u001b[0m\u001b[0m\n\u001b[1;32m--> 442\u001b[1;33m                 \u001b[0mapplied\u001b[0m \u001b[1;33m=\u001b[0m \u001b[0mgetattr\u001b[0m\u001b[1;33m(\u001b[0m\u001b[0mb\u001b[0m\u001b[1;33m,\u001b[0m \u001b[0mf\u001b[0m\u001b[1;33m)\u001b[0m\u001b[1;33m(\u001b[0m\u001b[1;33m**\u001b[0m\u001b[0mkwargs\u001b[0m\u001b[1;33m)\u001b[0m\u001b[1;33m\u001b[0m\u001b[1;33m\u001b[0m\u001b[0m\n\u001b[0m\u001b[0;32m    443\u001b[0m             \u001b[0mresult_blocks\u001b[0m \u001b[1;33m=\u001b[0m \u001b[0m_extend_blocks\u001b[0m\u001b[1;33m(\u001b[0m\u001b[0mapplied\u001b[0m\u001b[1;33m,\u001b[0m \u001b[0mresult_blocks\u001b[0m\u001b[1;33m)\u001b[0m\u001b[1;33m\u001b[0m\u001b[1;33m\u001b[0m\u001b[0m\n\u001b[0;32m    444\u001b[0m \u001b[1;33m\u001b[0m\u001b[0m\n",
      "\u001b[1;32m~\\anaconda3\\lib\\site-packages\\pandas\\core\\internals\\blocks.py\u001b[0m in \u001b[0;36mastype\u001b[1;34m(self, dtype, copy, errors)\u001b[0m\n\u001b[0;32m    623\u001b[0m             \u001b[0mvals1d\u001b[0m \u001b[1;33m=\u001b[0m \u001b[0mvalues\u001b[0m\u001b[1;33m.\u001b[0m\u001b[0mravel\u001b[0m\u001b[1;33m(\u001b[0m\u001b[1;33m)\u001b[0m\u001b[1;33m\u001b[0m\u001b[1;33m\u001b[0m\u001b[0m\n\u001b[0;32m    624\u001b[0m             \u001b[1;32mtry\u001b[0m\u001b[1;33m:\u001b[0m\u001b[1;33m\u001b[0m\u001b[1;33m\u001b[0m\u001b[0m\n\u001b[1;32m--> 625\u001b[1;33m                 \u001b[0mvalues\u001b[0m \u001b[1;33m=\u001b[0m \u001b[0mastype_nansafe\u001b[0m\u001b[1;33m(\u001b[0m\u001b[0mvals1d\u001b[0m\u001b[1;33m,\u001b[0m \u001b[0mdtype\u001b[0m\u001b[1;33m,\u001b[0m \u001b[0mcopy\u001b[0m\u001b[1;33m=\u001b[0m\u001b[1;32mTrue\u001b[0m\u001b[1;33m)\u001b[0m\u001b[1;33m\u001b[0m\u001b[1;33m\u001b[0m\u001b[0m\n\u001b[0m\u001b[0;32m    626\u001b[0m             \u001b[1;32mexcept\u001b[0m \u001b[1;33m(\u001b[0m\u001b[0mValueError\u001b[0m\u001b[1;33m,\u001b[0m \u001b[0mTypeError\u001b[0m\u001b[1;33m)\u001b[0m\u001b[1;33m:\u001b[0m\u001b[1;33m\u001b[0m\u001b[1;33m\u001b[0m\u001b[0m\n\u001b[0;32m    627\u001b[0m                 \u001b[1;31m# e.g. astype_nansafe can fail on object-dtype of strings\u001b[0m\u001b[1;33m\u001b[0m\u001b[1;33m\u001b[0m\u001b[1;33m\u001b[0m\u001b[0m\n",
      "\u001b[1;32m~\\anaconda3\\lib\\site-packages\\pandas\\core\\dtypes\\cast.py\u001b[0m in \u001b[0;36mastype_nansafe\u001b[1;34m(arr, dtype, copy, skipna)\u001b[0m\n\u001b[0;32m    895\u001b[0m     \u001b[1;32mif\u001b[0m \u001b[0mcopy\u001b[0m \u001b[1;32mor\u001b[0m \u001b[0mis_object_dtype\u001b[0m\u001b[1;33m(\u001b[0m\u001b[0marr\u001b[0m\u001b[1;33m)\u001b[0m \u001b[1;32mor\u001b[0m \u001b[0mis_object_dtype\u001b[0m\u001b[1;33m(\u001b[0m\u001b[0mdtype\u001b[0m\u001b[1;33m)\u001b[0m\u001b[1;33m:\u001b[0m\u001b[1;33m\u001b[0m\u001b[1;33m\u001b[0m\u001b[0m\n\u001b[0;32m    896\u001b[0m         \u001b[1;31m# Explicit copy, or required since NumPy can't view from / to object.\u001b[0m\u001b[1;33m\u001b[0m\u001b[1;33m\u001b[0m\u001b[1;33m\u001b[0m\u001b[0m\n\u001b[1;32m--> 897\u001b[1;33m         \u001b[1;32mreturn\u001b[0m \u001b[0marr\u001b[0m\u001b[1;33m.\u001b[0m\u001b[0mastype\u001b[0m\u001b[1;33m(\u001b[0m\u001b[0mdtype\u001b[0m\u001b[1;33m,\u001b[0m \u001b[0mcopy\u001b[0m\u001b[1;33m=\u001b[0m\u001b[1;32mTrue\u001b[0m\u001b[1;33m)\u001b[0m\u001b[1;33m\u001b[0m\u001b[1;33m\u001b[0m\u001b[0m\n\u001b[0m\u001b[0;32m    898\u001b[0m \u001b[1;33m\u001b[0m\u001b[0m\n\u001b[0;32m    899\u001b[0m     \u001b[1;32mreturn\u001b[0m \u001b[0marr\u001b[0m\u001b[1;33m.\u001b[0m\u001b[0mview\u001b[0m\u001b[1;33m(\u001b[0m\u001b[0mdtype\u001b[0m\u001b[1;33m)\u001b[0m\u001b[1;33m\u001b[0m\u001b[1;33m\u001b[0m\u001b[0m\n",
      "\u001b[1;31mValueError\u001b[0m: could not convert string to float: 'Braund, Mr. Owen Harris'"
     ]
    },
    {
     "data": {
      "image/png": "[encoded data removed]",
      "text/plain": [
       "<Figure size 1008x864 with 1 Axes>"
      ]
     },
     "metadata": {
      "needs_background": "light"
     },
     "output_type": "display_data"
    }
   ],
   "source": [
    "colormap = plt.cm.RdBu\n",
    "plt.figure(figsize=(14,12))\n",
    "plt.title('Pearson Correlation of Features', y=1.05, size=15)\n",
    "sns.heatmap(train_df.astype(float).corr(),linewidths=0.1,vmax=1.0, \n",
    "            square=True, cmap=colormap, linecolor='white', annot=True)"
   ]
  },
  {
   "cell_type": "code",
   "execution_count": null,
   "metadata": {
    "execution": {
     "iopub.execute_input": "2021-06-23T01:04:24.026389Z",
     "iopub.status.busy": "2021-06-23T01:04:24.025742Z",
     "iopub.status.idle": "2021-06-23T01:04:24.042288Z",
     "shell.execute_reply": "2021-06-23T01:04:24.041385Z",
     "shell.execute_reply.started": "2021-06-23T01:04:24.026352Z"
    }
   },
   "outputs": [],
   "source": [
    "train_df.info()"
   ]
  },
  {
   "cell_type": "markdown",
   "metadata": {},
   "source": [
    "**Test data processing**"
   ]
  },
  {
   "cell_type": "code",
   "execution_count": null,
   "metadata": {
    "execution": {
     "iopub.execute_input": "2021-06-24T17:20:45.838199Z",
     "iopub.status.busy": "2021-06-24T17:20:45.837771Z",
     "iopub.status.idle": "2021-06-24T17:20:45.849548Z",
     "shell.execute_reply": "2021-06-24T17:20:45.848454Z",
     "shell.execute_reply.started": "2021-06-24T17:20:45.838141Z"
    }
   },
   "outputs": [],
   "source": [
    "test_df = pd.read_csv('test.csv')"
   ]
  },
  {
   "cell_type": "code",
   "execution_count": null,
   "metadata": {
    "execution": {
     "iopub.execute_input": "2021-06-24T17:20:46.199022Z",
     "iopub.status.busy": "2021-06-24T17:20:46.198648Z",
     "iopub.status.idle": "2021-06-24T17:20:46.266152Z",
     "shell.execute_reply": "2021-06-24T17:20:46.265136Z",
     "shell.execute_reply.started": "2021-06-24T17:20:46.198982Z"
    }
   },
   "outputs": [],
   "source": [
    "test_df['FamilySize'] = test_df['SibSp']+test_df['Parch']+1\n",
    "frequet_for_Embarked = test_df.loc[(test_df['Cabin'].str.extract('(.*?)\\d')=='B')[0]]['Embarked'].mode()[0]\n",
    "\n",
    "test_df['Name_length'] = test_df['Name'].apply(lambda x:len(x.split()))\n",
    "test_df['Ticket_type'] = test_df['Ticket'].apply(lambda x: x[0:3])\n",
    "test_df['Ticket_type'] = test_df['Ticket_type'].astype('category')\n",
    "test_df['Ticket_type'] = test_df['Ticket_type'].cat.codes\n",
    "\n",
    "test_df['Embarked'].fillna(frequet_for_Embarked,inplace=True)\n",
    "test_df['Title'] = test_df['Name'].str.extract('([A-Za-z]+)\\.')\n",
    "test_df['Title'] = test_df['Title'].replace(['Lady', 'Countess','Capt', 'Col',\\\n",
    "'Don', 'Dr', 'Major', 'Rev', 'Sir', 'Jonkheer', 'Dona'], 'Rare')\n",
    "\n",
    "test_df['Title'] = test_df['Title'].replace('Mlle', 'Miss')\n",
    "test_df['Title'] = test_df['Title'].replace('Ms', 'Miss')\n",
    "test_df['Title'] = test_df['Title'].replace('Mme', 'Mrs')\n",
    "\n",
    "test_df['IsAlone'] = 0\n",
    "test_df.loc[test_df['FamilySize']==1,'IsAlone']=1\n",
    "\n",
    "test_df['Sex'] = test_df['Sex'].map({'male':0,'female':1})\n",
    "\n",
    "test_df['Embarked'] = test_df['Embarked'].map({'C':0,'S':1,'Q':2})\n",
    "test_df['Title'] = test_df['Title'].map({'Mr':0,'Miss':1,'Mrs':2,'Master':3,'Rare':4})\n",
    "\n",
    "test_df['HasCabin'] = test_df['Cabin'].apply(lambda x:0 if x is np.nan else 1)\n",
    "test_df['Cabin_category'] = test_df['Cabin']\n",
    "test_df['Cabin_category'] = test_df['Cabin_category'].map({'A':1,'B':2,'C':2,'D':3,'E':4,'F':5,'G':6,'T':7})\n",
    "test_df['Cabin_category'] = test_df['Cabin_category'].fillna(0)\n",
    "\n",
    "# test_df.drop(columns = ['PassengerId','Name','Ticket','Cabin'],inplace=True)\n",
    "age_fillna = test_df.groupby('Pclass').median()['Age'].reset_index().rename(columns={'Age':'Age_merge'})\n",
    "test_df = test_df.merge(age_fillna,how='left',on='Pclass')\n",
    "test_df['Age'] = test_df['Age'].fillna(test_df['Age_merge'])\n",
    "test_df.drop(columns = ['Age_merge'],inplace=True)\n",
    "\n",
    "fare_fillna = test_df.groupby('Pclass').median()['Fare'].reset_index().rename(columns={'Fare':'Fare_merge'})\n",
    "test_df = test_df.merge(fare_fillna,how='left',on='Pclass')\n",
    "test_df['Fare'] = test_df['Fare'].fillna(test_df['Fare_merge'])\n",
    "test_df.drop(columns = ['Fare_merge'],inplace=True)"
   ]
  },
  {
   "cell_type": "code",
   "execution_count": null,
   "metadata": {
    "execution": {
     "iopub.execute_input": "2021-06-24T16:30:35.038266Z",
     "iopub.status.busy": "2021-06-24T16:30:35.037704Z",
     "iopub.status.idle": "2021-06-24T16:30:35.054887Z",
     "shell.execute_reply": "2021-06-24T16:30:35.053580Z",
     "shell.execute_reply.started": "2021-06-24T16:30:35.038218Z"
    }
   },
   "outputs": [],
   "source": [
    "test_df.info()"
   ]
  },
  {
   "cell_type": "markdown",
   "metadata": {},
   "source": [
    "**Model Training**"
   ]
  },
  {
   "cell_type": "code",
   "execution_count": null,
   "metadata": {
    "execution": {
     "iopub.execute_input": "2021-06-24T17:23:17.850665Z",
     "iopub.status.busy": "2021-06-24T17:23:17.850073Z",
     "iopub.status.idle": "2021-06-24T17:23:17.861475Z",
     "shell.execute_reply": "2021-06-24T17:23:17.860376Z",
     "shell.execute_reply.started": "2021-06-24T17:23:17.850596Z"
    }
   },
   "outputs": [],
   "source": [
    "from sklearn.model_selection import train_test_split, StratifiedKFold, RandomizedSearchCV\n",
    "from sklearn.linear_model import LogisticRegression\n",
    "from sklearn.neighbors import KNeighborsClassifier\n",
    "from sklearn import tree,svm\n",
    "from sklearn.metrics import accuracy_score\n",
    "from sklearn.preprocessing import normalize\n",
    "import warnings\n",
    "warnings.filterwarnings('ignore')\n",
    "\n",
    "# Going to use these 5 base models for the stacking\n",
    "from sklearn.ensemble import (RandomForestClassifier, AdaBoostClassifier, \n",
    "                              GradientBoostingClassifier, ExtraTreesClassifier)\n",
    "\n",
    "import xgboost as xgb\n",
    "import lightgbm as lgb\n",
    "\n",
    "import plotly.offline as py\n",
    "py.init_notebook_mode(connected=True)\n",
    "import plotly.graph_objs as go\n",
    "import plotly.tools as tls"
   ]
  },
  {
   "cell_type": "code",
   "execution_count": null,
   "metadata": {
    "execution": {
     "iopub.execute_input": "2021-06-24T16:30:40.302716Z",
     "iopub.status.busy": "2021-06-24T16:30:40.301936Z",
     "iopub.status.idle": "2021-06-24T16:30:40.311614Z",
     "shell.execute_reply": "2021-06-24T16:30:40.310642Z",
     "shell.execute_reply.started": "2021-06-24T16:30:40.302659Z"
    }
   },
   "outputs": [],
   "source": [
    "def randomGrid_cv(clf,x_train,y_train,x_test,y_test,x_valid,params,param_comb=50,folds=5):\n",
    "    skf = StratifiedKFold(n_splits=folds,shuffle=True,random_state=1001)\n",
    "    random_search = RandomizedSearchCV(clf,param_distributions=params,n_iter=param_comb,scoring='roc_auc',n_jobs=-1,\\\n",
    "                      cv=skf.split(x_train,y_train),random_state=1001)\n",
    "    random_search.fit(x_train,y_train)\n",
    "    preds_train = random_search.predict(x_train)\n",
    "    preds_test = random_search.predict(x_test)\n",
    "    preds = random_search.predict(x_valid)\n",
    "    rfc_accuracy = accuracy_score(y_test,preds_test) * 100\n",
    "    print(\"Accuracy=\",rfc_accuracy)\n",
    "    return preds_train,preds_test,preds,random_search.best_estimator_"
   ]
  },
  {
   "cell_type": "code",
   "execution_count": null,
   "metadata": {
    "execution": {
     "iopub.execute_input": "2021-06-24T16:30:40.922335Z",
     "iopub.status.busy": "2021-06-24T16:30:40.921946Z",
     "iopub.status.idle": "2021-06-24T16:30:40.933004Z",
     "shell.execute_reply": "2021-06-24T16:30:40.931910Z",
     "shell.execute_reply.started": "2021-06-24T16:30:40.922302Z"
    }
   },
   "outputs": [],
   "source": [
    "def cross_validation(clf, x_train, y_train, x_test, y_test, x_valid, fold = 5):\n",
    "    skf = StratifiedKFold(n_splits = fold, shuffle = True, random_state = 1001)\n",
    "    accuracy_lst = []\n",
    "    valid_result = []\n",
    "    test_result = []\n",
    "    for train_index, valid_index in skf.split(x_train, y_train):\n",
    "        clf.fit(x_train.iloc[train_index,:],y_train.iloc[train_index,:])\n",
    "        y_pred = clf.predict(x_train.iloc[valid_index,:])\n",
    "        accuracy_lst.append(accuracy_score(y_train.iloc[valid_index,:],y_pred))\n",
    "        \n",
    "        y_pred_test = clf.predict_proba(x_test)\n",
    "        test_result.append(y_pred_test[:,1])\n",
    "        \n",
    "        y_pred_valid = clf.predict_proba(x_valid)\n",
    "        valid_result.append(y_pred_valid[:,1])\n",
    "        \n",
    "    test_probs = np.mean(test_result,0)\n",
    "    test_probs[np.where(test_probs>=0.5)]=1\n",
    "    test_probs[np.where(test_probs<0.5)]=0\n",
    "    \n",
    "    valid_probs = np.mean(valid_result,0)\n",
    "    valid_probs[np.where(valid_probs>=0.5)]=1\n",
    "    valid_probs[np.where(valid_probs<0.5)]=0\n",
    "    print('cross validation mean accuracy: {}'.format(np.mean(accuracy_lst)))\n",
    "    print('test accuracy: {}'.format(accuracy_score(y_test,test_probs)))\n",
    "    return valid_probs"
   ]
  },
  {
   "cell_type": "code",
   "execution_count": null,
   "metadata": {
    "execution": {
     "iopub.execute_input": "2021-06-24T16:52:46.364125Z",
     "iopub.status.busy": "2021-06-24T16:52:46.363394Z",
     "iopub.status.idle": "2021-06-24T16:52:46.380980Z",
     "shell.execute_reply": "2021-06-24T16:52:46.379360Z",
     "shell.execute_reply.started": "2021-06-24T16:52:46.364081Z"
    }
   },
   "outputs": [],
   "source": [
    "# Put in our parameters for said classifiers\n",
    "# Random Forest parameters\n",
    "rf_params = {\n",
    "    'n_jobs': [-1],\n",
    "    'n_estimators': [100*x for x in range(1,7)],\n",
    "     'warm_start': [True], \n",
    "    'max_depth': [x for x in range(1,7)],\n",
    "    'min_samples_leaf': [x for x in range(1,7)],\n",
    "    'max_features' : ['sqrt'],\n",
    "    'verbose': [0]\n",
    "}\n",
    "\n",
    "# Extra Trees Parameters\n",
    "et_params = {\n",
    "    'n_jobs': [-1],\n",
    "    'n_estimators':[100*x for x in range(1,7)],\n",
    "    #'max_features': 0.5,\n",
    "    'max_depth': [x for x in range(1,10)],\n",
    "    'min_samples_leaf': [x for x in range(1,10)],\n",
    "    'verbose': [0]\n",
    "}\n",
    "\n",
    "# AdaBoost parameters\n",
    "ada_params = {\n",
    "    'n_estimators': [100*x for x in range(1,7)],\n",
    "    'learning_rate' : [0.25*x for x in range(1,10)]\n",
    "}\n",
    "\n",
    "# Gradient Boosting parameters\n",
    "gb_params = {\n",
    "    'n_estimators': [100*x for x in range(1,7)],\n",
    "     #'max_features': 0.2,\n",
    "    'max_depth': [x for x in range(1,10)],\n",
    "    'min_samples_leaf': [x for x in range(1,10)],\n",
    "    'verbose': [0]\n",
    "}\n",
    "\n",
    "# Support Vector Classifier parameters \n",
    "svc_params = {\n",
    "    'kernel' : ['linear'],\n",
    "    'C' : [0.025*x for x in range(1,10)]\n",
    "    }\n",
    "\n",
    "# Logistic parameters \n",
    "lr_params = {\n",
    "    'penalty' : ['l1','l2'],\n",
    "    'C' : [0.01,0.1,0.5,1,10,100]\n",
    "    }\n",
    "\n",
    "# KNN parameters\n",
    "knn_params = {\n",
    "    'n_jobs': [-1],\n",
    "    'n_neighbors' : [x for x in range(1,10)],\n",
    "    'weights' : ['uniform','distance'],\n",
    "    'algorithm' : ['auto','ball_tree', 'kd_tree', 'brute'],\n",
    "    'leaf_size' : [10*x for x in range(1,10)]\n",
    "    }\n",
    "\n",
    "# lightGBM parameters\n",
    "lgb_params = {\n",
    "     'n_estimators': [100*x for x in range(1,10)],\n",
    "     'num_leaves': [10*x for x in range(1,10)],\n",
    "     'learning_rate': [0.025*x for x in range(1,10)],\n",
    "    }\n",
    "\n",
    "# xgboost parameters\n",
    "xgb_params = {\n",
    "     'n_estimators': [200*x for x in range(1,10)],\n",
    "     'max_depth': [x for x in range(1,10)],\n",
    "     'min_child_weight': [10*x for x in range(1,10)],\n",
    "     'gamma':[0.9],                        \n",
    "     'subsample':[0.8],\n",
    "     'colsample_bytree':[0.8],\n",
    "     'objective': ['binary:logistic'],\n",
    "     'nthread': [-1],\n",
    "     'scale_pos_weight':[1]\n",
    "    }"
   ]
  },
  {
   "cell_type": "code",
   "execution_count": null,
   "metadata": {
    "execution": {
     "iopub.execute_input": "2021-06-24T17:31:05.243788Z",
     "iopub.status.busy": "2021-06-24T17:31:05.243363Z",
     "iopub.status.idle": "2021-06-24T17:31:05.260850Z",
     "shell.execute_reply": "2021-06-24T17:31:05.259609Z",
     "shell.execute_reply.started": "2021-06-24T17:31:05.243751Z"
    }
   },
   "outputs": [],
   "source": [
    "df_train_x = train_df[['Pclass', 'Sex', 'Age', 'Fare', 'Embarked','FamilySize','HasCabin','Title','IsAlone','Ticket_type','Name_length','Parch']]\n",
    "\n",
    "# Target variable column\n",
    "df_train_y = train_df[['Survived']]\n",
    "\n",
    "df_test_x = test_df[['Pclass', 'Sex', 'Age', 'Fare', 'Embarked','FamilySize','HasCabin','Title','IsAlone','Ticket_type','Name_length','Parch']]\n",
    "\n",
    "x_valid = df_test_x\n",
    "\n",
    "# df_train_x['Age'] = normalize(np.array(df_train_x['Age']).reshape(1,-1),norm='max')[0]\n",
    "# df_train_x['Fare'] = normalize(np.array(df_train_x['Fare']).reshape(1,-1),norm='max')[0]\n",
    "\n",
    "\n",
    "# df_train_x.loc[ df_train_x['Age'] <= 16, 'Age'] = 0\n",
    "# df_train_x.loc[(df_train_x['Age'] > 16) & (df_train_x['Age'] <= 32), 'Age'] = 1\n",
    "# df_train_x.loc[(df_train_x['Age'] > 32) & (df_train_x['Age'] <= 48), 'Age'] = 2\n",
    "# df_train_x.loc[(df_train_x['Age'] > 48) & (df_train_x['Age'] <= 64), 'Age'] = 3\n",
    "# df_train_x.loc[ df_train_x['Age'] > 64, 'Age']\n",
    "\n",
    "# df_train_x.loc[ df_train_x['Fare'] <= 7.91, 'Fare'] = 0\n",
    "# df_train_x.loc[(df_train_x['Fare'] > 7.91) & (df_train_x['Fare'] <= 14.454), 'Fare'] = 1\n",
    "# df_train_x.loc[(df_train_x['Fare'] > 14.454) & (df_train_x['Fare'] <= 31), 'Fare']   = 2\n",
    "# df_train_x.loc[ df_train_x['Fare'] > 31, 'Fare'] = 3\n",
    "# # df_train_x['Fare'] = df_train_x['Fare'].astype(int)\n",
    "\n",
    "x_train, x_test, y_train, y_test = train_test_split(df_train_x, df_train_y, test_size=0.20, random_state=42)"
   ]
  },
  {
   "cell_type": "code",
   "execution_count": null,
   "metadata": {
    "execution": {
     "iopub.execute_input": "2021-06-24T17:31:07.935898Z",
     "iopub.status.busy": "2021-06-24T17:31:07.935530Z",
     "iopub.status.idle": "2021-06-24T17:31:33.389515Z",
     "shell.execute_reply": "2021-06-24T17:31:33.388575Z",
     "shell.execute_reply.started": "2021-06-24T17:31:07.935866Z"
    }
   },
   "outputs": [],
   "source": [
    "# lightGBM \n",
    "lgb_pred_train, lgb_pred_test, lgb_pred, lgb_estimator = randomGrid_cv(lgb.LGBMClassifier(),x_train,y_train,x_test,y_test, x_valid, lgb_params)"
   ]
  },
  {
   "cell_type": "code",
   "execution_count": null,
   "metadata": {
    "execution": {
     "iopub.execute_input": "2021-06-24T17:31:33.395482Z",
     "iopub.status.busy": "2021-06-24T17:31:33.393326Z"
    }
   },
   "outputs": [],
   "source": [
    "# random forest\n",
    "rf_pred_train, rf_pred_test, rf_pred, rf_estimator = randomGrid_cv(RandomForestClassifier(),x_train,y_train,x_test,y_test, x_valid, rf_params)"
   ]
  },
  {
   "cell_type": "code",
   "execution_count": null,
   "metadata": {},
   "outputs": [],
   "source": [
    "# Extra Trees\n",
    "et_pred_train, et_pred_test, et_pred, et_estimator = randomGrid_cv(ExtraTreesClassifier(),x_train,y_train,x_test,y_test, x_valid,et_params)"
   ]
  },
  {
   "cell_type": "code",
   "execution_count": null,
   "metadata": {},
   "outputs": [],
   "source": [
    "# adaboost\n",
    "ada_pred_train, ada_pred_test, ada_pred, ada_estimator = randomGrid_cv(AdaBoostClassifier(),x_train,y_train,x_test,y_test, x_valid,ada_params)"
   ]
  },
  {
   "cell_type": "code",
   "execution_count": null,
   "metadata": {},
   "outputs": [],
   "source": [
    "# gradient boost\n",
    "gb_pred_train, gb_pred_test, gb_pred, gb_estimator = randomGrid_cv(GradientBoostingClassifier(),x_train,y_train,x_test,y_test, x_valid,gb_params)"
   ]
  },
  {
   "cell_type": "code",
   "execution_count": null,
   "metadata": {},
   "outputs": [],
   "source": [
    "# svc\n",
    "svc_pred_train, svc_pred_test, svc_pred, svc_estimator = randomGrid_cv(svm.SVC(),x_train,y_train,x_test,y_test, x_valid,svc_params)"
   ]
  },
  {
   "cell_type": "code",
   "execution_count": null,
   "metadata": {},
   "outputs": [],
   "source": [
    "# logistic regression\n",
    "lr_pred_train, lr_pred_test, lr_pred, lr_estimator = randomGrid_cv(LogisticRegression(),x_train,y_train,x_test,y_test, x_valid,lr_params)"
   ]
  },
  {
   "cell_type": "code",
   "execution_count": null,
   "metadata": {},
   "outputs": [],
   "source": [
    "# knn\n",
    "knn_pred_train, knn_pred_test,knn_pred, knn_estimator = randomGrid_cv(KNeighborsClassifier(),x_train,y_train,x_test,y_test, x_valid,knn_params)"
   ]
  },
  {
   "cell_type": "code",
   "execution_count": null,
   "metadata": {
    "execution": {
     "iopub.execute_input": "2021-06-24T17:29:00.694718Z",
     "iopub.status.busy": "2021-06-24T17:29:00.694318Z",
     "iopub.status.idle": "2021-06-24T17:29:03.676257Z",
     "shell.execute_reply": "2021-06-24T17:29:03.674969Z",
     "shell.execute_reply.started": "2021-06-24T17:29:00.694685Z"
    }
   },
   "outputs": [],
   "source": [
    "f,ax=plt.subplots(3,2,figsize=(15,12))\n",
    "\n",
    "lgb_ = lgb_estimator.fit(x_train,y_train)\n",
    "pd.Series(lgb_.feature_importances_,x_train.columns).sort_values(ascending=True).plot.barh(width=0.8,ax=ax[0,0])\n",
    "ax[0,0].set_title('Feature Importance in LightGBM')\n",
    "\n",
    "rf = rf_estimator.fit(x_train,y_train)\n",
    "pd.Series(rf.feature_importances_,x_train.columns).sort_values(ascending=True).plot.barh(width=0.8,ax=ax[0,1],color='#ddff11')\n",
    "ax[0,1].set_title('Feature Importance in Random Forests')\n",
    "\n",
    "et = et_estimator.fit(x_train,y_train)\n",
    "pd.Series(et.feature_importances_,x_train.columns).sort_values(ascending=True).plot.barh(width=0.8,ax=ax[1,0],color='#bdaead')\n",
    "ax[1,0].set_title('Feature Importance in Extra Tree')\n",
    "\n",
    "ada = ada_estimator.fit(x_train,y_train)\n",
    "pd.Series(ada.feature_importances_,x_train.columns).sort_values(ascending=True).plot.barh(width=0.8,ax=ax[1,1],color='#FD0F00')\n",
    "ax[1,1].set_title('Feature Importance in AdaBoost')\n",
    "\n",
    "gb = ada_estimator.fit(x_train,y_train)\n",
    "pd.Series(gb.feature_importances_,x_train.columns).sort_values(ascending=True).plot.barh(width=0.8,ax=ax[2,0],color='#1f2040')\n",
    "ax[2,0].set_title('Feature Importance in GradientBoost')\n"
   ]
  },
  {
   "cell_type": "code",
   "execution_count": null,
   "metadata": {
    "execution": {
     "iopub.execute_input": "2021-06-24T16:56:51.762739Z",
     "iopub.status.busy": "2021-06-24T16:56:51.761960Z",
     "iopub.status.idle": "2021-06-24T16:56:51.774716Z",
     "shell.execute_reply": "2021-06-24T16:56:51.773626Z",
     "shell.execute_reply.started": "2021-06-24T16:56:51.762689Z"
    }
   },
   "outputs": [],
   "source": [
    "# concat results from proper models\n",
    "new_inputs_valid = pd.DataFrame({'rf_pred':rf_pred,'et_pred':et_pred,'ada_pred':ada_pred,'gb_pred':gb_pred,\\\n",
    "                           'svc_pred':svc_pred, 'lgb_pred':lgb_pred})\n",
    "\n",
    "new_inputs_train = pd.DataFrame({'rf_pred':rf_pred_train,'et_pred':et_pred_train,'ada_pred':ada_pred_train,'gb_pred':gb_pred_train,\\\n",
    "                           'svc_pred':svc_pred_train, 'lgb_pred_train':lgb_pred_train})\n",
    "\n",
    "new_inputs_test = pd.DataFrame({'rf_pred':rf_pred_test,'et_pred':et_pred_test,'ada_pred':ada_pred_test,'gb_pred':gb_pred_test,\\\n",
    "                           'svc_pred':svc_pred_test,'lgb_pred_test':lgb_pred_test})"
   ]
  },
  {
   "cell_type": "code",
   "execution_count": null,
   "metadata": {
    "execution": {
     "iopub.execute_input": "2021-06-24T16:56:55.981119Z",
     "iopub.status.busy": "2021-06-24T16:56:55.980714Z",
     "iopub.status.idle": "2021-06-24T16:56:57.356238Z",
     "shell.execute_reply": "2021-06-24T16:56:57.355172Z",
     "shell.execute_reply.started": "2021-06-24T16:56:55.981082Z"
    }
   },
   "outputs": [],
   "source": [
    "data = [\n",
    "    go.Heatmap(\n",
    "        z= new_inputs_test.astype(float).corr().values ,\n",
    "        x=new_inputs_test.columns.values,\n",
    "        y= new_inputs_test.columns.values,\n",
    "          colorscale='Viridis',\n",
    "            showscale=True,\n",
    "            reversescale = True\n",
    "    )\n",
    "]\n",
    "py.iplot(data, filename='labelled-heatmap')"
   ]
  },
  {
   "cell_type": "code",
   "execution_count": null,
   "metadata": {
    "execution": {
     "iopub.execute_input": "2021-06-24T16:57:07.876251Z",
     "iopub.status.busy": "2021-06-24T16:57:07.875710Z",
     "iopub.status.idle": "2021-06-24T16:57:07.888978Z",
     "shell.execute_reply": "2021-06-24T16:57:07.887706Z",
     "shell.execute_reply.started": "2021-06-24T16:57:07.876211Z"
    }
   },
   "outputs": [],
   "source": [
    "x_train_2nd_layer = pd.concat([x_train.reset_index(drop=True),new_inputs_train],axis=1)\n",
    "x_train_2nd_layer_te = pd.concat([x_test.reset_index(drop=True),new_inputs_test],axis=1)\n",
    "x_test_2nd_layer = pd.concat([x_valid,new_inputs_valid],axis=1)"
   ]
  },
  {
   "cell_type": "code",
   "execution_count": null,
   "metadata": {
    "execution": {
     "iopub.execute_input": "2021-06-23T18:21:27.488690Z",
     "iopub.status.busy": "2021-06-23T18:21:27.488285Z",
     "iopub.status.idle": "2021-06-23T19:38:15.237082Z",
     "shell.execute_reply": "2021-06-23T19:38:15.234667Z",
     "shell.execute_reply.started": "2021-06-23T18:21:27.488659Z"
    },
    "jupyter": {
     "outputs_hidden": true
    }
   },
   "outputs": [],
   "source": [
    "# 2nd layer model xgboost\n",
    "xgb_pred_train, xgb_pred, xgb_estimator = randomGrid_cv(xgb.XGBClassifier(),x_train_2nd_layer,y_train,x_test_2nd_layer,xgb_params)"
   ]
  },
  {
   "cell_type": "code",
   "execution_count": null,
   "metadata": {
    "execution": {
     "iopub.execute_input": "2021-06-24T16:57:13.147899Z",
     "iopub.status.busy": "2021-06-24T16:57:13.147505Z",
     "iopub.status.idle": "2021-06-24T16:57:13.153774Z",
     "shell.execute_reply": "2021-06-24T16:57:13.152407Z",
     "shell.execute_reply.started": "2021-06-24T16:57:13.147861Z"
    }
   },
   "outputs": [],
   "source": [
    "gbm = xgb.XGBClassifier(\n",
    "    #learning_rate = 0.02,\n",
    " n_estimators= 2000,\n",
    " max_depth= 4,\n",
    " min_child_weight= 2,\n",
    " #gamma=1,\n",
    " gamma=0.9,                        \n",
    " subsample=0.8,\n",
    " colsample_bytree=0.8,\n",
    " objective= 'binary:logistic',\n",
    " nthread= -1,\n",
    " scale_pos_weight=1)\n",
    "\n",
    "# .fit(x_train_2nd_layer, y_train)\n",
    "# predictions = gbm.predict(x_train_2nd_layer_te)"
   ]
  },
  {
   "cell_type": "code",
   "execution_count": null,
   "metadata": {
    "execution": {
     "iopub.execute_input": "2021-06-24T16:57:15.844051Z",
     "iopub.status.busy": "2021-06-24T16:57:15.843688Z",
     "iopub.status.idle": "2021-06-24T16:57:20.788290Z",
     "shell.execute_reply": "2021-06-24T16:57:20.787227Z",
     "shell.execute_reply.started": "2021-06-24T16:57:15.844020Z"
    }
   },
   "outputs": [],
   "source": [
    "result_include = cross_validation(gbm, x_train_2nd_layer, y_train, x_train_2nd_layer_te, y_test, x_test_2nd_layer, fold = 5)"
   ]
  },
  {
   "cell_type": "code",
   "execution_count": null,
   "metadata": {
    "execution": {
     "iopub.execute_input": "2021-06-24T16:57:25.154470Z",
     "iopub.status.busy": "2021-06-24T16:57:25.153858Z",
     "iopub.status.idle": "2021-06-24T16:57:28.012179Z",
     "shell.execute_reply": "2021-06-24T16:57:28.010979Z",
     "shell.execute_reply.started": "2021-06-24T16:57:25.154430Z"
    }
   },
   "outputs": [],
   "source": [
    "result_exclude = cross_validation(gbm, new_inputs_train, y_train, new_inputs_test, y_test, new_inputs_valid, fold = 5)"
   ]
  },
  {
   "cell_type": "code",
   "execution_count": null,
   "metadata": {
    "execution": {
     "iopub.execute_input": "2021-06-24T02:03:12.593114Z",
     "iopub.status.busy": "2021-06-24T02:03:12.592701Z",
     "iopub.status.idle": "2021-06-24T02:03:12.604592Z",
     "shell.execute_reply": "2021-06-24T02:03:12.603582Z",
     "shell.execute_reply.started": "2021-06-24T02:03:12.593080Z"
    }
   },
   "outputs": [],
   "source": [
    "result_include"
   ]
  },
  {
   "cell_type": "code",
   "execution_count": null,
   "metadata": {
    "execution": {
     "iopub.execute_input": "2021-06-23T19:40:45.070632Z",
     "iopub.status.busy": "2021-06-23T19:40:45.069931Z",
     "iopub.status.idle": "2021-06-23T19:40:45.075840Z",
     "shell.execute_reply": "2021-06-23T19:40:45.074830Z",
     "shell.execute_reply.started": "2021-06-23T19:40:45.070592Z"
    }
   },
   "outputs": [],
   "source": [
    "submission = pd.DataFrame({\n",
    "        \"PassengerId\": gender_submission[\"PassengerId\"],\n",
    "        \"Survived\": predictions\n",
    "    })\n",
    "# submission.to_csv('../output/submission.csv', index=False)"
   ]
  },
  {
   "cell_type": "code",
   "execution_count": null,
   "metadata": {
    "execution": {
     "iopub.execute_input": "2021-06-23T19:40:49.261973Z",
     "iopub.status.busy": "2021-06-23T19:40:49.261594Z",
     "iopub.status.idle": "2021-06-23T19:40:49.274589Z",
     "shell.execute_reply": "2021-06-23T19:40:49.273844Z",
     "shell.execute_reply.started": "2021-06-23T19:40:49.261943Z"
    }
   },
   "outputs": [],
   "source": [
    "submission"
   ]
  },
  {
   "cell_type": "code",
   "execution_count": null,
   "metadata": {
    "execution": {
     "iopub.execute_input": "2021-06-23T20:15:41.155602Z",
     "iopub.status.busy": "2021-06-23T20:15:41.155187Z",
     "iopub.status.idle": "2021-06-23T20:15:41.167304Z",
     "shell.execute_reply": "2021-06-23T20:15:41.165329Z",
     "shell.execute_reply.started": "2021-06-23T20:15:41.155564Z"
    }
   },
   "outputs": [],
   "source": [
    "submission.to_csv('/kaggle/working/submission.csv', index=False)"
   ]
  },
  {
   "cell_type": "code",
   "execution_count": null,
   "metadata": {
    "execution": {
     "iopub.execute_input": "2021-06-23T14:51:02.111288Z",
     "iopub.status.busy": "2021-06-23T14:51:02.110744Z",
     "iopub.status.idle": "2021-06-23T14:51:02.357394Z",
     "shell.execute_reply": "2021-06-23T14:51:02.356118Z",
     "shell.execute_reply.started": "2021-06-23T14:51:02.111233Z"
    }
   },
   "outputs": [],
   "source": [
    "clf1 = RandomForestClassifier()\n",
    "clf1.fit(x_train, y_train)\n",
    "rfc_y_pred = clf1.predict(x_test)\n",
    "rfc_accuracy = accuracy_score(y_test,rfc_y_pred) * 100\n",
    "print(\"No scaling processing, accuracy=\",rfc_accuracy)"
   ]
  },
  {
   "cell_type": "code",
   "execution_count": null,
   "metadata": {
    "execution": {
     "iopub.execute_input": "2021-06-23T14:49:06.142781Z",
     "iopub.status.busy": "2021-06-23T14:49:06.142397Z",
     "iopub.status.idle": "2021-06-23T14:49:06.386315Z",
     "shell.execute_reply": "2021-06-23T14:49:06.385304Z",
     "shell.execute_reply.started": "2021-06-23T14:49:06.142746Z"
    }
   },
   "outputs": [],
   "source": [
    "clf1 = RandomForestClassifier()\n",
    "clf1.fit(x_train, y_train)\n",
    "rfc_y_pred = clf1.predict(x_test)\n",
    "rfc_accuracy = accuracy_score(y_test,rfc_y_pred) * 100\n",
    "print(\"Max-min normalization, accuracy=\",rfc_accuracy)"
   ]
  },
  {
   "cell_type": "code",
   "execution_count": null,
   "metadata": {
    "execution": {
     "iopub.execute_input": "2021-06-23T01:35:24.898405Z",
     "iopub.status.busy": "2021-06-23T01:35:24.898004Z",
     "iopub.status.idle": "2021-06-23T01:35:25.089093Z",
     "shell.execute_reply": "2021-06-23T01:35:25.087804Z",
     "shell.execute_reply.started": "2021-06-23T01:35:24.898368Z"
    }
   },
   "outputs": [],
   "source": [
    "clf1 = RandomForestClassifier()\n",
    "clf1.fit(x_train, y_train)\n",
    "rfc_y_pred = clf1.predict(x_test)\n",
    "rfc_accuracy = accuracy_score(y_test,rfc_y_pred) * 100\n",
    "print(\"cut and qcut, accuracy=\",rfc_accuracy)"
   ]
  },
  {
   "cell_type": "code",
   "execution_count": null,
   "metadata": {},
   "outputs": [],
   "source": [
    "# cross validation\n",
    "# emsamble and stacking"
   ]
  }
 ],
 "metadata": {
  "kernelspec": {
   "display_name": "Python 3",
   "language": "python",
   "name": "python3"
  },
  "language_info": {
   "codemirror_mode": {
    "name": "ipython",
    "version": 3
   },
   "file_extension": ".py",
   "mimetype": "text/x-python",
   "name": "python",
   "nbconvert_exporter": "python",
   "pygments_lexer": "ipython3",
   "version": "3.8.3"
  }
 },
 "nbformat": 4,
 "nbformat_minor": 4
}
