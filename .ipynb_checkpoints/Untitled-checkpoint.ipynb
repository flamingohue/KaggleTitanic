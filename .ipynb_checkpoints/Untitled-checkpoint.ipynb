{
 "cells": [
  {
   "cell_type": "code",
   "execution_count": 1,
   "metadata": {},
   "outputs": [
    {
     "ename": "SyntaxError",
     "evalue": "unexpected character after line continuation character (<ipython-input-1-5ace8bfa916a>, line 31)",
     "output_type": "error",
     "traceback": [
      "\u001b[1;36m  File \u001b[1;32m\"<ipython-input-1-5ace8bfa916a>\"\u001b[1;36m, line \u001b[1;32m31\u001b[0m\n\u001b[1;33m    print(\\n+str(self.var_lst[i])\u001b[0m\n\u001b[1;37m                                 ^\u001b[0m\n\u001b[1;31mSyntaxError\u001b[0m\u001b[1;31m:\u001b[0m unexpected character after line continuation character\n"
     ]
    }
   ],
   "source": [
    "#!/usr/bin/env python\n",
    "# coding: utf-8\n",
    "\n",
    "# In[ ]:\n",
    "import pandas as pd\n",
    "\n",
    "class EDA(object):\n",
    "    \n",
    "    def __init__(self,data,var_lst,target):\n",
    "        self.data=data,\n",
    "        self.var_lst=var_lst\n",
    "        self.tartget=target\n",
    "        \n",
    "    def missing_check(self):\n",
    "        miss=[]\n",
    "        for i in range(len(self.var_lst)):\n",
    "            missing_count=sum(self.data[var_lst[i]].isnull())\n",
    "            miss.append([self.var_lst[i],missing_count])\n",
    "        miss_tbl=pd.DataFrame(miss,columns=['','missing_counts'])\n",
    "        miss_tbl=miss_tbl.set_index('')\n",
    "        total=len(self.data)\n",
    "        miss_tbl['missing_rate']=miss_tbl['missing_counts']/total\n",
    "        miss_tbl['missing_rate']=pd.Series(['{0:.2f}%'.format(val*100) for val in  miss_tbl['missing_rate']],index=miss_tbl.index)\n",
    "        print(\"####################  Variable Missing Check ####################\")\n",
    "        print(miss_tbl)\n",
    "        \n",
    "    def value_check(self):\n",
    "        miss=[]\n",
    "        for i in range(len(self.var_lst)):\n",
    "            print('')\n",
    "            print(\\n+str(self.var_lst[i])\n",
    "            print(self.data[self.var_lst[i]].value_counts(dropna=False).sort_index())\n",
    "    \n",
    "    def value_check(self):\n",
    "        miss=[]\n",
    "        for i in range(len(self.var_lst)):\n",
    "            print('')\n",
    "            print(\\n+str(self.var_lst[i])\n",
    "            print(self.data[self.var_lst[i]].value_counts(dropna=False).sort_index())"
   ]
  },
  {
   "cell_type": "code",
   "execution_count": null,
   "metadata": {},
   "outputs": [],
   "source": []
  }
 ],
 "metadata": {
  "kernelspec": {
   "display_name": "Python 3",
   "language": "python",
   "name": "python3"
  },
  "language_info": {
   "codemirror_mode": {
    "name": "ipython",
    "version": 3
   },
   "file_extension": ".py",
   "mimetype": "text/x-python",
   "name": "python",
   "nbconvert_exporter": "python",
   "pygments_lexer": "ipython3",
   "version": "3.8.3"
  }
 },
 "nbformat": 4,
 "nbformat_minor": 4
}
