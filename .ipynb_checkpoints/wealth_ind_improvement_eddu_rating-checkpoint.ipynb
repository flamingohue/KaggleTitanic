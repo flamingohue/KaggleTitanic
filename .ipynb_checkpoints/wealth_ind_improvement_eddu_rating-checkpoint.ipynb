{
 "cells": [
  {
   "cell_type": "markdown",
   "metadata": {},
   "source": [
    "# Extracting the datasets"
   ]
  },
  {
   "cell_type": "code",
   "execution_count": 1,
   "metadata": {},
   "outputs": [],
   "source": [
    "import sys, os\n",
    "\n",
    "user = os.environ[\"USER\"]\n",
    "path = '/home/{}/notebook/repos/common'.format(user) # feel free to update\n",
    "import pyspark.sql.functions as F\n",
    "sys.path.insert(0, path)\n",
    "# import utils_bat\n",
    "from IPython.core.interactiveshell import InteractiveShell\n",
    "import pandas as pd\n",
    "InteractiveShell.ast_node_interactivity = \"all\"\n",
    "from crr_common import crr_utils as cu"
   ]
  },
  {
   "cell_type": "code",
   "execution_count": 2,
   "metadata": {},
   "outputs": [],
   "source": [
    "spark, hc = cu.connectSpark(edl_env = 'prd', resource_level = 'high')"
   ]
  },
  {
   "cell_type": "code",
   "execution_count": 3,
   "metadata": {},
   "outputs": [],
   "source": [
    "pd.set_option('display.max_columns', None)"
   ]
  },
  {
   "cell_type": "code",
   "execution_count": 4,
   "metadata": {},
   "outputs": [],
   "source": [
    "# Extract kdd_cases\n",
    "qry = \"\"\"\n",
    "SELECT c.CREATED_TS, c.CASE_INTRL_ID, c.CNTRY_KEY_ID,\n",
    "c.STATUS_CD, c.CASE_RESOLUTION, c.CASE_RESOLUTION_COMMENTS,\n",
    "c.RA_ID,\n",
    "ksc.STATUS_NM, ksc.CLOSED_STATUS_FL,\n",
    "ra.n_ra_id, ra.v_cust_number, ra.v_jrsdcn_cd\n",
    "FROM ECMREAD1.kdd_cases c\n",
    "LEFT JOIN ECMREAD1.kdd_status ksc ON ksc.status_cd = c.status_cd \n",
    "LEFT JOIN ECMREAD1.fct_ra ra on c.case_intrl_id = ra.v_case_ref\n",
    "WHERE ra.n_ra_id IS NOT NULL AND ksc.CLOSED_STATUS_FL='Y'\n",
    "\"\"\"\n",
    "\n",
    "kdd_cases = cu.fetch(qry,'o808',spark)"
   ]
  },
  {
   "cell_type": "code",
   "execution_count": 5,
   "metadata": {},
   "outputs": [],
   "source": [
    "# Extract the wlthin indormation and set the eddu_rating is not null\n",
    "\n",
    "psql_qry = \"\"\"\n",
    "SELECT *\n",
    "FROM   ca.wlthind_ra_param\n",
    "WHERE EDDU_RATING IS NOT NULL\n",
    "\"\"\"\n",
    "\n",
    "psql_spark_df = cu.fetch(psql_qry, 'psql', spark)"
   ]
  },
  {
   "cell_type": "code",
   "execution_count": 6,
   "metadata": {},
   "outputs": [],
   "source": [
    "rm_df = (psql_spark_df.withColumn('match_id',F.concat(F.col('cust_number'),F.lit(\"_\"),F.col('ra_id')))\n",
    "                 .join(kdd_cases.withColumn('match_id',F.concat(F.col('CNTRY_KEY_ID'),F.lit(\"_\"),F.col('N_RA_ID'))).select('match_id')\n",
    "                       ,how = 'inner', on = 'match_id')\n",
    "                 .drop('match_id')\n",
    "                 .distinct()\n",
    "                 .cache())"
   ]
  },
  {
   "cell_type": "code",
   "execution_count": 7,
   "metadata": {},
   "outputs": [],
   "source": [
    "# Transform data to pandas dataframe\n",
    "rm_df2 = rm_df.toPandas()"
   ]
  },
  {
   "cell_type": "code",
   "execution_count": 8,
   "metadata": {},
   "outputs": [],
   "source": [
    "# Factor map for occupation and country\n",
    "factor_map_country = pd.read_csv(\"Country_Rating_Score.csv\")\n",
    "high_risk_country = factor_map_country['iso_code'].loc[factor_map_country['crr_rating'].isin([99,50])].tolist()\n",
    "\n",
    "factor_map_occup = pd.read_csv('/home/s4353021/wealth/occupation_scoring.csv')\n",
    "high_risk_occup = factor_map_occup['Occupation_Code'].loc[factor_map_occup['Scotia_Risk_Value'].isin(['High','Moderate'])].apply(lambda x:str(x)).tolist()"
   ]
  },
  {
   "cell_type": "code",
   "execution_count": 9,
   "metadata": {},
   "outputs": [
    {
     "data": {
      "text/plain": [
       "(2366, 26)"
      ]
     },
     "execution_count": 9,
     "metadata": {},
     "output_type": "execute_result"
    }
   ],
   "source": [
    "rm_df2.shape"
   ]
  },
  {
   "cell_type": "code",
   "execution_count": 10,
   "metadata": {},
   "outputs": [
    {
     "data": {
      "text/plain": [
       "1.0    1258\n",
       "2.0     877\n",
       "4.0     132\n",
       "3.0      99\n",
       "Name: eddu_rating, dtype: int64"
      ]
     },
     "execution_count": 10,
     "metadata": {},
     "output_type": "execute_result"
    }
   ],
   "source": [
    "rm_df2['eddu_rating'].value_counts()"
   ]
  },
  {
   "cell_type": "code",
   "execution_count": 11,
   "metadata": {},
   "outputs": [
    {
     "data": {
      "text/plain": [
       "High         1225\n",
       "Medium        864\n",
       "Low           211\n",
       "Auto-High      66\n",
       "Name: crr_rating, dtype: int64"
      ]
     },
     "execution_count": 11,
     "metadata": {},
     "output_type": "execute_result"
    }
   ],
   "source": [
    "rm_df2['crr_rating'].value_counts()"
   ]
  },
  {
   "cell_type": "code",
   "execution_count": 12,
   "metadata": {},
   "outputs": [],
   "source": [
    "# add extra samples outside EDDU cases\n",
    "# psql_qry_add = \"\"\"\n",
    "# SELECT *\n",
    "# FROM   ca.wlthind_ra_param\n",
    "# WHERE EDDU_RATING IS NULL\n",
    "# \"\"\""
   ]
  },
  {
   "cell_type": "code",
   "execution_count": 13,
   "metadata": {},
   "outputs": [],
   "source": [
    "# psql_add = cu.fetch(psql_qry_add,'psql',spark)"
   ]
  },
  {
   "cell_type": "code",
   "execution_count": 14,
   "metadata": {},
   "outputs": [],
   "source": [
    "#stratified sampling to make data more balanced\n",
    "# psql_add1 = (psql_add.filter((F.col('assoc_cntry_cd').isin(high_risk_country))&(F.col('crr_rating')=='High')).sample(False,0.4,seed=0)\n",
    "#             .union(psql_add.filter((F.col('ocptn_cd').isin(high_risk_occup))&(F.col('crr_rating')=='High')).sample(False,0.06,seed=0))\n",
    "#             .union(psql_add.filter((F.col('crr_rating')=='Medium')|(F.col('crr_rating')=='Low')).sample(False,0.0002,seed=0))\n",
    "#            .distinct()\n",
    "#            .cache())"
   ]
  },
  {
   "cell_type": "code",
   "execution_count": 15,
   "metadata": {},
   "outputs": [],
   "source": [
    "# rm_df2 = psql_add1.toPandas()"
   ]
  },
  {
   "cell_type": "code",
   "execution_count": 16,
   "metadata": {},
   "outputs": [
    {
     "data": {
      "text/html": [
       "<div>\n",
       "<style scoped>\n",
       "    .dataframe tbody tr th:only-of-type {\n",
       "        vertical-align: middle;\n",
       "    }\n",
       "\n",
       "    .dataframe tbody tr th {\n",
       "        vertical-align: top;\n",
       "    }\n",
       "\n",
       "    .dataframe thead th {\n",
       "        text-align: right;\n",
       "    }\n",
       "</style>\n",
       "<table border=\"1\" class=\"dataframe\">\n",
       "  <thead>\n",
       "    <tr style=\"text-align: right;\">\n",
       "      <th></th>\n",
       "      <th>cust_number</th>\n",
       "      <th>ra_id</th>\n",
       "      <th>jrsdcn_cd</th>\n",
       "      <th>base_score</th>\n",
       "      <th>crr_score</th>\n",
       "      <th>crr_rating</th>\n",
       "      <th>eddu_score</th>\n",
       "      <th>eddu_rating</th>\n",
       "      <th>ra_created_dt</th>\n",
       "      <th>ra_modified_dt</th>\n",
       "      <th>line_of_business</th>\n",
       "      <th>assoc_cntry_cd</th>\n",
       "      <th>assoc_cntry_nm</th>\n",
       "      <th>tenure_days</th>\n",
       "      <th>ocptn_cd</th>\n",
       "      <th>ocptn_nm</th>\n",
       "      <th>pep_type</th>\n",
       "      <th>str_cnt</th>\n",
       "      <th>all_prod_registered</th>\n",
       "      <th>non_discretionary_acct</th>\n",
       "      <th>avg_bal_l4m</th>\n",
       "      <th>overlay_depbal_cntry</th>\n",
       "      <th>overlay_pep</th>\n",
       "      <th>overlay_pep_str_regd</th>\n",
       "      <th>overlay_str</th>\n",
       "      <th>insert_tstp</th>\n",
       "    </tr>\n",
       "  </thead>\n",
       "  <tbody>\n",
       "    <tr>\n",
       "      <th>0</th>\n",
       "      <td>KYC364688</td>\n",
       "      <td>40218205</td>\n",
       "      <td>WM04</td>\n",
       "      <td>44.0</td>\n",
       "      <td>96.0</td>\n",
       "      <td>High</td>\n",
       "      <td>40.0</td>\n",
       "      <td>1.0</td>\n",
       "      <td>2020-10-22 00:43:04</td>\n",
       "      <td>2021-03-01 08:35:56</td>\n",
       "      <td>ScotiaMcleod Personal</td>\n",
       "      <td>CA</td>\n",
       "      <td>CANADA</td>\n",
       "      <td>6546.0</td>\n",
       "      <td>UNK</td>\n",
       "      <td>Unknown Occupation</td>\n",
       "      <td>N/A</td>\n",
       "      <td>0.0</td>\n",
       "      <td>No</td>\n",
       "      <td>3.0</td>\n",
       "      <td>11269556.25</td>\n",
       "      <td>Deposit Balance: 11269556.25 | Domicile Countr...</td>\n",
       "      <td>None</td>\n",
       "      <td>None</td>\n",
       "      <td>None</td>\n",
       "      <td>2021-03-29 23:59:08</td>\n",
       "    </tr>\n",
       "    <tr>\n",
       "      <th>1</th>\n",
       "      <td>KYC1030424</td>\n",
       "      <td>34997568</td>\n",
       "      <td>WM04</td>\n",
       "      <td>69.0</td>\n",
       "      <td>99.0</td>\n",
       "      <td>Medium</td>\n",
       "      <td>52.0</td>\n",
       "      <td>2.0</td>\n",
       "      <td>2019-11-17 02:21:07</td>\n",
       "      <td>2020-03-24 13:14:22</td>\n",
       "      <td>ScotiaMcleod Personal</td>\n",
       "      <td>CA</td>\n",
       "      <td>CANADA</td>\n",
       "      <td>4660.0</td>\n",
       "      <td>5</td>\n",
       "      <td>Administrator</td>\n",
       "      <td>N/A</td>\n",
       "      <td>0.0</td>\n",
       "      <td>No</td>\n",
       "      <td>6.0</td>\n",
       "      <td>52165159.50</td>\n",
       "      <td>Deposit Balance: 52165159.5 | Domicile Country...</td>\n",
       "      <td>None</td>\n",
       "      <td>None</td>\n",
       "      <td>None</td>\n",
       "      <td>2021-03-29 23:59:08</td>\n",
       "    </tr>\n",
       "    <tr>\n",
       "      <th>2</th>\n",
       "      <td>KYC20180823A00033</td>\n",
       "      <td>36084926</td>\n",
       "      <td>WM17</td>\n",
       "      <td>63.0</td>\n",
       "      <td>63.0</td>\n",
       "      <td>High</td>\n",
       "      <td>40.0</td>\n",
       "      <td>1.0</td>\n",
       "      <td>2019-11-17 02:21:07</td>\n",
       "      <td>2021-01-06 15:30:16</td>\n",
       "      <td>IIA Personal</td>\n",
       "      <td>TL</td>\n",
       "      <td>TIMOR-LESTE</td>\n",
       "      <td>473.0</td>\n",
       "      <td>UNK</td>\n",
       "      <td>Unknown Occupation</td>\n",
       "      <td>N/A</td>\n",
       "      <td>0.0</td>\n",
       "      <td>No</td>\n",
       "      <td>1.0</td>\n",
       "      <td>4799858.25</td>\n",
       "      <td>None</td>\n",
       "      <td>None</td>\n",
       "      <td>None</td>\n",
       "      <td>None</td>\n",
       "      <td>2021-03-29 23:59:08</td>\n",
       "    </tr>\n",
       "    <tr>\n",
       "      <th>3</th>\n",
       "      <td>KYC665528</td>\n",
       "      <td>35311257</td>\n",
       "      <td>WM06</td>\n",
       "      <td>78.0</td>\n",
       "      <td>99.0</td>\n",
       "      <td>Medium</td>\n",
       "      <td>52.0</td>\n",
       "      <td>2.0</td>\n",
       "      <td>2019-11-17 02:21:07</td>\n",
       "      <td>2020-11-05 15:44:25</td>\n",
       "      <td>Wealth ITrade Personal</td>\n",
       "      <td>CA</td>\n",
       "      <td>CANADA</td>\n",
       "      <td>5284.0</td>\n",
       "      <td>UNK</td>\n",
       "      <td>Unknown Occupation</td>\n",
       "      <td>PEDP (Politically Exposed Domestic PEP)</td>\n",
       "      <td>0.0</td>\n",
       "      <td>No</td>\n",
       "      <td>1.0</td>\n",
       "      <td>16494.50</td>\n",
       "      <td>None</td>\n",
       "      <td>DOM - Domestic PEP</td>\n",
       "      <td>None</td>\n",
       "      <td>None</td>\n",
       "      <td>2021-03-29 23:59:08</td>\n",
       "    </tr>\n",
       "    <tr>\n",
       "      <th>4</th>\n",
       "      <td>KYC85099</td>\n",
       "      <td>35257349</td>\n",
       "      <td>WM04</td>\n",
       "      <td>39.0</td>\n",
       "      <td>91.0</td>\n",
       "      <td>High</td>\n",
       "      <td>40.0</td>\n",
       "      <td>1.0</td>\n",
       "      <td>2019-11-17 02:21:07</td>\n",
       "      <td>2021-04-01 10:37:22</td>\n",
       "      <td>ScotiaMcleod Personal</td>\n",
       "      <td>CA</td>\n",
       "      <td>CANADA</td>\n",
       "      <td>6206.0</td>\n",
       "      <td>E902</td>\n",
       "      <td>Retired</td>\n",
       "      <td>N/A</td>\n",
       "      <td>0.0</td>\n",
       "      <td>No</td>\n",
       "      <td>4.0</td>\n",
       "      <td>10070544.75</td>\n",
       "      <td>Deposit Balance: 10070544.75 | Domicile Countr...</td>\n",
       "      <td>None</td>\n",
       "      <td>None</td>\n",
       "      <td>None</td>\n",
       "      <td>2021-04-02 15:42:30</td>\n",
       "    </tr>\n",
       "    <tr>\n",
       "      <th>...</th>\n",
       "      <td>...</td>\n",
       "      <td>...</td>\n",
       "      <td>...</td>\n",
       "      <td>...</td>\n",
       "      <td>...</td>\n",
       "      <td>...</td>\n",
       "      <td>...</td>\n",
       "      <td>...</td>\n",
       "      <td>...</td>\n",
       "      <td>...</td>\n",
       "      <td>...</td>\n",
       "      <td>...</td>\n",
       "      <td>...</td>\n",
       "      <td>...</td>\n",
       "      <td>...</td>\n",
       "      <td>...</td>\n",
       "      <td>...</td>\n",
       "      <td>...</td>\n",
       "      <td>...</td>\n",
       "      <td>...</td>\n",
       "      <td>...</td>\n",
       "      <td>...</td>\n",
       "      <td>...</td>\n",
       "      <td>...</td>\n",
       "      <td>...</td>\n",
       "      <td>...</td>\n",
       "    </tr>\n",
       "    <tr>\n",
       "      <th>2361</th>\n",
       "      <td>KYC20171219A00045</td>\n",
       "      <td>35446655</td>\n",
       "      <td>WM04</td>\n",
       "      <td>56.0</td>\n",
       "      <td>56.0</td>\n",
       "      <td>Medium</td>\n",
       "      <td>52.0</td>\n",
       "      <td>2.0</td>\n",
       "      <td>2019-11-17 02:21:07</td>\n",
       "      <td>2020-11-05 16:04:15</td>\n",
       "      <td>ScotiaMcleod Personal</td>\n",
       "      <td>UNK</td>\n",
       "      <td>Unknown country</td>\n",
       "      <td>1418.0</td>\n",
       "      <td>UNK</td>\n",
       "      <td>Unknown Occupation</td>\n",
       "      <td>N/A</td>\n",
       "      <td>0.0</td>\n",
       "      <td>No</td>\n",
       "      <td>1.0</td>\n",
       "      <td>0.00</td>\n",
       "      <td>None</td>\n",
       "      <td>None</td>\n",
       "      <td>None</td>\n",
       "      <td>None</td>\n",
       "      <td>2021-03-29 23:59:08</td>\n",
       "    </tr>\n",
       "    <tr>\n",
       "      <th>2362</th>\n",
       "      <td>KYC20191025A00031</td>\n",
       "      <td>36028344</td>\n",
       "      <td>WM17</td>\n",
       "      <td>62.0</td>\n",
       "      <td>62.0</td>\n",
       "      <td>High</td>\n",
       "      <td>40.0</td>\n",
       "      <td>1.0</td>\n",
       "      <td>2019-11-17 02:21:07</td>\n",
       "      <td>2021-04-07 18:10:32</td>\n",
       "      <td>IIA Personal</td>\n",
       "      <td>MX</td>\n",
       "      <td>MEXICO</td>\n",
       "      <td>86.0</td>\n",
       "      <td>UNK</td>\n",
       "      <td>Unknown Occupation</td>\n",
       "      <td>N/A</td>\n",
       "      <td>0.0</td>\n",
       "      <td>No</td>\n",
       "      <td>1.0</td>\n",
       "      <td>1347211.00</td>\n",
       "      <td>None</td>\n",
       "      <td>None</td>\n",
       "      <td>None</td>\n",
       "      <td>None</td>\n",
       "      <td>2021-04-09 09:46:25</td>\n",
       "    </tr>\n",
       "    <tr>\n",
       "      <th>2363</th>\n",
       "      <td>KYC1035496</td>\n",
       "      <td>35951995</td>\n",
       "      <td>WM17</td>\n",
       "      <td>61.0</td>\n",
       "      <td>61.0</td>\n",
       "      <td>High</td>\n",
       "      <td>40.0</td>\n",
       "      <td>1.0</td>\n",
       "      <td>2019-11-17 02:21:07</td>\n",
       "      <td>2021-04-14 13:59:02</td>\n",
       "      <td>IIA Personal</td>\n",
       "      <td>DO</td>\n",
       "      <td>DOMINICAN REPUBLIC</td>\n",
       "      <td>4636.0</td>\n",
       "      <td>118</td>\n",
       "      <td>Doctor</td>\n",
       "      <td>N/A</td>\n",
       "      <td>0.0</td>\n",
       "      <td>No</td>\n",
       "      <td>0.0</td>\n",
       "      <td>1017725.00</td>\n",
       "      <td>None</td>\n",
       "      <td>None</td>\n",
       "      <td>None</td>\n",
       "      <td>None</td>\n",
       "      <td>2021-04-16 09:53:14</td>\n",
       "    </tr>\n",
       "    <tr>\n",
       "      <th>2364</th>\n",
       "      <td>KYC1666217</td>\n",
       "      <td>35260308</td>\n",
       "      <td>WM04</td>\n",
       "      <td>33.0</td>\n",
       "      <td>33.0</td>\n",
       "      <td>Low</td>\n",
       "      <td>100.0</td>\n",
       "      <td>4.0</td>\n",
       "      <td>2019-11-17 02:21:07</td>\n",
       "      <td>2019-11-17 09:21:36</td>\n",
       "      <td>ScotiaMcleod Personal</td>\n",
       "      <td>CA</td>\n",
       "      <td>CANADA</td>\n",
       "      <td>1859.0</td>\n",
       "      <td>UNK</td>\n",
       "      <td>Unknown Occupation</td>\n",
       "      <td>N/A</td>\n",
       "      <td>0.0</td>\n",
       "      <td>No</td>\n",
       "      <td>3.0</td>\n",
       "      <td>472768.25</td>\n",
       "      <td>None</td>\n",
       "      <td>None</td>\n",
       "      <td>None</td>\n",
       "      <td>None</td>\n",
       "      <td>2021-03-29 23:59:08</td>\n",
       "    </tr>\n",
       "    <tr>\n",
       "      <th>2365</th>\n",
       "      <td>KYC56079</td>\n",
       "      <td>37939433</td>\n",
       "      <td>WM06</td>\n",
       "      <td>76.0</td>\n",
       "      <td>99.0</td>\n",
       "      <td>Low</td>\n",
       "      <td>39.0</td>\n",
       "      <td>1.0</td>\n",
       "      <td>2020-03-19 00:23:55</td>\n",
       "      <td>2020-07-28 16:20:26</td>\n",
       "      <td>Wealth ITrade Personal</td>\n",
       "      <td>CA</td>\n",
       "      <td>CANADA</td>\n",
       "      <td>6328.0</td>\n",
       "      <td>UNK</td>\n",
       "      <td>Unknown Occupation</td>\n",
       "      <td>PEFP (Politically Exposed Foreign PEP)</td>\n",
       "      <td>0.0</td>\n",
       "      <td>No</td>\n",
       "      <td>1.0</td>\n",
       "      <td>0.00</td>\n",
       "      <td>None</td>\n",
       "      <td>FOR - Foreign PEP</td>\n",
       "      <td>None</td>\n",
       "      <td>None</td>\n",
       "      <td>2021-03-29 23:59:08</td>\n",
       "    </tr>\n",
       "  </tbody>\n",
       "</table>\n",
       "<p>2366 rows × 26 columns</p>\n",
       "</div>"
      ],
      "text/plain": [
       "            cust_number     ra_id jrsdcn_cd  base_score  crr_score crr_rating  \\\n",
       "0             KYC364688  40218205      WM04        44.0       96.0       High   \n",
       "1            KYC1030424  34997568      WM04        69.0       99.0     Medium   \n",
       "2     KYC20180823A00033  36084926      WM17        63.0       63.0       High   \n",
       "3             KYC665528  35311257      WM06        78.0       99.0     Medium   \n",
       "4              KYC85099  35257349      WM04        39.0       91.0       High   \n",
       "...                 ...       ...       ...         ...        ...        ...   \n",
       "2361  KYC20171219A00045  35446655      WM04        56.0       56.0     Medium   \n",
       "2362  KYC20191025A00031  36028344      WM17        62.0       62.0       High   \n",
       "2363         KYC1035496  35951995      WM17        61.0       61.0       High   \n",
       "2364         KYC1666217  35260308      WM04        33.0       33.0        Low   \n",
       "2365           KYC56079  37939433      WM06        76.0       99.0        Low   \n",
       "\n",
       "      eddu_score  eddu_rating       ra_created_dt      ra_modified_dt  \\\n",
       "0           40.0          1.0 2020-10-22 00:43:04 2021-03-01 08:35:56   \n",
       "1           52.0          2.0 2019-11-17 02:21:07 2020-03-24 13:14:22   \n",
       "2           40.0          1.0 2019-11-17 02:21:07 2021-01-06 15:30:16   \n",
       "3           52.0          2.0 2019-11-17 02:21:07 2020-11-05 15:44:25   \n",
       "4           40.0          1.0 2019-11-17 02:21:07 2021-04-01 10:37:22   \n",
       "...          ...          ...                 ...                 ...   \n",
       "2361        52.0          2.0 2019-11-17 02:21:07 2020-11-05 16:04:15   \n",
       "2362        40.0          1.0 2019-11-17 02:21:07 2021-04-07 18:10:32   \n",
       "2363        40.0          1.0 2019-11-17 02:21:07 2021-04-14 13:59:02   \n",
       "2364       100.0          4.0 2019-11-17 02:21:07 2019-11-17 09:21:36   \n",
       "2365        39.0          1.0 2020-03-19 00:23:55 2020-07-28 16:20:26   \n",
       "\n",
       "            line_of_business assoc_cntry_cd      assoc_cntry_nm  tenure_days  \\\n",
       "0      ScotiaMcleod Personal             CA              CANADA       6546.0   \n",
       "1      ScotiaMcleod Personal             CA              CANADA       4660.0   \n",
       "2               IIA Personal             TL         TIMOR-LESTE        473.0   \n",
       "3     Wealth ITrade Personal             CA              CANADA       5284.0   \n",
       "4      ScotiaMcleod Personal             CA              CANADA       6206.0   \n",
       "...                      ...            ...                 ...          ...   \n",
       "2361   ScotiaMcleod Personal            UNK     Unknown country       1418.0   \n",
       "2362            IIA Personal             MX              MEXICO         86.0   \n",
       "2363            IIA Personal             DO  DOMINICAN REPUBLIC       4636.0   \n",
       "2364   ScotiaMcleod Personal             CA              CANADA       1859.0   \n",
       "2365  Wealth ITrade Personal             CA              CANADA       6328.0   \n",
       "\n",
       "     ocptn_cd            ocptn_nm                                 pep_type  \\\n",
       "0         UNK  Unknown Occupation                                      N/A   \n",
       "1           5       Administrator                                      N/A   \n",
       "2         UNK  Unknown Occupation                                      N/A   \n",
       "3         UNK  Unknown Occupation  PEDP (Politically Exposed Domestic PEP)   \n",
       "4        E902             Retired                                      N/A   \n",
       "...       ...                 ...                                      ...   \n",
       "2361      UNK  Unknown Occupation                                      N/A   \n",
       "2362      UNK  Unknown Occupation                                      N/A   \n",
       "2363      118              Doctor                                      N/A   \n",
       "2364      UNK  Unknown Occupation                                      N/A   \n",
       "2365      UNK  Unknown Occupation   PEFP (Politically Exposed Foreign PEP)   \n",
       "\n",
       "      str_cnt all_prod_registered  non_discretionary_acct  avg_bal_l4m  \\\n",
       "0         0.0                  No                     3.0  11269556.25   \n",
       "1         0.0                  No                     6.0  52165159.50   \n",
       "2         0.0                  No                     1.0   4799858.25   \n",
       "3         0.0                  No                     1.0     16494.50   \n",
       "4         0.0                  No                     4.0  10070544.75   \n",
       "...       ...                 ...                     ...          ...   \n",
       "2361      0.0                  No                     1.0         0.00   \n",
       "2362      0.0                  No                     1.0   1347211.00   \n",
       "2363      0.0                  No                     0.0   1017725.00   \n",
       "2364      0.0                  No                     3.0    472768.25   \n",
       "2365      0.0                  No                     1.0         0.00   \n",
       "\n",
       "                                   overlay_depbal_cntry         overlay_pep  \\\n",
       "0     Deposit Balance: 11269556.25 | Domicile Countr...                None   \n",
       "1     Deposit Balance: 52165159.5 | Domicile Country...                None   \n",
       "2                                                  None                None   \n",
       "3                                                  None  DOM - Domestic PEP   \n",
       "4     Deposit Balance: 10070544.75 | Domicile Countr...                None   \n",
       "...                                                 ...                 ...   \n",
       "2361                                               None                None   \n",
       "2362                                               None                None   \n",
       "2363                                               None                None   \n",
       "2364                                               None                None   \n",
       "2365                                               None   FOR - Foreign PEP   \n",
       "\n",
       "     overlay_pep_str_regd overlay_str         insert_tstp  \n",
       "0                    None        None 2021-03-29 23:59:08  \n",
       "1                    None        None 2021-03-29 23:59:08  \n",
       "2                    None        None 2021-03-29 23:59:08  \n",
       "3                    None        None 2021-03-29 23:59:08  \n",
       "4                    None        None 2021-04-02 15:42:30  \n",
       "...                   ...         ...                 ...  \n",
       "2361                 None        None 2021-03-29 23:59:08  \n",
       "2362                 None        None 2021-04-09 09:46:25  \n",
       "2363                 None        None 2021-04-16 09:53:14  \n",
       "2364                 None        None 2021-03-29 23:59:08  \n",
       "2365                 None        None 2021-03-29 23:59:08  \n",
       "\n",
       "[2366 rows x 26 columns]"
      ]
     },
     "execution_count": 16,
     "metadata": {},
     "output_type": "execute_result"
    }
   ],
   "source": [
    "rm_df2[~rm_df2['eddu_score'].isnull()]"
   ]
  },
  {
   "cell_type": "code",
   "execution_count": 17,
   "metadata": {},
   "outputs": [],
   "source": [
    "down=rm_df2[rm_df2['crr_score']>52]"
   ]
  },
  {
   "cell_type": "code",
   "execution_count": 18,
   "metadata": {},
   "outputs": [
    {
     "data": {
      "text/plain": [
       "(2175, 26)"
      ]
     },
     "execution_count": 18,
     "metadata": {},
     "output_type": "execute_result"
    }
   ],
   "source": [
    "down.shape"
   ]
  },
  {
   "cell_type": "code",
   "execution_count": 19,
   "metadata": {},
   "outputs": [],
   "source": [
    "down_g=down[down['eddu_rating']<3]"
   ]
  },
  {
   "cell_type": "code",
   "execution_count": 20,
   "metadata": {},
   "outputs": [],
   "source": [
    "down_g = down_g.sort_values('ra_modified_dt')"
   ]
  },
  {
   "cell_type": "code",
   "execution_count": 21,
   "metadata": {},
   "outputs": [],
   "source": [
    "down_g=down_g.drop_duplicates('cust_number',keep='last')"
   ]
  },
  {
   "cell_type": "code",
   "execution_count": 22,
   "metadata": {},
   "outputs": [
    {
     "data": {
      "text/plain": [
       "(2106, 26)"
      ]
     },
     "execution_count": 22,
     "metadata": {},
     "output_type": "execute_result"
    }
   ],
   "source": [
    "down_g.shape"
   ]
  },
  {
   "cell_type": "code",
   "execution_count": 23,
   "metadata": {},
   "outputs": [
    {
     "data": {
      "text/plain": [
       "High         1225\n",
       "Medium        864\n",
       "Low           211\n",
       "Auto-High      66\n",
       "Name: crr_rating, dtype: int64"
      ]
     },
     "execution_count": 23,
     "metadata": {},
     "output_type": "execute_result"
    }
   ],
   "source": [
    "rm_df2['crr_rating'].value_counts()"
   ]
  },
  {
   "cell_type": "code",
   "execution_count": 24,
   "metadata": {},
   "outputs": [],
   "source": [
    "crr_map = {'Auto-High':4,\n",
    "            'High':3,\n",
    "            'Medium':2,\n",
    "            'Low':1}\n",
    "rm_df2['crr_rating'] = rm_df2['crr_rating'].map(lambda x: crr_map[x])"
   ]
  },
  {
   "cell_type": "code",
   "execution_count": 25,
   "metadata": {},
   "outputs": [
    {
     "data": {
      "text/plain": [
       "1    1239\n",
       "0    1127\n",
       "Name: down_grade, dtype: int64"
      ]
     },
     "execution_count": 25,
     "metadata": {},
     "output_type": "execute_result"
    }
   ],
   "source": [
    "# Checking the down grade population\n",
    "rm_df2['down_grade'] = rm_df2.apply(lambda x : 1 if x['crr_rating'] > x['eddu_rating'] else 0, axis=1)\n",
    "rm_df2['down_grade'].value_counts()\n",
    "\n",
    "# downgrade: 1959\n",
    "# not downgrade: 318"
   ]
  },
  {
   "cell_type": "code",
   "execution_count": 26,
   "metadata": {},
   "outputs": [
    {
     "data": {
      "text/html": [
       "<div>\n",
       "<style scoped>\n",
       "    .dataframe tbody tr th:only-of-type {\n",
       "        vertical-align: middle;\n",
       "    }\n",
       "\n",
       "    .dataframe tbody tr th {\n",
       "        vertical-align: top;\n",
       "    }\n",
       "\n",
       "    .dataframe thead th {\n",
       "        text-align: right;\n",
       "    }\n",
       "</style>\n",
       "<table border=\"1\" class=\"dataframe\">\n",
       "  <thead>\n",
       "    <tr style=\"text-align: right;\">\n",
       "      <th></th>\n",
       "      <th>cust_number</th>\n",
       "      <th>ra_id</th>\n",
       "      <th>jrsdcn_cd</th>\n",
       "      <th>base_score</th>\n",
       "      <th>crr_score</th>\n",
       "      <th>crr_rating</th>\n",
       "      <th>eddu_score</th>\n",
       "      <th>eddu_rating</th>\n",
       "      <th>ra_created_dt</th>\n",
       "      <th>ra_modified_dt</th>\n",
       "      <th>line_of_business</th>\n",
       "      <th>assoc_cntry_cd</th>\n",
       "      <th>assoc_cntry_nm</th>\n",
       "      <th>tenure_days</th>\n",
       "      <th>ocptn_cd</th>\n",
       "      <th>ocptn_nm</th>\n",
       "      <th>pep_type</th>\n",
       "      <th>str_cnt</th>\n",
       "      <th>all_prod_registered</th>\n",
       "      <th>non_discretionary_acct</th>\n",
       "      <th>avg_bal_l4m</th>\n",
       "      <th>overlay_depbal_cntry</th>\n",
       "      <th>overlay_pep</th>\n",
       "      <th>overlay_pep_str_regd</th>\n",
       "      <th>overlay_str</th>\n",
       "      <th>insert_tstp</th>\n",
       "      <th>down_grade</th>\n",
       "    </tr>\n",
       "  </thead>\n",
       "  <tbody>\n",
       "    <tr>\n",
       "      <th>0</th>\n",
       "      <td>KYC364688</td>\n",
       "      <td>40218205</td>\n",
       "      <td>WM04</td>\n",
       "      <td>44.0</td>\n",
       "      <td>96.0</td>\n",
       "      <td>3</td>\n",
       "      <td>40.0</td>\n",
       "      <td>1.0</td>\n",
       "      <td>2020-10-22 00:43:04</td>\n",
       "      <td>2021-03-01 08:35:56</td>\n",
       "      <td>ScotiaMcleod Personal</td>\n",
       "      <td>CA</td>\n",
       "      <td>CANADA</td>\n",
       "      <td>6546.0</td>\n",
       "      <td>UNK</td>\n",
       "      <td>Unknown Occupation</td>\n",
       "      <td>N/A</td>\n",
       "      <td>0.0</td>\n",
       "      <td>No</td>\n",
       "      <td>3.0</td>\n",
       "      <td>11269556.25</td>\n",
       "      <td>Deposit Balance: 11269556.25 | Domicile Countr...</td>\n",
       "      <td>None</td>\n",
       "      <td>None</td>\n",
       "      <td>None</td>\n",
       "      <td>2021-03-29 23:59:08</td>\n",
       "      <td>1</td>\n",
       "    </tr>\n",
       "    <tr>\n",
       "      <th>2</th>\n",
       "      <td>KYC20180823A00033</td>\n",
       "      <td>36084926</td>\n",
       "      <td>WM17</td>\n",
       "      <td>63.0</td>\n",
       "      <td>63.0</td>\n",
       "      <td>3</td>\n",
       "      <td>40.0</td>\n",
       "      <td>1.0</td>\n",
       "      <td>2019-11-17 02:21:07</td>\n",
       "      <td>2021-01-06 15:30:16</td>\n",
       "      <td>IIA Personal</td>\n",
       "      <td>TL</td>\n",
       "      <td>TIMOR-LESTE</td>\n",
       "      <td>473.0</td>\n",
       "      <td>UNK</td>\n",
       "      <td>Unknown Occupation</td>\n",
       "      <td>N/A</td>\n",
       "      <td>0.0</td>\n",
       "      <td>No</td>\n",
       "      <td>1.0</td>\n",
       "      <td>4799858.25</td>\n",
       "      <td>None</td>\n",
       "      <td>None</td>\n",
       "      <td>None</td>\n",
       "      <td>None</td>\n",
       "      <td>2021-03-29 23:59:08</td>\n",
       "      <td>1</td>\n",
       "    </tr>\n",
       "    <tr>\n",
       "      <th>4</th>\n",
       "      <td>KYC85099</td>\n",
       "      <td>35257349</td>\n",
       "      <td>WM04</td>\n",
       "      <td>39.0</td>\n",
       "      <td>91.0</td>\n",
       "      <td>3</td>\n",
       "      <td>40.0</td>\n",
       "      <td>1.0</td>\n",
       "      <td>2019-11-17 02:21:07</td>\n",
       "      <td>2021-04-01 10:37:22</td>\n",
       "      <td>ScotiaMcleod Personal</td>\n",
       "      <td>CA</td>\n",
       "      <td>CANADA</td>\n",
       "      <td>6206.0</td>\n",
       "      <td>E902</td>\n",
       "      <td>Retired</td>\n",
       "      <td>N/A</td>\n",
       "      <td>0.0</td>\n",
       "      <td>No</td>\n",
       "      <td>4.0</td>\n",
       "      <td>10070544.75</td>\n",
       "      <td>Deposit Balance: 10070544.75 | Domicile Countr...</td>\n",
       "      <td>None</td>\n",
       "      <td>None</td>\n",
       "      <td>None</td>\n",
       "      <td>2021-04-02 15:42:30</td>\n",
       "      <td>1</td>\n",
       "    </tr>\n",
       "    <tr>\n",
       "      <th>5</th>\n",
       "      <td>KYC629685</td>\n",
       "      <td>40548701</td>\n",
       "      <td>WM06</td>\n",
       "      <td>77.0</td>\n",
       "      <td>99.0</td>\n",
       "      <td>3</td>\n",
       "      <td>0.0</td>\n",
       "      <td>1.0</td>\n",
       "      <td>2020-11-18 19:32:26</td>\n",
       "      <td>2021-01-26 10:21:58</td>\n",
       "      <td>Wealth ITrade Personal</td>\n",
       "      <td>CA</td>\n",
       "      <td>CANADA</td>\n",
       "      <td>5829.0</td>\n",
       "      <td>E902</td>\n",
       "      <td>Retired</td>\n",
       "      <td>PEFP (Politically Exposed Foreign PEP)</td>\n",
       "      <td>0.0</td>\n",
       "      <td>No</td>\n",
       "      <td>1.0</td>\n",
       "      <td>2267.50</td>\n",
       "      <td>None</td>\n",
       "      <td>FOR - Foreign PEP</td>\n",
       "      <td>None</td>\n",
       "      <td>None</td>\n",
       "      <td>2021-03-29 23:59:08</td>\n",
       "      <td>1</td>\n",
       "    </tr>\n",
       "    <tr>\n",
       "      <th>6</th>\n",
       "      <td>KYC20200103A00040</td>\n",
       "      <td>36861731</td>\n",
       "      <td>WM17</td>\n",
       "      <td>57.0</td>\n",
       "      <td>57.0</td>\n",
       "      <td>3</td>\n",
       "      <td>40.0</td>\n",
       "      <td>1.0</td>\n",
       "      <td>2020-01-08 17:57:22</td>\n",
       "      <td>2021-01-15 09:55:05</td>\n",
       "      <td>IIA Personal</td>\n",
       "      <td>MX</td>\n",
       "      <td>MEXICO</td>\n",
       "      <td>43.0</td>\n",
       "      <td>UNK</td>\n",
       "      <td>Unknown Occupation</td>\n",
       "      <td>N/A</td>\n",
       "      <td>0.0</td>\n",
       "      <td>No</td>\n",
       "      <td>1.0</td>\n",
       "      <td>229358.00</td>\n",
       "      <td>None</td>\n",
       "      <td>None</td>\n",
       "      <td>None</td>\n",
       "      <td>None</td>\n",
       "      <td>2021-03-29 23:59:08</td>\n",
       "      <td>1</td>\n",
       "    </tr>\n",
       "  </tbody>\n",
       "</table>\n",
       "</div>"
      ],
      "text/plain": [
       "         cust_number     ra_id jrsdcn_cd  base_score  crr_score  crr_rating  \\\n",
       "0          KYC364688  40218205      WM04        44.0       96.0           3   \n",
       "2  KYC20180823A00033  36084926      WM17        63.0       63.0           3   \n",
       "4           KYC85099  35257349      WM04        39.0       91.0           3   \n",
       "5          KYC629685  40548701      WM06        77.0       99.0           3   \n",
       "6  KYC20200103A00040  36861731      WM17        57.0       57.0           3   \n",
       "\n",
       "   eddu_score  eddu_rating       ra_created_dt      ra_modified_dt  \\\n",
       "0        40.0          1.0 2020-10-22 00:43:04 2021-03-01 08:35:56   \n",
       "2        40.0          1.0 2019-11-17 02:21:07 2021-01-06 15:30:16   \n",
       "4        40.0          1.0 2019-11-17 02:21:07 2021-04-01 10:37:22   \n",
       "5         0.0          1.0 2020-11-18 19:32:26 2021-01-26 10:21:58   \n",
       "6        40.0          1.0 2020-01-08 17:57:22 2021-01-15 09:55:05   \n",
       "\n",
       "         line_of_business assoc_cntry_cd assoc_cntry_nm  tenure_days ocptn_cd  \\\n",
       "0   ScotiaMcleod Personal             CA         CANADA       6546.0      UNK   \n",
       "2            IIA Personal             TL    TIMOR-LESTE        473.0      UNK   \n",
       "4   ScotiaMcleod Personal             CA         CANADA       6206.0     E902   \n",
       "5  Wealth ITrade Personal             CA         CANADA       5829.0     E902   \n",
       "6            IIA Personal             MX         MEXICO         43.0      UNK   \n",
       "\n",
       "             ocptn_nm                                pep_type  str_cnt  \\\n",
       "0  Unknown Occupation                                     N/A      0.0   \n",
       "2  Unknown Occupation                                     N/A      0.0   \n",
       "4             Retired                                     N/A      0.0   \n",
       "5             Retired  PEFP (Politically Exposed Foreign PEP)      0.0   \n",
       "6  Unknown Occupation                                     N/A      0.0   \n",
       "\n",
       "  all_prod_registered  non_discretionary_acct  avg_bal_l4m  \\\n",
       "0                  No                     3.0  11269556.25   \n",
       "2                  No                     1.0   4799858.25   \n",
       "4                  No                     4.0  10070544.75   \n",
       "5                  No                     1.0      2267.50   \n",
       "6                  No                     1.0    229358.00   \n",
       "\n",
       "                                overlay_depbal_cntry        overlay_pep  \\\n",
       "0  Deposit Balance: 11269556.25 | Domicile Countr...               None   \n",
       "2                                               None               None   \n",
       "4  Deposit Balance: 10070544.75 | Domicile Countr...               None   \n",
       "5                                               None  FOR - Foreign PEP   \n",
       "6                                               None               None   \n",
       "\n",
       "  overlay_pep_str_regd overlay_str         insert_tstp  down_grade  \n",
       "0                 None        None 2021-03-29 23:59:08           1  \n",
       "2                 None        None 2021-03-29 23:59:08           1  \n",
       "4                 None        None 2021-04-02 15:42:30           1  \n",
       "5                 None        None 2021-03-29 23:59:08           1  \n",
       "6                 None        None 2021-03-29 23:59:08           1  "
      ]
     },
     "execution_count": 26,
     "metadata": {},
     "output_type": "execute_result"
    }
   ],
   "source": [
    "rm_df2[rm_df2['down_grade']==1].head(5)"
   ]
  },
  {
   "cell_type": "code",
   "execution_count": 27,
   "metadata": {},
   "outputs": [
    {
     "name": "stderr",
     "output_type": "stream",
     "text": [
      "/data/conda3/envs/nltk_env/lib/python3.6/site-packages/pandas/core/indexing.py:670: SettingWithCopyWarning: \n",
      "A value is trying to be set on a copy of a slice from a DataFrame\n",
      "\n",
      "See the caveats in the documentation: https://pandas.pydata.org/pandas-docs/stable/user_guide/indexing.html#returning-a-view-versus-a-copy\n",
      "  iloc._setitem_with_indexer(indexer, value)\n"
     ]
    }
   ],
   "source": [
    "#country and occupation definition\n",
    "rm_df2['hr_cnty'] = 0\n",
    "rm_df2['hr_occup'] = 0\n",
    "rm_df2['hr_cnty'].loc[rm_df2['assoc_cntry_cd'].isin(high_risk_country)] = 1\n",
    "rm_df2['hr_occup'].loc[rm_df2['ocptn_cd'].isin(high_risk_occup)] = 1"
   ]
  },
  {
   "cell_type": "code",
   "execution_count": 28,
   "metadata": {},
   "outputs": [
    {
     "name": "stderr",
     "output_type": "stream",
     "text": [
      "/data/conda3/envs/nltk_env/lib/python3.6/site-packages/pandas/core/indexing.py:670: SettingWithCopyWarning: \n",
      "A value is trying to be set on a copy of a slice from a DataFrame\n",
      "\n",
      "See the caveats in the documentation: https://pandas.pydata.org/pandas-docs/stable/user_guide/indexing.html#returning-a-view-versus-a-copy\n",
      "  iloc._setitem_with_indexer(indexer, value)\n"
     ]
    }
   ],
   "source": [
    "# rm_df2['target'] = 0\n",
    "# rm_df2['target'].loc[(rm_df2['eddu_rating']==3)|(rm_df2['eddu_rating']==4)] = 1\n",
    "# rm_df2['target'].loc[rm_df2['crr_rating']=='High'] = 1\n",
    "rm_df2['target'] = 0\n",
    "rm_df2['target'].loc[rm_df2['eddu_rating']>2] = 1"
   ]
  },
  {
   "cell_type": "code",
   "execution_count": 29,
   "metadata": {},
   "outputs": [
    {
     "data": {
      "text/plain": [
       "0    2135\n",
       "1     231\n",
       "Name: target, dtype: int64"
      ]
     },
     "execution_count": 29,
     "metadata": {},
     "output_type": "execute_result"
    }
   ],
   "source": [
    "rm_df2['target'].value_counts()"
   ]
  },
  {
   "cell_type": "code",
   "execution_count": 30,
   "metadata": {},
   "outputs": [],
   "source": [
    "df=rm_df2.copy()"
   ]
  },
  {
   "cell_type": "code",
   "execution_count": 31,
   "metadata": {},
   "outputs": [],
   "source": [
    "def stratified_sample_df(df, col, n_samples):\n",
    "    n = min(n_samples, df[col].value_counts().min())\n",
    "    df_ = df.groupby(col).apply(lambda x: x.sample(n))\n",
    "    df_.index = df_.index.droplevel(0)\n",
    "    return df_"
   ]
  },
  {
   "cell_type": "code",
   "execution_count": 32,
   "metadata": {},
   "outputs": [],
   "source": [
    "# df=stratified_sample_df(df,'target',227)"
   ]
  },
  {
   "cell_type": "code",
   "execution_count": 33,
   "metadata": {},
   "outputs": [],
   "source": [
    "check=df.loc[~((df['crr_score']<=0.52)&(df['target']==1))].loc[df['crr_score']>0.52]"
   ]
  },
  {
   "cell_type": "code",
   "execution_count": 88,
   "metadata": {},
   "outputs": [
    {
     "data": {
      "text/plain": [
       "1    1239\n",
       "0    1127\n",
       "Name: down_grade, dtype: int64"
      ]
     },
     "execution_count": 88,
     "metadata": {},
     "output_type": "execute_result"
    }
   ],
   "source": [
    "check['down_grade'].value_counts()"
   ]
  },
  {
   "cell_type": "code",
   "execution_count": 89,
   "metadata": {},
   "outputs": [
    {
     "data": {
      "text/plain": [
       "0    2135\n",
       "1     231\n",
       "Name: target, dtype: int64"
      ]
     },
     "execution_count": 89,
     "metadata": {},
     "output_type": "execute_result"
    }
   ],
   "source": [
    "df['target'].value_counts()"
   ]
  },
  {
   "cell_type": "code",
   "execution_count": 90,
   "metadata": {},
   "outputs": [
    {
     "data": {
      "text/plain": [
       "N/A                                        2176\n",
       "PEFP (Politically Exposed Foreign PEP)       97\n",
       "PEDP (Politically Exposed Domestic PEP)      37\n",
       "Associated PEP                                7\n",
       "Name: pep_type, dtype: int64"
      ]
     },
     "execution_count": 90,
     "metadata": {},
     "output_type": "execute_result"
    }
   ],
   "source": [
    "df['pep_type'].value_counts()"
   ]
  },
  {
   "cell_type": "code",
   "execution_count": 91,
   "metadata": {},
   "outputs": [
    {
     "data": {
      "text/plain": [
       "cust_number                       object\n",
       "ra_id                              int64\n",
       "jrsdcn_cd                         object\n",
       "base_score                       float64\n",
       "crr_score                        float64\n",
       "crr_rating                         int64\n",
       "eddu_score                       float64\n",
       "eddu_rating                      float64\n",
       "ra_created_dt             datetime64[ns]\n",
       "ra_modified_dt            datetime64[ns]\n",
       "line_of_business                  object\n",
       "assoc_cntry_cd                    object\n",
       "assoc_cntry_nm                    object\n",
       "tenure_days                      float64\n",
       "ocptn_cd                          object\n",
       "ocptn_nm                          object\n",
       "pep_type                          object\n",
       "str_cnt                          float64\n",
       "all_prod_registered               object\n",
       "non_discretionary_acct           float64\n",
       "avg_bal_l4m                      float64\n",
       "overlay_depbal_cntry              object\n",
       "overlay_pep                       object\n",
       "overlay_pep_str_regd              object\n",
       "overlay_str                       object\n",
       "insert_tstp               datetime64[ns]\n",
       "down_grade                         int64\n",
       "hr_cnty                            int64\n",
       "hr_occup                           int64\n",
       "target                             int64\n",
       "dtype: object"
      ]
     },
     "execution_count": 91,
     "metadata": {},
     "output_type": "execute_result"
    }
   ],
   "source": [
    "df.dtypes"
   ]
  },
  {
   "cell_type": "markdown",
   "metadata": {},
   "source": [
    "# Data preliminary cleaning "
   ]
  },
  {
   "cell_type": "code",
   "execution_count": 92,
   "metadata": {},
   "outputs": [],
   "source": [
    "from sklearn import metrics\n",
    "from sklearn.model_selection import train_test_split\n",
    "from sklearn.linear_model import LogisticRegression\n",
    "from sklearn import metrics\n",
    "import matplotlib.pyplot as plt\n",
    "import seaborn as sns\n",
    "import numpy as np\n",
    "from sklearn.preprocessing import normalize\n",
    "from sklearn.metrics import accuracy_score, confusion_matrix, recall_score, roc_auc_score, precision_score\n",
    "import warnings\n",
    "warnings.filterwarnings('ignore')"
   ]
  },
  {
   "cell_type": "code",
   "execution_count": 93,
   "metadata": {},
   "outputs": [],
   "source": [
    "pep_map = { \"PEDP (Politically Exposed Domestic PEP)\":1,\n",
    "             \"PEFP (Politically Exposed Foreign PEP)\":2,\n",
    "            \"Domestic PEP controlled entity\":3,\n",
    "            'Foreign PEP controlled entity':4,\n",
    "            'Associated PEP':5,\n",
    "            'HIO = Head of International Organization':6,\n",
    "            'N/A':0}\n",
    "overlay_pep_map = { \"DOM - Domestic PEP\":1,\n",
    "            \"FOR - Foreign PEP\":2,\n",
    "            'N/A':0}\n",
    "\n",
    "registered_map = {'No':0,\n",
    "            'Yes':1}\n"
   ]
  },
  {
   "cell_type": "code",
   "execution_count": 94,
   "metadata": {},
   "outputs": [],
   "source": [
    "def model_data_cleaning(df, drop_autoHigh = False):\n",
    "    if drop_autoHigh == True:\n",
    "        df = df.loc[df['crr_rating'] != 'Auto-High']\n",
    "    df['overlay_pep'] = df['overlay_pep'].fillna('N/A')\n",
    "    df['overlay_pep'] = df['overlay_pep'].map(lambda x: overlay_pep_map[x])\n",
    "    \n",
    "    df['all_prod_registered'] = df['all_prod_registered'].fillna('Yes')\n",
    "    df['all_prod_registered'] = df['all_prod_registered'].map(lambda x: registered_map[x])\n",
    "    \n",
    "    df['pep_type'] = df['pep_type'].fillna('HIO = Head of International Organization')\n",
    "    df['pep_type'] = df['pep_type'].map(lambda x: pep_map[x])\n",
    "    \n",
    "    df['line_of_business'] = df['line_of_business'].fillna('lob_missing')\n",
    "    df['tenure_days']=df['tenure_days'].fillna(0)\n",
    "    df['avg_bal_l4m']=df['avg_bal_l4m'].fillna(0)\n",
    "    df['overlay_str']=df['overlay_str'].fillna(0)\n",
    "    \n",
    "    overlay_list = ['overlay_pep','overlay_str']\n",
    "    \n",
    "    \n",
    "    cols=['cust_number','tenure_days','pep_type','all_prod_registered','avg_bal_l4m','hr_cnty','hr_occup','target','crr_score']+overlay_list\n",
    "    return df[cols]"
   ]
  },
  {
   "cell_type": "code",
   "execution_count": 95,
   "metadata": {},
   "outputs": [],
   "source": [
    "data=model_data_cleaning(df, drop_autoHigh = False)"
   ]
  },
  {
   "cell_type": "code",
   "execution_count": 96,
   "metadata": {},
   "outputs": [
    {
     "data": {
      "text/plain": [
       "0    2135\n",
       "1     231\n",
       "Name: target, dtype: int64"
      ]
     },
     "execution_count": 96,
     "metadata": {},
     "output_type": "execute_result"
    }
   ],
   "source": [
    "data['target'].value_counts()"
   ]
  },
  {
   "cell_type": "code",
   "execution_count": 97,
   "metadata": {},
   "outputs": [],
   "source": [
    "def stratified_sample_df(df, col, n_samples):\n",
    "    n = min(n_samples, df[col].value_counts().min())\n",
    "    df_ = df.groupby(col).apply(lambda x: x.sample(n))\n",
    "    df_.index = df_.index.droplevel(0)\n",
    "    return df_"
   ]
  },
  {
   "cell_type": "code",
   "execution_count": 98,
   "metadata": {},
   "outputs": [],
   "source": [
    "data=stratified_sample_df(data,'target',132)"
   ]
  },
  {
   "cell_type": "code",
   "execution_count": 99,
   "metadata": {},
   "outputs": [
    {
     "data": {
      "text/html": [
       "<div>\n",
       "<style scoped>\n",
       "    .dataframe tbody tr th:only-of-type {\n",
       "        vertical-align: middle;\n",
       "    }\n",
       "\n",
       "    .dataframe tbody tr th {\n",
       "        vertical-align: top;\n",
       "    }\n",
       "\n",
       "    .dataframe thead th {\n",
       "        text-align: right;\n",
       "    }\n",
       "</style>\n",
       "<table border=\"1\" class=\"dataframe\">\n",
       "  <thead>\n",
       "    <tr style=\"text-align: right;\">\n",
       "      <th></th>\n",
       "      <th>cust_number</th>\n",
       "      <th>tenure_days</th>\n",
       "      <th>pep_type</th>\n",
       "      <th>all_prod_registered</th>\n",
       "      <th>avg_bal_l4m</th>\n",
       "      <th>hr_cnty</th>\n",
       "      <th>hr_occup</th>\n",
       "      <th>target</th>\n",
       "      <th>crr_score</th>\n",
       "      <th>overlay_pep</th>\n",
       "      <th>overlay_str</th>\n",
       "    </tr>\n",
       "  </thead>\n",
       "  <tbody>\n",
       "    <tr>\n",
       "      <th>1046</th>\n",
       "      <td>KYC20180319A00028</td>\n",
       "      <td>622.0</td>\n",
       "      <td>0</td>\n",
       "      <td>0</td>\n",
       "      <td>7028130.25</td>\n",
       "      <td>0</td>\n",
       "      <td>1</td>\n",
       "      <td>0</td>\n",
       "      <td>99.0</td>\n",
       "      <td>0</td>\n",
       "      <td>0</td>\n",
       "    </tr>\n",
       "    <tr>\n",
       "      <th>1392</th>\n",
       "      <td>KYC1802468</td>\n",
       "      <td>1031.0</td>\n",
       "      <td>0</td>\n",
       "      <td>0</td>\n",
       "      <td>2683154.00</td>\n",
       "      <td>1</td>\n",
       "      <td>1</td>\n",
       "      <td>0</td>\n",
       "      <td>62.0</td>\n",
       "      <td>0</td>\n",
       "      <td>0</td>\n",
       "    </tr>\n",
       "    <tr>\n",
       "      <th>43</th>\n",
       "      <td>KYC143870</td>\n",
       "      <td>6480.0</td>\n",
       "      <td>0</td>\n",
       "      <td>0</td>\n",
       "      <td>8491777.75</td>\n",
       "      <td>0</td>\n",
       "      <td>1</td>\n",
       "      <td>0</td>\n",
       "      <td>96.0</td>\n",
       "      <td>0</td>\n",
       "      <td>0</td>\n",
       "    </tr>\n",
       "    <tr>\n",
       "      <th>973</th>\n",
       "      <td>KYC1161318</td>\n",
       "      <td>3974.0</td>\n",
       "      <td>0</td>\n",
       "      <td>0</td>\n",
       "      <td>42612673.75</td>\n",
       "      <td>0</td>\n",
       "      <td>0</td>\n",
       "      <td>0</td>\n",
       "      <td>99.0</td>\n",
       "      <td>0</td>\n",
       "      <td>0</td>\n",
       "    </tr>\n",
       "    <tr>\n",
       "      <th>2097</th>\n",
       "      <td>KYC1661564</td>\n",
       "      <td>1887.0</td>\n",
       "      <td>0</td>\n",
       "      <td>0</td>\n",
       "      <td>1181808.50</td>\n",
       "      <td>1</td>\n",
       "      <td>1</td>\n",
       "      <td>0</td>\n",
       "      <td>62.0</td>\n",
       "      <td>0</td>\n",
       "      <td>0</td>\n",
       "    </tr>\n",
       "  </tbody>\n",
       "</table>\n",
       "</div>"
      ],
      "text/plain": [
       "            cust_number  tenure_days  pep_type  all_prod_registered  \\\n",
       "1046  KYC20180319A00028        622.0         0                    0   \n",
       "1392         KYC1802468       1031.0         0                    0   \n",
       "43            KYC143870       6480.0         0                    0   \n",
       "973          KYC1161318       3974.0         0                    0   \n",
       "2097         KYC1661564       1887.0         0                    0   \n",
       "\n",
       "      avg_bal_l4m  hr_cnty  hr_occup  target  crr_score  overlay_pep  \\\n",
       "1046   7028130.25        0         1       0       99.0            0   \n",
       "1392   2683154.00        1         1       0       62.0            0   \n",
       "43     8491777.75        0         1       0       96.0            0   \n",
       "973   42612673.75        0         0       0       99.0            0   \n",
       "2097   1181808.50        1         1       0       62.0            0   \n",
       "\n",
       "      overlay_str  \n",
       "1046            0  \n",
       "1392            0  \n",
       "43              0  \n",
       "973             0  \n",
       "2097            0  "
      ]
     },
     "execution_count": 99,
     "metadata": {},
     "output_type": "execute_result"
    }
   ],
   "source": [
    "data.head()"
   ]
  },
  {
   "cell_type": "markdown",
   "metadata": {},
   "source": [
    "# EDA"
   ]
  },
  {
   "cell_type": "code",
   "execution_count": 100,
   "metadata": {},
   "outputs": [
    {
     "data": {
      "text/plain": [
       "Text(0.5, 1, 'Correlation of Features- HeatMap')"
      ]
     },
     "execution_count": 100,
     "metadata": {},
     "output_type": "execute_result"
    },
    {
     "data": {
      "text/plain": [
       "<AxesSubplot:title={'center':'Correlation of Features- HeatMap'}>"
      ]
     },
     "execution_count": 100,
     "metadata": {},
     "output_type": "execute_result"
    },
    {
     "data": {
      "image/png": "[encoded data removed]",
      "text/plain": [
       "<Figure size 576x432 with 2 Axes>"
      ]
     },
     "metadata": {
      "needs_background": "light"
     },
     "output_type": "display_data"
    }
   ],
   "source": [
    "import matplotlib.pyplot as plt\n",
    "import seaborn as sns\n",
    "f , ax = plt.subplots(figsize = (8,6))\n",
    "plt.title('Correlation of Features- HeatMap',y=1,size=12)\n",
    "sns.heatmap(data.corr(),square = True,  vmax=0.8)"
   ]
  },
  {
   "cell_type": "code",
   "execution_count": 101,
   "metadata": {},
   "outputs": [],
   "source": [
    "data_eda_adj=data.copy()\n",
    "data_eda_adj=data_eda_adj[['tenure_days','pep_type','avg_bal_l4m','hr_cnty','hr_occup','target','crr_score']]"
   ]
  },
  {
   "cell_type": "code",
   "execution_count": 102,
   "metadata": {},
   "outputs": [
    {
     "data": {
      "text/plain": [
       "Text(0.5, 1, 'Correlation of Features- HeatMap')"
      ]
     },
     "execution_count": 102,
     "metadata": {},
     "output_type": "execute_result"
    },
    {
     "data": {
      "text/plain": [
       "<AxesSubplot:title={'center':'Correlation of Features- HeatMap'}>"
      ]
     },
     "execution_count": 102,
     "metadata": {},
     "output_type": "execute_result"
    },
    {
     "data": {
      "image/png": "[encoded data removed]",
      "text/plain": [
       "<Figure size 576x432 with 2 Axes>"
      ]
     },
     "metadata": {
      "needs_background": "light"
     },
     "output_type": "display_data"
    }
   ],
   "source": [
    "f , ax = plt.subplots(figsize = (8,6))\n",
    "plt.title('Correlation of Features- HeatMap',y=1,size=12)\n",
    "sns.heatmap(data_eda_adj.corr(),square = True,  vmax=0.8)"
   ]
  },
  {
   "cell_type": "code",
   "execution_count": 173,
   "metadata": {},
   "outputs": [],
   "source": [
    "cols_lst=['tenure_days','pep_type','avg_bal_l4m','hr_cnty','hr_occup','overlay_pep','overlay_str','target']"
   ]
  },
  {
   "cell_type": "code",
   "execution_count": 174,
   "metadata": {},
   "outputs": [
    {
     "name": "stdout",
     "output_type": "stream",
     "text": [
      "tenure_days\n",
      "pep_type\n",
      "avg_bal_l4m\n",
      "hr_cnty\n",
      "hr_occup\n",
      "overlay_pep\n",
      "overlay_str\n",
      "target\n"
     ]
    }
   ],
   "source": [
    "for i in cols_lst:\n",
    "    print(i)"
   ]
  },
  {
   "cell_type": "code",
   "execution_count": 175,
   "metadata": {},
   "outputs": [
    {
     "data": {
      "text/plain": [
       "Text(0.5, 1.0, 'tenure_days')"
      ]
     },
     "execution_count": 175,
     "metadata": {},
     "output_type": "execute_result"
    },
    {
     "data": {
      "image/png": "[encoded data removed]",
      "text/plain": [
       "<Figure size 432x288 with 1 Axes>"
      ]
     },
     "metadata": {
      "needs_background": "light"
     },
     "output_type": "display_data"
    },
    {
     "data": {
      "text/plain": [
       "Text(0.5, 1.0, 'pep_type')"
      ]
     },
     "execution_count": 175,
     "metadata": {},
     "output_type": "execute_result"
    },
    {
     "data": {
      "image/png": "[encoded data removed]",
      "text/plain": [
       "<Figure size 432x288 with 1 Axes>"
      ]
     },
     "metadata": {
      "needs_background": "light"
     },
     "output_type": "display_data"
    },
    {
     "data": {
      "text/plain": [
       "Text(0.5, 1.0, 'avg_bal_l4m')"
      ]
     },
     "execution_count": 175,
     "metadata": {},
     "output_type": "execute_result"
    },
    {
     "data": {
      "image/png": "[encoded data removed]",
      "text/plain": [
       "<Figure size 432x288 with 1 Axes>"
      ]
     },
     "metadata": {
      "needs_background": "light"
     },
     "output_type": "display_data"
    },
    {
     "data": {
      "text/plain": [
       "Text(0.5, 1.0, 'hr_cnty')"
      ]
     },
     "execution_count": 175,
     "metadata": {},
     "output_type": "execute_result"
    },
    {
     "data": {
      "image/png": "[encoded data removed]",
      "text/plain": [
       "<Figure size 432x288 with 1 Axes>"
      ]
     },
     "metadata": {
      "needs_background": "light"
     },
     "output_type": "display_data"
    },
    {
     "data": {
      "text/plain": [
       "Text(0.5, 1.0, 'hr_occup')"
      ]
     },
     "execution_count": 175,
     "metadata": {},
     "output_type": "execute_result"
    },
    {
     "data": {
      "image/png": "[encoded data removed]",
      "text/plain": [
       "<Figure size 432x288 with 1 Axes>"
      ]
     },
     "metadata": {
      "needs_background": "light"
     },
     "output_type": "display_data"
    },
    {
     "data": {
      "text/plain": [
       "Text(0.5, 1.0, 'overlay_pep')"
      ]
     },
     "execution_count": 175,
     "metadata": {},
     "output_type": "execute_result"
    },
    {
     "data": {
      "image/png": "[encoded data removed]",
      "text/plain": [
       "<Figure size 432x288 with 1 Axes>"
      ]
     },
     "metadata": {
      "needs_background": "light"
     },
     "output_type": "display_data"
    },
    {
     "data": {
      "text/plain": [
       "Text(0.5, 1.0, 'overlay_str')"
      ]
     },
     "execution_count": 175,
     "metadata": {},
     "output_type": "execute_result"
    },
    {
     "data": {
      "image/png": "[encoded data removed]",
      "text/plain": [
       "<Figure size 432x288 with 1 Axes>"
      ]
     },
     "metadata": {
      "needs_background": "light"
     },
     "output_type": "display_data"
    },
    {
     "data": {
      "text/plain": [
       "Text(0.5, 1.0, 'target')"
      ]
     },
     "execution_count": 175,
     "metadata": {},
     "output_type": "execute_result"
    },
    {
     "data": {
      "image/png": "[encoded data removed]",
      "text/plain": [
       "<Figure size 432x288 with 1 Axes>"
      ]
     },
     "metadata": {
      "needs_background": "light"
     },
     "output_type": "display_data"
    }
   ],
   "source": [
    "for feature in cols_lst:\n",
    "    ax = data[feature].plot.hist(bins=20, alpha=0.5)\n",
    "    ax.set_title(feature)\n",
    "    plt.show()"
   ]
  },
  {
   "cell_type": "markdown",
   "metadata": {},
   "source": [
    "# Monotonic bucketing"
   ]
  },
  {
   "cell_type": "code",
   "execution_count": 176,
   "metadata": {},
   "outputs": [],
   "source": [
    "# monotonic bucketing functions\n",
    "from scipy.optimize import minimize, Bounds, LinearConstraint\n",
    "from sklearn.linear_model.logistic import _logistic_loss\n",
    "\n",
    "def bin_score_optimizer(bins, target, increase=True):\n",
    "    n_bins = bins.nunique()\n",
    "    \n",
    "    #initial guess\n",
    "    m0 = np.zeros(n_bins)\n",
    "    #create constraint matrix\n",
    "    cons_mat = np.zeros((n_bins,n_bins))\n",
    "    for i in np.arange(n_bins-1):\n",
    "        cons_mat[i,i] = 1\n",
    "        cons_mat[i,i+1] = -1\n",
    "        \n",
    "    #create constraint vectors\n",
    "    if increase:\n",
    "        lb = np.repeat(-np.inf,n_bins)\n",
    "        ub = np.repeat(0,n_bins)\n",
    "    else:\n",
    "        lb = np.repeat(0,n_bins)\n",
    "        ub = np.repeat(np.inf,n_bins)\n",
    "        \n",
    "    #put constraints together\n",
    "    lin_cons = LinearConstraint(cons_mat,lb,ub)\n",
    "    return minimize(bin_loss_function, m0, args = (bins, target), method='trust-constr', tol = 0.0001, options={'verbose': 1}, constraints = lin_cons)['x']\n",
    "\n",
    "def bin_loss_function(m, bins, target):\n",
    "    loss = 0\n",
    "    i = 0\n",
    "    for value in np.sort(bins.unique()):\n",
    "        y = target[bins==value]\n",
    "        loss += np.dot(y-m[i], y-m[i])\n",
    "        i +=1\n",
    "    return loss   \n",
    "\n",
    "def get_buckets(df, features, bucket_decrease=[]):\n",
    "        x = df.copy()\n",
    "        bucket_summary = pd.DataFrame()\n",
    "        bucket_info = {}\n",
    "        for col in features:\n",
    "            increase=True if col not in bucket_decrease else False\n",
    "            x[col], _, col_summary, bucket_info[col]= get_one_bucket(x[col], x[col][x['target'].notnull()], \n",
    "                                                                  x['target'][x['target'].notnull()],numeric_thr = 5,increase=increase)\n",
    "            bucket_summary=bucket_summary.append(col_summary.assign(feature=col))\n",
    "        return x, bucket_summary\n",
    "\n",
    "\n",
    "def get_one_bucket(v, sample_v, target, numeric_thr = 5, increase=True):\n",
    "    \"\"\"\n",
    "    Do bucketing according to sample data, and then apply to both population and sample.\n",
    "    Scores of buckets are forced to be monotone.\n",
    "\n",
    "    Parameters:\n",
    "    -----------\n",
    "    v: series\n",
    "        population data.\n",
    "    sample_v: series\n",
    "        sample data.\n",
    "    target: series\n",
    "        label of sample data, label being 0 or 1.\n",
    "    numeric_thr: int\n",
    "        the data is treated as categorical if # of unique values <= numeric_thr, numerical otherwise.  \n",
    "    increase:\n",
    "        True if bucket score monotonically increases with bucket label, False if decreases.\n",
    "    \"\"\"\n",
    "\n",
    "    if v.nunique() <= numeric_thr:\n",
    "        # categorical\n",
    "        bins = np.concatenate([np.array([-np.Inf]),np.sort(v.unique())[:-1],np.array([np.Inf])])\n",
    "    else:\n",
    "        # numeric: the cut-offs are mean, +1/2/3 standard deviation\n",
    "        m = v.mean()\n",
    "        sd = v.std()\n",
    "        bins = np.concatenate([np.array([-np.Inf]),np.array([m+i*sd for i in range(numeric_thr-1)]),np.array([np.Inf])])\n",
    "\n",
    "    bin_labels = list(range(1,len(bins)))\n",
    "    sample_v_labels = pd.cut(sample_v,bins,labels=bin_labels)\n",
    "    v_labels = pd.cut(v,bins,labels=bin_labels)\n",
    "    #lkp = pd.DataFrame({'labels':sample_v_bins, 'target':target}).groupby('labels').mean()['target'].to_dict()    \n",
    "    bin_score = np.clip(bin_score_optimizer(sample_v_labels,target,increase),0,1)\n",
    "    lkp = pd.Series(data=bin_score,index=np.sort(sample_v_labels.unique())).to_dict()\n",
    "\n",
    "    for idx in bin_labels: \n",
    "        if idx not in list(lkp.keys()):\n",
    "            lkp[idx] = lkp[idx-1]\n",
    "\n",
    "    bin_summary = pd.DataFrame({'lb':bins[0:-1],'ub':bins[1:],'value':[lkp[k] for k in bin_labels]})\n",
    "\n",
    "    return v_labels.replace(lkp), sample_v_labels.replace(lkp), bin_summary, {'bins':bins,'bin_labels':bin_labels,'lkp':lkp}\n",
    "\n",
    "\n",
    "def standardize(data, features, tp='mean_std'):\n",
    "    if tp=='mean_std':\n",
    "        data[features] = (data[features]-data[features].mean())/data[features].std()\n",
    "    elif tp=='max_min':\n",
    "        data[features] = (data[features]-data[features].min())/data[features].max()\n",
    "    return data"
   ]
  },
  {
   "cell_type": "code",
   "execution_count": 177,
   "metadata": {},
   "outputs": [
    {
     "name": "stdout",
     "output_type": "stream",
     "text": [
      "`gtol` termination condition is satisfied.\n",
      "Number of iterations: 18, function evaluations: 80, CG iterations: 38, optimality: 3.15e-05, constraint violation: 0.00e+00, execution time: 0.24 s.\n",
      "`gtol` termination condition is satisfied.\n",
      "Number of iterations: 21, function evaluations: 85, CG iterations: 41, optimality: 7.29e-05, constraint violation: 0.00e+00, execution time: 0.25 s.\n",
      "`gtol` termination condition is satisfied.\n",
      "Number of iterations: 27, function evaluations: 138, CG iterations: 65, optimality: 4.87e-05, constraint violation: 0.00e+00, execution time: 0.48 s.\n",
      "`gtol` termination condition is satisfied.\n",
      "Number of iterations: 12, function evaluations: 30, CG iterations: 12, optimality: 5.25e-06, constraint violation: 0.00e+00, execution time: 0.065 s.\n",
      "`gtol` termination condition is satisfied.\n",
      "Number of iterations: 15, function evaluations: 36, CG iterations: 19, optimality: 5.15e-05, constraint violation: 0.00e+00, execution time: 0.083 s.\n",
      "`gtol` termination condition is satisfied.\n",
      "Number of iterations: 8, function evaluations: 28, CG iterations: 11, optimality: 5.12e-05, constraint violation: 0.00e+00, execution time: 0.066 s.\n",
      "`gtol` termination condition is satisfied.\n",
      "Number of iterations: 17, function evaluations: 52, CG iterations: 28, optimality: 9.00e-05, constraint violation: 0.00e+00, execution time: 0.13 s.\n",
      "`gtol` termination condition is satisfied.\n",
      "Number of iterations: 3, function evaluations: 6, CG iterations: 2, optimality: 1.91e-06, constraint violation: 0.00e+00, execution time: 0.0079 s.\n"
     ]
    }
   ],
   "source": [
    "data_base=data.drop(['cust_number','all_prod_registered'],axis='columns', inplace=False)\n",
    "data_base, bucket_summary = get_buckets(data_base, [f for f in list(data_base.columns) if f!='target'], bucket_decrease=['tenure_days','avg_bal_l4m'])"
   ]
  },
  {
   "cell_type": "code",
   "execution_count": 178,
   "metadata": {},
   "outputs": [
    {
     "data": {
      "text/plain": [
       "tenure_days    float64\n",
       "pep_type       float64\n",
       "avg_bal_l4m    float64\n",
       "hr_cnty        float64\n",
       "hr_occup       float64\n",
       "target           int64\n",
       "crr_score      float64\n",
       "overlay_pep    float64\n",
       "overlay_str    float64\n",
       "dtype: object"
      ]
     },
     "execution_count": 178,
     "metadata": {},
     "output_type": "execute_result"
    }
   ],
   "source": [
    "data_base.dtypes"
   ]
  },
  {
   "cell_type": "code",
   "execution_count": 179,
   "metadata": {},
   "outputs": [
    {
     "data": {
      "text/html": [
       "<div>\n",
       "<style scoped>\n",
       "    .dataframe tbody tr th:only-of-type {\n",
       "        vertical-align: middle;\n",
       "    }\n",
       "\n",
       "    .dataframe tbody tr th {\n",
       "        vertical-align: top;\n",
       "    }\n",
       "\n",
       "    .dataframe thead th {\n",
       "        text-align: right;\n",
       "    }\n",
       "</style>\n",
       "<table border=\"1\" class=\"dataframe\">\n",
       "  <thead>\n",
       "    <tr style=\"text-align: right;\">\n",
       "      <th></th>\n",
       "      <th>lb</th>\n",
       "      <th>ub</th>\n",
       "      <th>value</th>\n",
       "      <th>feature</th>\n",
       "    </tr>\n",
       "  </thead>\n",
       "  <tbody>\n",
       "    <tr>\n",
       "      <th>0</th>\n",
       "      <td>-inf</td>\n",
       "      <td>2.467016e+03</td>\n",
       "      <td>0.512849</td>\n",
       "      <td>tenure_days</td>\n",
       "    </tr>\n",
       "    <tr>\n",
       "      <th>1</th>\n",
       "      <td>2.467016e+03</td>\n",
       "      <td>4.526627e+03</td>\n",
       "      <td>0.445504</td>\n",
       "      <td>tenure_days</td>\n",
       "    </tr>\n",
       "    <tr>\n",
       "      <th>2</th>\n",
       "      <td>4.526627e+03</td>\n",
       "      <td>6.586238e+03</td>\n",
       "      <td>0.443573</td>\n",
       "      <td>tenure_days</td>\n",
       "    </tr>\n",
       "    <tr>\n",
       "      <th>3</th>\n",
       "      <td>6.586238e+03</td>\n",
       "      <td>8.645849e+03</td>\n",
       "      <td>0.424288</td>\n",
       "      <td>tenure_days</td>\n",
       "    </tr>\n",
       "    <tr>\n",
       "      <th>4</th>\n",
       "      <td>8.645849e+03</td>\n",
       "      <td>inf</td>\n",
       "      <td>0.424288</td>\n",
       "      <td>tenure_days</td>\n",
       "    </tr>\n",
       "    <tr>\n",
       "      <th>0</th>\n",
       "      <td>-inf</td>\n",
       "      <td>0.000000e+00</td>\n",
       "      <td>0.438289</td>\n",
       "      <td>pep_type</td>\n",
       "    </tr>\n",
       "    <tr>\n",
       "      <th>1</th>\n",
       "      <td>0.000000e+00</td>\n",
       "      <td>1.000000e+00</td>\n",
       "      <td>0.438450</td>\n",
       "      <td>pep_type</td>\n",
       "    </tr>\n",
       "    <tr>\n",
       "      <th>2</th>\n",
       "      <td>1.000000e+00</td>\n",
       "      <td>2.000000e+00</td>\n",
       "      <td>0.438585</td>\n",
       "      <td>pep_type</td>\n",
       "    </tr>\n",
       "    <tr>\n",
       "      <th>3</th>\n",
       "      <td>2.000000e+00</td>\n",
       "      <td>inf</td>\n",
       "      <td>1.000000</td>\n",
       "      <td>pep_type</td>\n",
       "    </tr>\n",
       "    <tr>\n",
       "      <th>0</th>\n",
       "      <td>-inf</td>\n",
       "      <td>4.843403e+06</td>\n",
       "      <td>0.630770</td>\n",
       "      <td>avg_bal_l4m</td>\n",
       "    </tr>\n",
       "    <tr>\n",
       "      <th>1</th>\n",
       "      <td>4.843403e+06</td>\n",
       "      <td>1.631793e+07</td>\n",
       "      <td>0.045533</td>\n",
       "      <td>avg_bal_l4m</td>\n",
       "    </tr>\n",
       "    <tr>\n",
       "      <th>2</th>\n",
       "      <td>1.631793e+07</td>\n",
       "      <td>2.779245e+07</td>\n",
       "      <td>0.002953</td>\n",
       "      <td>avg_bal_l4m</td>\n",
       "    </tr>\n",
       "    <tr>\n",
       "      <th>3</th>\n",
       "      <td>2.779245e+07</td>\n",
       "      <td>3.926697e+07</td>\n",
       "      <td>0.000000</td>\n",
       "      <td>avg_bal_l4m</td>\n",
       "    </tr>\n",
       "    <tr>\n",
       "      <th>4</th>\n",
       "      <td>3.926697e+07</td>\n",
       "      <td>inf</td>\n",
       "      <td>0.000000</td>\n",
       "      <td>avg_bal_l4m</td>\n",
       "    </tr>\n",
       "    <tr>\n",
       "      <th>0</th>\n",
       "      <td>-inf</td>\n",
       "      <td>0.000000e+00</td>\n",
       "      <td>0.486373</td>\n",
       "      <td>hr_cnty</td>\n",
       "    </tr>\n",
       "    <tr>\n",
       "      <th>1</th>\n",
       "      <td>0.000000e+00</td>\n",
       "      <td>inf</td>\n",
       "      <td>0.486408</td>\n",
       "      <td>hr_cnty</td>\n",
       "    </tr>\n",
       "    <tr>\n",
       "      <th>0</th>\n",
       "      <td>-inf</td>\n",
       "      <td>0.000000e+00</td>\n",
       "      <td>0.486359</td>\n",
       "      <td>hr_occup</td>\n",
       "    </tr>\n",
       "    <tr>\n",
       "      <th>1</th>\n",
       "      <td>0.000000e+00</td>\n",
       "      <td>inf</td>\n",
       "      <td>0.486397</td>\n",
       "      <td>hr_occup</td>\n",
       "    </tr>\n",
       "    <tr>\n",
       "      <th>0</th>\n",
       "      <td>-inf</td>\n",
       "      <td>6.185214e+01</td>\n",
       "      <td>0.486096</td>\n",
       "      <td>crr_score</td>\n",
       "    </tr>\n",
       "    <tr>\n",
       "      <th>1</th>\n",
       "      <td>6.185214e+01</td>\n",
       "      <td>9.302770e+01</td>\n",
       "      <td>0.486560</td>\n",
       "      <td>crr_score</td>\n",
       "    </tr>\n",
       "    <tr>\n",
       "      <th>2</th>\n",
       "      <td>9.302770e+01</td>\n",
       "      <td>1.242033e+02</td>\n",
       "      <td>0.486817</td>\n",
       "      <td>crr_score</td>\n",
       "    </tr>\n",
       "    <tr>\n",
       "      <th>3</th>\n",
       "      <td>1.242033e+02</td>\n",
       "      <td>1.553788e+02</td>\n",
       "      <td>0.486817</td>\n",
       "      <td>crr_score</td>\n",
       "    </tr>\n",
       "    <tr>\n",
       "      <th>4</th>\n",
       "      <td>1.553788e+02</td>\n",
       "      <td>inf</td>\n",
       "      <td>0.486817</td>\n",
       "      <td>crr_score</td>\n",
       "    </tr>\n",
       "    <tr>\n",
       "      <th>0</th>\n",
       "      <td>-inf</td>\n",
       "      <td>0.000000e+00</td>\n",
       "      <td>0.486379</td>\n",
       "      <td>overlay_pep</td>\n",
       "    </tr>\n",
       "    <tr>\n",
       "      <th>1</th>\n",
       "      <td>0.000000e+00</td>\n",
       "      <td>1.000000e+00</td>\n",
       "      <td>0.486397</td>\n",
       "      <td>overlay_pep</td>\n",
       "    </tr>\n",
       "    <tr>\n",
       "      <th>2</th>\n",
       "      <td>1.000000e+00</td>\n",
       "      <td>inf</td>\n",
       "      <td>0.486470</td>\n",
       "      <td>overlay_pep</td>\n",
       "    </tr>\n",
       "    <tr>\n",
       "      <th>0</th>\n",
       "      <td>-inf</td>\n",
       "      <td>inf</td>\n",
       "      <td>0.486381</td>\n",
       "      <td>overlay_str</td>\n",
       "    </tr>\n",
       "  </tbody>\n",
       "</table>\n",
       "</div>"
      ],
      "text/plain": [
       "             lb            ub     value      feature\n",
       "0          -inf  2.467016e+03  0.512849  tenure_days\n",
       "1  2.467016e+03  4.526627e+03  0.445504  tenure_days\n",
       "2  4.526627e+03  6.586238e+03  0.443573  tenure_days\n",
       "3  6.586238e+03  8.645849e+03  0.424288  tenure_days\n",
       "4  8.645849e+03           inf  0.424288  tenure_days\n",
       "0          -inf  0.000000e+00  0.438289     pep_type\n",
       "1  0.000000e+00  1.000000e+00  0.438450     pep_type\n",
       "2  1.000000e+00  2.000000e+00  0.438585     pep_type\n",
       "3  2.000000e+00           inf  1.000000     pep_type\n",
       "0          -inf  4.843403e+06  0.630770  avg_bal_l4m\n",
       "1  4.843403e+06  1.631793e+07  0.045533  avg_bal_l4m\n",
       "2  1.631793e+07  2.779245e+07  0.002953  avg_bal_l4m\n",
       "3  2.779245e+07  3.926697e+07  0.000000  avg_bal_l4m\n",
       "4  3.926697e+07           inf  0.000000  avg_bal_l4m\n",
       "0          -inf  0.000000e+00  0.486373      hr_cnty\n",
       "1  0.000000e+00           inf  0.486408      hr_cnty\n",
       "0          -inf  0.000000e+00  0.486359     hr_occup\n",
       "1  0.000000e+00           inf  0.486397     hr_occup\n",
       "0          -inf  6.185214e+01  0.486096    crr_score\n",
       "1  6.185214e+01  9.302770e+01  0.486560    crr_score\n",
       "2  9.302770e+01  1.242033e+02  0.486817    crr_score\n",
       "3  1.242033e+02  1.553788e+02  0.486817    crr_score\n",
       "4  1.553788e+02           inf  0.486817    crr_score\n",
       "0          -inf  0.000000e+00  0.486379  overlay_pep\n",
       "1  0.000000e+00  1.000000e+00  0.486397  overlay_pep\n",
       "2  1.000000e+00           inf  0.486470  overlay_pep\n",
       "0          -inf           inf  0.486381  overlay_str"
      ]
     },
     "execution_count": 179,
     "metadata": {},
     "output_type": "execute_result"
    }
   ],
   "source": [
    "bucket_summary"
   ]
  },
  {
   "cell_type": "code",
   "execution_count": 180,
   "metadata": {},
   "outputs": [
    {
     "data": {
      "text/plain": [
       "(257, 11)"
      ]
     },
     "execution_count": 180,
     "metadata": {},
     "output_type": "execute_result"
    }
   ],
   "source": [
    "data.shape"
   ]
  },
  {
   "cell_type": "code",
   "execution_count": 181,
   "metadata": {},
   "outputs": [
    {
     "data": {
      "text/plain": [
       "(257, 9)"
      ]
     },
     "execution_count": 181,
     "metadata": {},
     "output_type": "execute_result"
    }
   ],
   "source": [
    "data_base.shape"
   ]
  },
  {
   "cell_type": "code",
   "execution_count": 182,
   "metadata": {},
   "outputs": [],
   "source": [
    "data_base['cust_number']=data['cust_number']"
   ]
  },
  {
   "cell_type": "code",
   "execution_count": 183,
   "metadata": {},
   "outputs": [],
   "source": [
    "data_base=data_base.drop_duplicates('cust_number')"
   ]
  },
  {
   "cell_type": "code",
   "execution_count": 184,
   "metadata": {},
   "outputs": [
    {
     "data": {
      "text/plain": [
       "(257, 10)"
      ]
     },
     "execution_count": 184,
     "metadata": {},
     "output_type": "execute_result"
    }
   ],
   "source": [
    "data_base.shape"
   ]
  },
  {
   "cell_type": "markdown",
   "metadata": {},
   "source": [
    "# Data splitting "
   ]
  },
  {
   "cell_type": "code",
   "execution_count": 185,
   "metadata": {},
   "outputs": [],
   "source": [
    "# this tool is used to normalize specific features as well as spliting train and test datasets\n",
    "\n",
    "def model_data_split(df, norm_lst=None):\n",
    "#     cols = norm_lst\n",
    "#     df[cols] = normalize(df[cols],norm='max',axis=0)\n",
    "    X_train = df.drop(columns = 'target')\n",
    "    y_train = df['target']\n",
    "    X_train, X_test, y_train, y_test = train_test_split(X_train, y_train, test_size=0.4, random_state=0)\n",
    "    X_train, X_test, y_train, y_test = X_train.reset_index(drop=True), X_test.reset_index(drop=True), y_train.reset_index(drop=True), y_test.reset_index(drop=True)\n",
    "    return X_train, X_test, y_train, y_test\n"
   ]
  },
  {
   "cell_type": "code",
   "execution_count": 186,
   "metadata": {},
   "outputs": [],
   "source": [
    "def pick_overlay(df, overlay_lst = None):\n",
    "    if overlay_lst is not None:\n",
    "        idx_lst_08 = [list(df.loc[df[x]==1].index) for x in overlay_lst]\n",
    "        idx_lst_03 = [list(df.loc[df[x]==2].index) for x in overlay_lst]\n",
    "        # locate clients with 0.8 overlay scores\n",
    "        temp = []\n",
    "        for i in idx_lst_08:\n",
    "            temp=temp+i\n",
    "        temp = list(set(temp))\n",
    "        idx_lst_08 = temp\n",
    "        # locate clients with 0.3 overlay scores\n",
    "        temp = []\n",
    "        for i in idx_lst_03:\n",
    "            temp=temp+i\n",
    "        temp = list(set(temp))\n",
    "        idx_lst_03 = temp\n",
    "        # drop overlay columns\n",
    "        df = df.drop(columns=overlay_lst)\n",
    "        overlay_list = [x for x in list(df.columns) if x[:5]=='overl']\n",
    "        df[overlay_list] = df[overlay_list].applymap(lambda x:1 if x == 0.5 else x)\n",
    "    else:\n",
    "        overlay_list = [x for x in list(df.columns) if x[:5]=='overl']\n",
    "        df[overlay_list] = df[overlay_list].applymap(lambda x:1 if x == 0.5 else x)\n",
    "        idx_lst_08 = []\n",
    "        idx_lst_03 = []\n",
    "    return df, idx_lst_08, idx_lst_03"
   ]
  },
  {
   "cell_type": "code",
   "execution_count": 187,
   "metadata": {},
   "outputs": [],
   "source": [
    "# data spliting and normalization\n",
    "data_base = standardize(data_base, [f for f in cols_lst if f!='target'], tp='mean_std')"
   ]
  },
  {
   "cell_type": "code",
   "execution_count": 188,
   "metadata": {},
   "outputs": [
    {
     "data": {
      "text/html": [
       "<div>\n",
       "<style scoped>\n",
       "    .dataframe tbody tr th:only-of-type {\n",
       "        vertical-align: middle;\n",
       "    }\n",
       "\n",
       "    .dataframe tbody tr th {\n",
       "        vertical-align: top;\n",
       "    }\n",
       "\n",
       "    .dataframe thead th {\n",
       "        text-align: right;\n",
       "    }\n",
       "</style>\n",
       "<table border=\"1\" class=\"dataframe\">\n",
       "  <thead>\n",
       "    <tr style=\"text-align: right;\">\n",
       "      <th></th>\n",
       "      <th>tenure_days</th>\n",
       "      <th>pep_type</th>\n",
       "      <th>avg_bal_l4m</th>\n",
       "      <th>hr_cnty</th>\n",
       "      <th>hr_occup</th>\n",
       "      <th>target</th>\n",
       "      <th>crr_score</th>\n",
       "      <th>overlay_pep</th>\n",
       "      <th>overlay_str</th>\n",
       "      <th>cust_number</th>\n",
       "    </tr>\n",
       "  </thead>\n",
       "  <tbody>\n",
       "    <tr>\n",
       "      <th>1046</th>\n",
       "      <td>0.788801</td>\n",
       "      <td>-0.305422</td>\n",
       "      <td>-1.719227</td>\n",
       "      <td>-0.550803</td>\n",
       "      <td>0.849713</td>\n",
       "      <td>0</td>\n",
       "      <td>0.486817</td>\n",
       "      <td>-0.150674</td>\n",
       "      <td>-0.998053</td>\n",
       "      <td>KYC20180319A00028</td>\n",
       "    </tr>\n",
       "    <tr>\n",
       "      <th>1392</th>\n",
       "      <td>0.788801</td>\n",
       "      <td>-0.305422</td>\n",
       "      <td>0.562362</td>\n",
       "      <td>1.808468</td>\n",
       "      <td>0.849713</td>\n",
       "      <td>0</td>\n",
       "      <td>0.486560</td>\n",
       "      <td>-0.150674</td>\n",
       "      <td>-0.998053</td>\n",
       "      <td>KYC1802468</td>\n",
       "    </tr>\n",
       "    <tr>\n",
       "      <th>43</th>\n",
       "      <td>-1.275763</td>\n",
       "      <td>-0.305422</td>\n",
       "      <td>-1.719227</td>\n",
       "      <td>-0.550803</td>\n",
       "      <td>0.849713</td>\n",
       "      <td>0</td>\n",
       "      <td>0.486817</td>\n",
       "      <td>-0.150674</td>\n",
       "      <td>-0.998053</td>\n",
       "      <td>KYC143870</td>\n",
       "    </tr>\n",
       "    <tr>\n",
       "      <th>973</th>\n",
       "      <td>-1.218222</td>\n",
       "      <td>-0.305422</td>\n",
       "      <td>-1.896742</td>\n",
       "      <td>-0.550803</td>\n",
       "      <td>-1.172289</td>\n",
       "      <td>0</td>\n",
       "      <td>0.486817</td>\n",
       "      <td>-0.150674</td>\n",
       "      <td>-0.998053</td>\n",
       "      <td>KYC1161318</td>\n",
       "    </tr>\n",
       "    <tr>\n",
       "      <th>2097</th>\n",
       "      <td>0.788801</td>\n",
       "      <td>-0.305422</td>\n",
       "      <td>0.562362</td>\n",
       "      <td>1.808468</td>\n",
       "      <td>0.849713</td>\n",
       "      <td>0</td>\n",
       "      <td>0.486560</td>\n",
       "      <td>-0.150674</td>\n",
       "      <td>-0.998053</td>\n",
       "      <td>KYC1661564</td>\n",
       "    </tr>\n",
       "    <tr>\n",
       "      <th>...</th>\n",
       "      <td>...</td>\n",
       "      <td>...</td>\n",
       "      <td>...</td>\n",
       "      <td>...</td>\n",
       "      <td>...</td>\n",
       "      <td>...</td>\n",
       "      <td>...</td>\n",
       "      <td>...</td>\n",
       "      <td>...</td>\n",
       "      <td>...</td>\n",
       "    </tr>\n",
       "    <tr>\n",
       "      <th>981</th>\n",
       "      <td>-1.218222</td>\n",
       "      <td>-0.305422</td>\n",
       "      <td>0.562362</td>\n",
       "      <td>-0.550803</td>\n",
       "      <td>0.849713</td>\n",
       "      <td>1</td>\n",
       "      <td>0.486096</td>\n",
       "      <td>-0.150674</td>\n",
       "      <td>-0.998053</td>\n",
       "      <td>KYC1300371</td>\n",
       "    </tr>\n",
       "    <tr>\n",
       "      <th>834</th>\n",
       "      <td>0.788801</td>\n",
       "      <td>3.261940</td>\n",
       "      <td>0.562362</td>\n",
       "      <td>-0.550803</td>\n",
       "      <td>-1.172289</td>\n",
       "      <td>1</td>\n",
       "      <td>0.486096</td>\n",
       "      <td>-0.150674</td>\n",
       "      <td>-0.998053</td>\n",
       "      <td>KYC6922386</td>\n",
       "    </tr>\n",
       "    <tr>\n",
       "      <th>1198</th>\n",
       "      <td>0.788801</td>\n",
       "      <td>-0.305422</td>\n",
       "      <td>0.562362</td>\n",
       "      <td>-0.550803</td>\n",
       "      <td>-1.172289</td>\n",
       "      <td>1</td>\n",
       "      <td>0.486096</td>\n",
       "      <td>-0.150674</td>\n",
       "      <td>-0.998053</td>\n",
       "      <td>KYC1593670</td>\n",
       "    </tr>\n",
       "    <tr>\n",
       "      <th>1625</th>\n",
       "      <td>0.788801</td>\n",
       "      <td>-0.305422</td>\n",
       "      <td>0.562362</td>\n",
       "      <td>-0.550803</td>\n",
       "      <td>-1.172289</td>\n",
       "      <td>1</td>\n",
       "      <td>0.486096</td>\n",
       "      <td>-0.150674</td>\n",
       "      <td>-0.998053</td>\n",
       "      <td>KYC1713</td>\n",
       "    </tr>\n",
       "    <tr>\n",
       "      <th>2237</th>\n",
       "      <td>-1.275763</td>\n",
       "      <td>-0.305422</td>\n",
       "      <td>0.562362</td>\n",
       "      <td>-0.550803</td>\n",
       "      <td>0.849713</td>\n",
       "      <td>1</td>\n",
       "      <td>0.486096</td>\n",
       "      <td>-0.150674</td>\n",
       "      <td>-0.998053</td>\n",
       "      <td>SCI1100061243</td>\n",
       "    </tr>\n",
       "  </tbody>\n",
       "</table>\n",
       "<p>257 rows × 10 columns</p>\n",
       "</div>"
      ],
      "text/plain": [
       "      tenure_days  pep_type  avg_bal_l4m   hr_cnty  hr_occup  target  \\\n",
       "1046     0.788801 -0.305422    -1.719227 -0.550803  0.849713       0   \n",
       "1392     0.788801 -0.305422     0.562362  1.808468  0.849713       0   \n",
       "43      -1.275763 -0.305422    -1.719227 -0.550803  0.849713       0   \n",
       "973     -1.218222 -0.305422    -1.896742 -0.550803 -1.172289       0   \n",
       "2097     0.788801 -0.305422     0.562362  1.808468  0.849713       0   \n",
       "...           ...       ...          ...       ...       ...     ...   \n",
       "981     -1.218222 -0.305422     0.562362 -0.550803  0.849713       1   \n",
       "834      0.788801  3.261940     0.562362 -0.550803 -1.172289       1   \n",
       "1198     0.788801 -0.305422     0.562362 -0.550803 -1.172289       1   \n",
       "1625     0.788801 -0.305422     0.562362 -0.550803 -1.172289       1   \n",
       "2237    -1.275763 -0.305422     0.562362 -0.550803  0.849713       1   \n",
       "\n",
       "      crr_score  overlay_pep  overlay_str        cust_number  \n",
       "1046   0.486817    -0.150674    -0.998053  KYC20180319A00028  \n",
       "1392   0.486560    -0.150674    -0.998053         KYC1802468  \n",
       "43     0.486817    -0.150674    -0.998053          KYC143870  \n",
       "973    0.486817    -0.150674    -0.998053         KYC1161318  \n",
       "2097   0.486560    -0.150674    -0.998053         KYC1661564  \n",
       "...         ...          ...          ...                ...  \n",
       "981    0.486096    -0.150674    -0.998053         KYC1300371  \n",
       "834    0.486096    -0.150674    -0.998053         KYC6922386  \n",
       "1198   0.486096    -0.150674    -0.998053         KYC1593670  \n",
       "1625   0.486096    -0.150674    -0.998053            KYC1713  \n",
       "2237   0.486096    -0.150674    -0.998053      SCI1100061243  \n",
       "\n",
       "[257 rows x 10 columns]"
      ]
     },
     "execution_count": 188,
     "metadata": {},
     "output_type": "execute_result"
    }
   ],
   "source": [
    "data_base"
   ]
  },
  {
   "cell_type": "code",
   "execution_count": 189,
   "metadata": {},
   "outputs": [],
   "source": [
    "overlay_lst = ['overlay_pep','overlay_str']"
   ]
  },
  {
   "cell_type": "code",
   "execution_count": 190,
   "metadata": {},
   "outputs": [],
   "source": [
    "X_train, X_test, y_train, y_test = model_data_split(data_base)\n",
    "X_train, _, _ = pick_overlay(X_train, overlay_lst)\n",
    "X_test, _, _ = pick_overlay(X_test, overlay_lst)"
   ]
  },
  {
   "cell_type": "code",
   "execution_count": 191,
   "metadata": {},
   "outputs": [
    {
     "data": {
      "text/plain": [
       "(154, 7)"
      ]
     },
     "execution_count": 191,
     "metadata": {},
     "output_type": "execute_result"
    }
   ],
   "source": [
    "X_train.shape"
   ]
  },
  {
   "cell_type": "code",
   "execution_count": 192,
   "metadata": {},
   "outputs": [
    {
     "data": {
      "text/plain": [
       "(103, 7)"
      ]
     },
     "execution_count": 192,
     "metadata": {},
     "output_type": "execute_result"
    }
   ],
   "source": [
    "X_test.shape"
   ]
  },
  {
   "cell_type": "markdown",
   "metadata": {},
   "source": [
    "### 1.1 Logitistic regression with l2"
   ]
  },
  {
   "cell_type": "code",
   "execution_count": 193,
   "metadata": {},
   "outputs": [],
   "source": [
    "train=X_train.copy()\n",
    "test=X_test.copy()"
   ]
  },
  {
   "cell_type": "code",
   "execution_count": 194,
   "metadata": {},
   "outputs": [],
   "source": [
    "X_train=X_train.drop('cust_number',axis='columns')"
   ]
  },
  {
   "cell_type": "code",
   "execution_count": 195,
   "metadata": {},
   "outputs": [],
   "source": [
    "X_test=X_test.drop('cust_number',axis='columns')"
   ]
  },
  {
   "cell_type": "code",
   "execution_count": 196,
   "metadata": {},
   "outputs": [
    {
     "name": "stdout",
     "output_type": "stream",
     "text": [
      "                Metrics\n",
      "accuracy       0.922330\n",
      "recall         0.937500\n",
      "precision      0.900000\n",
      "roc_auc_score  0.960038\n",
      "[[50  5]\n",
      " [ 3 45]]\n"
     ]
    },
    {
     "data": {
      "image/png": "[encoded data removed]",
      "text/plain": [
       "<Figure size 360x360 with 2 Axes>"
      ]
     },
     "metadata": {
      "needs_background": "light"
     },
     "output_type": "display_data"
    }
   ],
   "source": [
    "from sklearn import metrics\n",
    "from sklearn.model_selection import train_test_split\n",
    "from sklearn.linear_model import LogisticRegression\n",
    "from sklearn import metrics\n",
    "import matplotlib.pyplot as plt\n",
    "import seaborn as sns\n",
    "import numpy as np\n",
    "from sklearn.metrics import accuracy_score, confusion_matrix, recall_score, roc_auc_score, precision_score\n",
    "\n",
    "# X_train = rm_df_base.drop(columns = 'target')\n",
    "# y_train = rm_df_base['target']\n",
    "\n",
    "# X_train, X_test, y_train, y_test = train_test_split(X_train, y_train, test_size=0.2, random_state=0)\n",
    "\n",
    "\n",
    "clf = LogisticRegression(penalty = 'l2', random_state=0, solver='lbfgs').fit(X_train, y_train)\n",
    "# preds = clf.predict(X_test)\n",
    "probs = clf.predict_proba(X_test)\n",
    "\n",
    "THRESHOLD = 0.52\n",
    "preds = np.where(probs[:,1] > THRESHOLD, 1, 0)\n",
    "\n",
    "scores = pd.DataFrame(data=[accuracy_score(y_test, preds), recall_score(y_test, preds),\n",
    "                   precision_score(y_test, preds), roc_auc_score(y_test, probs[:,1])], \n",
    "             index=[\"accuracy\", \"recall\", \"precision\", \"roc_auc_score\"],columns=['Metrics'])\n",
    "# acc = clf.score(X_test, y_test)\n",
    "# print(\"Accuracy: %f\" % (acc))\n",
    "print(scores)\n",
    "\n",
    "# predict_train.sum()\n",
    "cm = metrics.confusion_matrix(y_test, preds)\n",
    "print(cm)\n",
    "plt.figure(figsize=(5,5))\n",
    "sns.heatmap(cm, annot=True, fmt=\".3f\", linewidths=.5, square = True, cmap = 'Blues_r');\n",
    "plt.ylabel('Actual label');\n",
    "plt.xlabel('Predicted label');\n",
    "all_sample_title = 'Accuracy Score: {0}'.format(accuracy_score(y_test, preds))\n",
    "plt.title(all_sample_title, size = 15);"
   ]
  },
  {
   "cell_type": "code",
   "execution_count": 197,
   "metadata": {},
   "outputs": [
    {
     "data": {
      "text/html": [
       "<div>\n",
       "<style scoped>\n",
       "    .dataframe tbody tr th:only-of-type {\n",
       "        vertical-align: middle;\n",
       "    }\n",
       "\n",
       "    .dataframe tbody tr th {\n",
       "        vertical-align: top;\n",
       "    }\n",
       "\n",
       "    .dataframe thead th {\n",
       "        text-align: right;\n",
       "    }\n",
       "</style>\n",
       "<table border=\"1\" class=\"dataframe\">\n",
       "  <thead>\n",
       "    <tr style=\"text-align: right;\">\n",
       "      <th></th>\n",
       "      <th>tenure_days</th>\n",
       "      <th>pep_type</th>\n",
       "      <th>avg_bal_l4m</th>\n",
       "      <th>hr_cnty</th>\n",
       "      <th>hr_occup</th>\n",
       "      <th>crr_score</th>\n",
       "    </tr>\n",
       "  </thead>\n",
       "  <tbody>\n",
       "    <tr>\n",
       "      <th>0</th>\n",
       "      <td>-0.341995</td>\n",
       "      <td>0.754398</td>\n",
       "      <td>1.913722</td>\n",
       "      <td>-1.295262</td>\n",
       "      <td>-0.498494</td>\n",
       "      <td>-0.003374</td>\n",
       "    </tr>\n",
       "  </tbody>\n",
       "</table>\n",
       "</div>"
      ],
      "text/plain": [
       "   tenure_days  pep_type  avg_bal_l4m   hr_cnty  hr_occup  crr_score\n",
       "0    -0.341995  0.754398     1.913722 -1.295262 -0.498494  -0.003374"
      ]
     },
     "execution_count": 197,
     "metadata": {},
     "output_type": "execute_result"
    }
   ],
   "source": [
    "# Parameters \n",
    "Metrics = pd.DataFrame(data=clf.coef_,columns=X_train.columns)\n",
    "Metrics"
   ]
  },
  {
   "cell_type": "code",
   "execution_count": 198,
   "metadata": {},
   "outputs": [
    {
     "data": {
      "text/plain": [
       "<Figure size 576x432 with 0 Axes>"
      ]
     },
     "execution_count": 198,
     "metadata": {},
     "output_type": "execute_result"
    },
    {
     "data": {
      "text/plain": [
       "[<matplotlib.lines.Line2D at 0x7ff73e9e02e8>]"
      ]
     },
     "execution_count": 198,
     "metadata": {},
     "output_type": "execute_result"
    },
    {
     "data": {
      "text/plain": [
       "[<matplotlib.lines.Line2D at 0x7ff73e9abc18>]"
      ]
     },
     "execution_count": 198,
     "metadata": {},
     "output_type": "execute_result"
    },
    {
     "data": {
      "text/plain": [
       "Text(0.5, 0, 'False Positive Rate')"
      ]
     },
     "execution_count": 198,
     "metadata": {},
     "output_type": "execute_result"
    },
    {
     "data": {
      "text/plain": [
       "Text(0, 0.5, 'True Positive Rate')"
      ]
     },
     "execution_count": 198,
     "metadata": {},
     "output_type": "execute_result"
    },
    {
     "data": {
      "text/plain": [
       "Text(0.5, 1.0, 'Logistic AUC')"
      ]
     },
     "execution_count": 198,
     "metadata": {},
     "output_type": "execute_result"
    },
    {
     "data": {
      "text/plain": [
       "<matplotlib.legend.Legend at 0x7ff73e979898>"
      ]
     },
     "execution_count": 198,
     "metadata": {},
     "output_type": "execute_result"
    },
    {
     "data": {
      "image/png": "[encoded data removed]",
      "text/plain": [
       "<Figure size 576x432 with 1 Axes>"
      ]
     },
     "metadata": {
      "needs_background": "light"
     },
     "output_type": "display_data"
    }
   ],
   "source": [
    "from sklearn.metrics import roc_curve, auc\n",
    "\n",
    "\n",
    "plt.figure(figsize = (8, 6))\n",
    "plt.plot([0,1], [0,1], 'r--')\n",
    "\n",
    "\n",
    "fpr1, tpr1, thresholds1 = roc_curve(y_test, probs[:, 1])\n",
    "# precision, recall, thresholds = precision_recall_curve(test_y, probs[:, 1]) \n",
    "roc_auc1 = auc(fpr1, tpr1)\n",
    "\n",
    "\n",
    "# print(roc_auc_score(y_test, preds))\n",
    "\n",
    "label = 'Logistic AUC:' + ' {0:.2f}'.format(roc_auc1)\n",
    "plt.plot(fpr1, tpr1, c = 'g', label = label, linewidth = 2)\n",
    "plt.xlabel('False Positive Rate', fontsize = 10)\n",
    "plt.ylabel('True Positive Rate', fontsize = 10)\n",
    "plt.title('Logistic AUC', fontsize = 10)\n",
    "plt.legend(loc = 'lower right', fontsize = 10)"
   ]
  },
  {
   "cell_type": "markdown",
   "metadata": {},
   "source": [
    "### result checking"
   ]
  },
  {
   "cell_type": "code",
   "execution_count": 199,
   "metadata": {},
   "outputs": [
    {
     "data": {
      "text/plain": [
       "(103,)"
      ]
     },
     "execution_count": 199,
     "metadata": {},
     "output_type": "execute_result"
    }
   ],
   "source": [
    "y_test.shape"
   ]
  },
  {
   "cell_type": "code",
   "execution_count": 200,
   "metadata": {},
   "outputs": [],
   "source": [
    "y_test = y_test.to_frame()"
   ]
  },
  {
   "cell_type": "code",
   "execution_count": 201,
   "metadata": {},
   "outputs": [],
   "source": [
    "train =pd.concat([train, y_train], axis= 1)"
   ]
  },
  {
   "cell_type": "code",
   "execution_count": 202,
   "metadata": {},
   "outputs": [],
   "source": [
    "test =pd.concat([test, y_test], axis= 1)"
   ]
  },
  {
   "cell_type": "code",
   "execution_count": 203,
   "metadata": {},
   "outputs": [
    {
     "data": {
      "text/html": [
       "<div>\n",
       "<style scoped>\n",
       "    .dataframe tbody tr th:only-of-type {\n",
       "        vertical-align: middle;\n",
       "    }\n",
       "\n",
       "    .dataframe tbody tr th {\n",
       "        vertical-align: top;\n",
       "    }\n",
       "\n",
       "    .dataframe thead th {\n",
       "        text-align: right;\n",
       "    }\n",
       "</style>\n",
       "<table border=\"1\" class=\"dataframe\">\n",
       "  <thead>\n",
       "    <tr style=\"text-align: right;\">\n",
       "      <th></th>\n",
       "      <th>tenure_days</th>\n",
       "      <th>pep_type</th>\n",
       "      <th>avg_bal_l4m</th>\n",
       "      <th>hr_cnty</th>\n",
       "      <th>hr_occup</th>\n",
       "      <th>crr_score</th>\n",
       "      <th>cust_number</th>\n",
       "      <th>target</th>\n",
       "    </tr>\n",
       "  </thead>\n",
       "  <tbody>\n",
       "    <tr>\n",
       "      <th>0</th>\n",
       "      <td>0.788801</td>\n",
       "      <td>-0.305422</td>\n",
       "      <td>0.562362</td>\n",
       "      <td>-0.550803</td>\n",
       "      <td>0.849713</td>\n",
       "      <td>0.486817</td>\n",
       "      <td>KYC1639132</td>\n",
       "      <td>1</td>\n",
       "    </tr>\n",
       "    <tr>\n",
       "      <th>1</th>\n",
       "      <td>0.788801</td>\n",
       "      <td>-0.305422</td>\n",
       "      <td>0.562362</td>\n",
       "      <td>1.808468</td>\n",
       "      <td>0.849713</td>\n",
       "      <td>0.486096</td>\n",
       "      <td>KYC1627496</td>\n",
       "      <td>0</td>\n",
       "    </tr>\n",
       "    <tr>\n",
       "      <th>2</th>\n",
       "      <td>-1.218222</td>\n",
       "      <td>-0.305422</td>\n",
       "      <td>0.562362</td>\n",
       "      <td>1.808468</td>\n",
       "      <td>0.849713</td>\n",
       "      <td>0.486096</td>\n",
       "      <td>KYC1185225</td>\n",
       "      <td>0</td>\n",
       "    </tr>\n",
       "    <tr>\n",
       "      <th>3</th>\n",
       "      <td>-1.275763</td>\n",
       "      <td>-0.305422</td>\n",
       "      <td>-1.719227</td>\n",
       "      <td>-0.550803</td>\n",
       "      <td>0.849713</td>\n",
       "      <td>0.486817</td>\n",
       "      <td>KYC143870</td>\n",
       "      <td>0</td>\n",
       "    </tr>\n",
       "    <tr>\n",
       "      <th>4</th>\n",
       "      <td>0.788801</td>\n",
       "      <td>-0.305422</td>\n",
       "      <td>0.562362</td>\n",
       "      <td>-0.550803</td>\n",
       "      <td>0.849713</td>\n",
       "      <td>0.486817</td>\n",
       "      <td>KYC1700645</td>\n",
       "      <td>1</td>\n",
       "    </tr>\n",
       "    <tr>\n",
       "      <th>...</th>\n",
       "      <td>...</td>\n",
       "      <td>...</td>\n",
       "      <td>...</td>\n",
       "      <td>...</td>\n",
       "      <td>...</td>\n",
       "      <td>...</td>\n",
       "      <td>...</td>\n",
       "      <td>...</td>\n",
       "    </tr>\n",
       "    <tr>\n",
       "      <th>149</th>\n",
       "      <td>-1.275763</td>\n",
       "      <td>-0.305422</td>\n",
       "      <td>-1.896742</td>\n",
       "      <td>-0.550803</td>\n",
       "      <td>0.849713</td>\n",
       "      <td>0.486817</td>\n",
       "      <td>KYC6513</td>\n",
       "      <td>0</td>\n",
       "    </tr>\n",
       "    <tr>\n",
       "      <th>150</th>\n",
       "      <td>0.788801</td>\n",
       "      <td>-0.305422</td>\n",
       "      <td>0.562362</td>\n",
       "      <td>-0.550803</td>\n",
       "      <td>-1.172289</td>\n",
       "      <td>0.486817</td>\n",
       "      <td>KYC7073175</td>\n",
       "      <td>1</td>\n",
       "    </tr>\n",
       "    <tr>\n",
       "      <th>151</th>\n",
       "      <td>-1.275763</td>\n",
       "      <td>-0.305422</td>\n",
       "      <td>-1.719227</td>\n",
       "      <td>-0.550803</td>\n",
       "      <td>0.849713</td>\n",
       "      <td>0.486817</td>\n",
       "      <td>KYC90372</td>\n",
       "      <td>0</td>\n",
       "    </tr>\n",
       "    <tr>\n",
       "      <th>152</th>\n",
       "      <td>0.788801</td>\n",
       "      <td>-0.305422</td>\n",
       "      <td>-1.896742</td>\n",
       "      <td>-0.550803</td>\n",
       "      <td>0.849713</td>\n",
       "      <td>0.486817</td>\n",
       "      <td>KYC6933193</td>\n",
       "      <td>0</td>\n",
       "    </tr>\n",
       "    <tr>\n",
       "      <th>153</th>\n",
       "      <td>-1.275763</td>\n",
       "      <td>-0.305422</td>\n",
       "      <td>0.562362</td>\n",
       "      <td>-0.550803</td>\n",
       "      <td>0.849713</td>\n",
       "      <td>0.486096</td>\n",
       "      <td>KYC335761</td>\n",
       "      <td>1</td>\n",
       "    </tr>\n",
       "  </tbody>\n",
       "</table>\n",
       "<p>154 rows × 8 columns</p>\n",
       "</div>"
      ],
      "text/plain": [
       "     tenure_days  pep_type  avg_bal_l4m   hr_cnty  hr_occup  crr_score  \\\n",
       "0       0.788801 -0.305422     0.562362 -0.550803  0.849713   0.486817   \n",
       "1       0.788801 -0.305422     0.562362  1.808468  0.849713   0.486096   \n",
       "2      -1.218222 -0.305422     0.562362  1.808468  0.849713   0.486096   \n",
       "3      -1.275763 -0.305422    -1.719227 -0.550803  0.849713   0.486817   \n",
       "4       0.788801 -0.305422     0.562362 -0.550803  0.849713   0.486817   \n",
       "..           ...       ...          ...       ...       ...        ...   \n",
       "149    -1.275763 -0.305422    -1.896742 -0.550803  0.849713   0.486817   \n",
       "150     0.788801 -0.305422     0.562362 -0.550803 -1.172289   0.486817   \n",
       "151    -1.275763 -0.305422    -1.719227 -0.550803  0.849713   0.486817   \n",
       "152     0.788801 -0.305422    -1.896742 -0.550803  0.849713   0.486817   \n",
       "153    -1.275763 -0.305422     0.562362 -0.550803  0.849713   0.486096   \n",
       "\n",
       "    cust_number  target  \n",
       "0    KYC1639132       1  \n",
       "1    KYC1627496       0  \n",
       "2    KYC1185225       0  \n",
       "3     KYC143870       0  \n",
       "4    KYC1700645       1  \n",
       "..          ...     ...  \n",
       "149     KYC6513       0  \n",
       "150  KYC7073175       1  \n",
       "151    KYC90372       0  \n",
       "152  KYC6933193       0  \n",
       "153   KYC335761       1  \n",
       "\n",
       "[154 rows x 8 columns]"
      ]
     },
     "execution_count": 203,
     "metadata": {},
     "output_type": "execute_result"
    }
   ],
   "source": [
    "train"
   ]
  },
  {
   "cell_type": "code",
   "execution_count": 204,
   "metadata": {},
   "outputs": [],
   "source": [
    "probs=pd.DataFrame(probs[:,1], columns=['prob']) "
   ]
  },
  {
   "cell_type": "code",
   "execution_count": 205,
   "metadata": {},
   "outputs": [
    {
     "data": {
      "text/html": [
       "<div>\n",
       "<style scoped>\n",
       "    .dataframe tbody tr th:only-of-type {\n",
       "        vertical-align: middle;\n",
       "    }\n",
       "\n",
       "    .dataframe tbody tr th {\n",
       "        vertical-align: top;\n",
       "    }\n",
       "\n",
       "    .dataframe thead th {\n",
       "        text-align: right;\n",
       "    }\n",
       "</style>\n",
       "<table border=\"1\" class=\"dataframe\">\n",
       "  <thead>\n",
       "    <tr style=\"text-align: right;\">\n",
       "      <th></th>\n",
       "      <th>prob</th>\n",
       "    </tr>\n",
       "  </thead>\n",
       "  <tbody>\n",
       "    <tr>\n",
       "      <th>0</th>\n",
       "      <td>0.646929</td>\n",
       "    </tr>\n",
       "    <tr>\n",
       "      <th>1</th>\n",
       "      <td>0.045015</td>\n",
       "    </tr>\n",
       "    <tr>\n",
       "      <th>2</th>\n",
       "      <td>0.646929</td>\n",
       "    </tr>\n",
       "    <tr>\n",
       "      <th>3</th>\n",
       "      <td>0.044177</td>\n",
       "    </tr>\n",
       "    <tr>\n",
       "      <th>4</th>\n",
       "      <td>0.646929</td>\n",
       "    </tr>\n",
       "    <tr>\n",
       "      <th>...</th>\n",
       "      <td>...</td>\n",
       "    </tr>\n",
       "    <tr>\n",
       "      <th>98</th>\n",
       "      <td>0.044177</td>\n",
       "    </tr>\n",
       "    <tr>\n",
       "      <th>99</th>\n",
       "      <td>0.022737</td>\n",
       "    </tr>\n",
       "    <tr>\n",
       "      <th>100</th>\n",
       "      <td>0.986675</td>\n",
       "    </tr>\n",
       "    <tr>\n",
       "      <th>101</th>\n",
       "      <td>0.908870</td>\n",
       "    </tr>\n",
       "    <tr>\n",
       "      <th>102</th>\n",
       "      <td>0.079416</td>\n",
       "    </tr>\n",
       "  </tbody>\n",
       "</table>\n",
       "<p>103 rows × 1 columns</p>\n",
       "</div>"
      ],
      "text/plain": [
       "         prob\n",
       "0    0.646929\n",
       "1    0.045015\n",
       "2    0.646929\n",
       "3    0.044177\n",
       "4    0.646929\n",
       "..        ...\n",
       "98   0.044177\n",
       "99   0.022737\n",
       "100  0.986675\n",
       "101  0.908870\n",
       "102  0.079416\n",
       "\n",
       "[103 rows x 1 columns]"
      ]
     },
     "execution_count": 205,
     "metadata": {},
     "output_type": "execute_result"
    }
   ],
   "source": [
    "probs"
   ]
  },
  {
   "cell_type": "code",
   "execution_count": 206,
   "metadata": {},
   "outputs": [],
   "source": [
    "test['prob']=probs['prob']"
   ]
  },
  {
   "cell_type": "code",
   "execution_count": 207,
   "metadata": {},
   "outputs": [],
   "source": [
    "test_id=list(test['cust_number'])"
   ]
  },
  {
   "cell_type": "code",
   "execution_count": 208,
   "metadata": {},
   "outputs": [],
   "source": [
    "test_check=rm_df2[(rm_df2['cust_number'].isin(test_id))&(rm_df2['target'].notnull())]"
   ]
  },
  {
   "cell_type": "code",
   "execution_count": 209,
   "metadata": {},
   "outputs": [],
   "source": [
    "test_check=test_check.drop_duplicates('cust_number')"
   ]
  },
  {
   "cell_type": "code",
   "execution_count": 210,
   "metadata": {},
   "outputs": [],
   "source": [
    "test = test.rename(columns = {'target': 'pred','tenure_days':'tenure_trans','pep_type':'pep_trans','all_prod_registered':'registered_trans','avg_bal_l4m':'avg_bal_trans','hr_cnty':'hr_cnty_trans','hr_occup':'hr_occup_trans'})"
   ]
  },
  {
   "cell_type": "code",
   "execution_count": 214,
   "metadata": {},
   "outputs": [
    {
     "data": {
      "text/html": [
       "<div>\n",
       "<style scoped>\n",
       "    .dataframe tbody tr th:only-of-type {\n",
       "        vertical-align: middle;\n",
       "    }\n",
       "\n",
       "    .dataframe tbody tr th {\n",
       "        vertical-align: top;\n",
       "    }\n",
       "\n",
       "    .dataframe thead th {\n",
       "        text-align: right;\n",
       "    }\n",
       "</style>\n",
       "<table border=\"1\" class=\"dataframe\">\n",
       "  <thead>\n",
       "    <tr style=\"text-align: right;\">\n",
       "      <th></th>\n",
       "      <th>tenure_trans</th>\n",
       "      <th>pep_trans</th>\n",
       "      <th>avg_bal_trans</th>\n",
       "      <th>hr_cnty_trans</th>\n",
       "      <th>hr_occup_trans</th>\n",
       "      <th>crr_score_x</th>\n",
       "      <th>cust_number</th>\n",
       "      <th>pred</th>\n",
       "      <th>prob</th>\n",
       "      <th>ra_id</th>\n",
       "      <th>jrsdcn_cd</th>\n",
       "      <th>base_score</th>\n",
       "      <th>crr_score_y</th>\n",
       "      <th>crr_rating</th>\n",
       "      <th>eddu_score</th>\n",
       "      <th>eddu_rating</th>\n",
       "      <th>ra_created_dt</th>\n",
       "      <th>ra_modified_dt</th>\n",
       "      <th>line_of_business</th>\n",
       "      <th>assoc_cntry_cd</th>\n",
       "      <th>assoc_cntry_nm</th>\n",
       "      <th>tenure_days</th>\n",
       "      <th>ocptn_cd</th>\n",
       "      <th>ocptn_nm</th>\n",
       "      <th>pep_type</th>\n",
       "      <th>str_cnt</th>\n",
       "      <th>all_prod_registered</th>\n",
       "      <th>non_discretionary_acct</th>\n",
       "      <th>avg_bal_l4m</th>\n",
       "      <th>overlay_depbal_cntry</th>\n",
       "      <th>overlay_pep</th>\n",
       "      <th>overlay_pep_str_regd</th>\n",
       "      <th>overlay_str</th>\n",
       "      <th>insert_tstp</th>\n",
       "      <th>down_grade</th>\n",
       "      <th>hr_cnty</th>\n",
       "      <th>hr_occup</th>\n",
       "      <th>target</th>\n",
       "    </tr>\n",
       "  </thead>\n",
       "  <tbody>\n",
       "    <tr>\n",
       "      <th>0</th>\n",
       "      <td>0.788801</td>\n",
       "      <td>-0.305422</td>\n",
       "      <td>0.562362</td>\n",
       "      <td>-0.550803</td>\n",
       "      <td>0.849713</td>\n",
       "      <td>0.486096</td>\n",
       "      <td>KYC1686315</td>\n",
       "      <td>1</td>\n",
       "      <td>0.646929</td>\n",
       "      <td>36069698</td>\n",
       "      <td>WM17</td>\n",
       "      <td>36.0</td>\n",
       "      <td>36.0</td>\n",
       "      <td>1</td>\n",
       "      <td>100.0</td>\n",
       "      <td>4.0</td>\n",
       "      <td>2019-11-17 02:21:07</td>\n",
       "      <td>2019-11-17 09:36:07</td>\n",
       "      <td>IIA Personal</td>\n",
       "      <td>NCL</td>\n",
       "      <td>Low-Risk Non-Canada</td>\n",
       "      <td>1739.0</td>\n",
       "      <td>UNK</td>\n",
       "      <td>Unknown Occupation</td>\n",
       "      <td>N/A</td>\n",
       "      <td>0.0</td>\n",
       "      <td>No</td>\n",
       "      <td>1.0</td>\n",
       "      <td>660237.25</td>\n",
       "      <td>None</td>\n",
       "      <td>None</td>\n",
       "      <td>None</td>\n",
       "      <td>None</td>\n",
       "      <td>2021-03-29 23:59:08</td>\n",
       "      <td>0</td>\n",
       "      <td>0</td>\n",
       "      <td>1</td>\n",
       "      <td>1</td>\n",
       "    </tr>\n",
       "    <tr>\n",
       "      <th>1</th>\n",
       "      <td>-1.275763</td>\n",
       "      <td>-0.305422</td>\n",
       "      <td>-1.719227</td>\n",
       "      <td>-0.550803</td>\n",
       "      <td>0.849713</td>\n",
       "      <td>0.486817</td>\n",
       "      <td>KYC438994</td>\n",
       "      <td>0</td>\n",
       "      <td>0.045015</td>\n",
       "      <td>35251886</td>\n",
       "      <td>WM04</td>\n",
       "      <td>73.0</td>\n",
       "      <td>99.0</td>\n",
       "      <td>3</td>\n",
       "      <td>99.0</td>\n",
       "      <td>1.0</td>\n",
       "      <td>2019-11-17 02:21:07</td>\n",
       "      <td>NaT</td>\n",
       "      <td>ScotiaMcleod Personal</td>\n",
       "      <td>CA</td>\n",
       "      <td>CANADA</td>\n",
       "      <td>6184.0</td>\n",
       "      <td>E904</td>\n",
       "      <td>Self-employed</td>\n",
       "      <td>N/A</td>\n",
       "      <td>0.0</td>\n",
       "      <td>No</td>\n",
       "      <td>3.0</td>\n",
       "      <td>14960337.00</td>\n",
       "      <td>Deposit Balance: 14960337 | Domicile Country: CA</td>\n",
       "      <td>None</td>\n",
       "      <td>None</td>\n",
       "      <td>None</td>\n",
       "      <td>2021-03-29 23:59:08</td>\n",
       "      <td>1</td>\n",
       "      <td>0</td>\n",
       "      <td>1</td>\n",
       "      <td>0</td>\n",
       "    </tr>\n",
       "    <tr>\n",
       "      <th>2</th>\n",
       "      <td>0.788801</td>\n",
       "      <td>-0.305422</td>\n",
       "      <td>0.562362</td>\n",
       "      <td>-0.550803</td>\n",
       "      <td>0.849713</td>\n",
       "      <td>0.486096</td>\n",
       "      <td>KYC1799963</td>\n",
       "      <td>1</td>\n",
       "      <td>0.646929</td>\n",
       "      <td>36085159</td>\n",
       "      <td>WM17</td>\n",
       "      <td>39.0</td>\n",
       "      <td>39.0</td>\n",
       "      <td>1</td>\n",
       "      <td>100.0</td>\n",
       "      <td>4.0</td>\n",
       "      <td>2019-11-17 02:21:07</td>\n",
       "      <td>2019-11-17 09:34:02</td>\n",
       "      <td>IIA Personal</td>\n",
       "      <td>KY</td>\n",
       "      <td>CAYMAN ISLANDS</td>\n",
       "      <td>1045.0</td>\n",
       "      <td>UNK</td>\n",
       "      <td>Unknown Occupation</td>\n",
       "      <td>N/A</td>\n",
       "      <td>0.0</td>\n",
       "      <td>No</td>\n",
       "      <td>1.0</td>\n",
       "      <td>1005967.25</td>\n",
       "      <td>None</td>\n",
       "      <td>None</td>\n",
       "      <td>None</td>\n",
       "      <td>None</td>\n",
       "      <td>2021-03-29 23:59:08</td>\n",
       "      <td>0</td>\n",
       "      <td>0</td>\n",
       "      <td>1</td>\n",
       "      <td>1</td>\n",
       "    </tr>\n",
       "    <tr>\n",
       "      <th>3</th>\n",
       "      <td>-1.218222</td>\n",
       "      <td>-0.305422</td>\n",
       "      <td>-1.719227</td>\n",
       "      <td>-0.550803</td>\n",
       "      <td>0.849713</td>\n",
       "      <td>0.486817</td>\n",
       "      <td>KYC1123463</td>\n",
       "      <td>0</td>\n",
       "      <td>0.044177</td>\n",
       "      <td>35394456</td>\n",
       "      <td>WM04</td>\n",
       "      <td>73.0</td>\n",
       "      <td>99.0</td>\n",
       "      <td>2</td>\n",
       "      <td>52.0</td>\n",
       "      <td>2.0</td>\n",
       "      <td>2019-11-17 02:21:07</td>\n",
       "      <td>2020-07-16 16:30:02</td>\n",
       "      <td>ScotiaMcleod Personal</td>\n",
       "      <td>CA</td>\n",
       "      <td>CANADA</td>\n",
       "      <td>4116.0</td>\n",
       "      <td>1</td>\n",
       "      <td>Accountant</td>\n",
       "      <td>N/A</td>\n",
       "      <td>0.0</td>\n",
       "      <td>No</td>\n",
       "      <td>3.0</td>\n",
       "      <td>13655561.75</td>\n",
       "      <td>Deposit Balance: 13655561.75 | Domicile Countr...</td>\n",
       "      <td>None</td>\n",
       "      <td>None</td>\n",
       "      <td>None</td>\n",
       "      <td>2021-03-29 23:59:08</td>\n",
       "      <td>0</td>\n",
       "      <td>0</td>\n",
       "      <td>1</td>\n",
       "      <td>0</td>\n",
       "    </tr>\n",
       "    <tr>\n",
       "      <th>4</th>\n",
       "      <td>0.788801</td>\n",
       "      <td>-0.305422</td>\n",
       "      <td>0.562362</td>\n",
       "      <td>-0.550803</td>\n",
       "      <td>0.849713</td>\n",
       "      <td>0.486096</td>\n",
       "      <td>KYC1696365</td>\n",
       "      <td>1</td>\n",
       "      <td>0.646929</td>\n",
       "      <td>36000840</td>\n",
       "      <td>WM17</td>\n",
       "      <td>36.0</td>\n",
       "      <td>36.0</td>\n",
       "      <td>1</td>\n",
       "      <td>100.0</td>\n",
       "      <td>4.0</td>\n",
       "      <td>2019-11-17 02:21:07</td>\n",
       "      <td>2019-11-17 09:34:53</td>\n",
       "      <td>IIA Personal</td>\n",
       "      <td>NCL</td>\n",
       "      <td>Low-Risk Non-Canada</td>\n",
       "      <td>1683.0</td>\n",
       "      <td>UNK</td>\n",
       "      <td>Unknown Occupation</td>\n",
       "      <td>N/A</td>\n",
       "      <td>0.0</td>\n",
       "      <td>No</td>\n",
       "      <td>1.0</td>\n",
       "      <td>735395.00</td>\n",
       "      <td>None</td>\n",
       "      <td>None</td>\n",
       "      <td>None</td>\n",
       "      <td>None</td>\n",
       "      <td>2021-03-29 23:59:08</td>\n",
       "      <td>0</td>\n",
       "      <td>0</td>\n",
       "      <td>1</td>\n",
       "      <td>1</td>\n",
       "    </tr>\n",
       "    <tr>\n",
       "      <th>...</th>\n",
       "      <td>...</td>\n",
       "      <td>...</td>\n",
       "      <td>...</td>\n",
       "      <td>...</td>\n",
       "      <td>...</td>\n",
       "      <td>...</td>\n",
       "      <td>...</td>\n",
       "      <td>...</td>\n",
       "      <td>...</td>\n",
       "      <td>...</td>\n",
       "      <td>...</td>\n",
       "      <td>...</td>\n",
       "      <td>...</td>\n",
       "      <td>...</td>\n",
       "      <td>...</td>\n",
       "      <td>...</td>\n",
       "      <td>...</td>\n",
       "      <td>...</td>\n",
       "      <td>...</td>\n",
       "      <td>...</td>\n",
       "      <td>...</td>\n",
       "      <td>...</td>\n",
       "      <td>...</td>\n",
       "      <td>...</td>\n",
       "      <td>...</td>\n",
       "      <td>...</td>\n",
       "      <td>...</td>\n",
       "      <td>...</td>\n",
       "      <td>...</td>\n",
       "      <td>...</td>\n",
       "      <td>...</td>\n",
       "      <td>...</td>\n",
       "      <td>...</td>\n",
       "      <td>...</td>\n",
       "      <td>...</td>\n",
       "      <td>...</td>\n",
       "      <td>...</td>\n",
       "      <td>...</td>\n",
       "    </tr>\n",
       "    <tr>\n",
       "      <th>98</th>\n",
       "      <td>-1.218222</td>\n",
       "      <td>-0.305422</td>\n",
       "      <td>-1.719227</td>\n",
       "      <td>-0.550803</td>\n",
       "      <td>0.849713</td>\n",
       "      <td>0.486817</td>\n",
       "      <td>KYC1424942</td>\n",
       "      <td>0</td>\n",
       "      <td>0.044177</td>\n",
       "      <td>35280664</td>\n",
       "      <td>WM04</td>\n",
       "      <td>73.0</td>\n",
       "      <td>99.0</td>\n",
       "      <td>3</td>\n",
       "      <td>40.0</td>\n",
       "      <td>1.0</td>\n",
       "      <td>2019-11-17 02:21:07</td>\n",
       "      <td>2021-03-19 17:58:34</td>\n",
       "      <td>ScotiaMcleod Personal</td>\n",
       "      <td>CA</td>\n",
       "      <td>CANADA</td>\n",
       "      <td>3329.0</td>\n",
       "      <td>UNK</td>\n",
       "      <td>Unknown Occupation</td>\n",
       "      <td>N/A</td>\n",
       "      <td>0.0</td>\n",
       "      <td>No</td>\n",
       "      <td>6.0</td>\n",
       "      <td>12334229.25</td>\n",
       "      <td>Deposit Balance: 12334229.25 | Domicile Countr...</td>\n",
       "      <td>None</td>\n",
       "      <td>None</td>\n",
       "      <td>None</td>\n",
       "      <td>2021-03-29 23:59:08</td>\n",
       "      <td>1</td>\n",
       "      <td>0</td>\n",
       "      <td>1</td>\n",
       "      <td>0</td>\n",
       "    </tr>\n",
       "    <tr>\n",
       "      <th>99</th>\n",
       "      <td>0.788801</td>\n",
       "      <td>-0.305422</td>\n",
       "      <td>-1.719227</td>\n",
       "      <td>-0.550803</td>\n",
       "      <td>0.849713</td>\n",
       "      <td>0.486817</td>\n",
       "      <td>KYC1767904</td>\n",
       "      <td>0</td>\n",
       "      <td>0.022737</td>\n",
       "      <td>36989580</td>\n",
       "      <td>WM04</td>\n",
       "      <td>44.0</td>\n",
       "      <td>96.0</td>\n",
       "      <td>3</td>\n",
       "      <td>40.0</td>\n",
       "      <td>1.0</td>\n",
       "      <td>2020-01-22 03:50:14</td>\n",
       "      <td>2021-03-11 18:25:37</td>\n",
       "      <td>ScotiaMcleod Personal</td>\n",
       "      <td>CA</td>\n",
       "      <td>CANADA</td>\n",
       "      <td>1307.0</td>\n",
       "      <td>212</td>\n",
       "      <td>Lawyer</td>\n",
       "      <td>N/A</td>\n",
       "      <td>0.0</td>\n",
       "      <td>No</td>\n",
       "      <td>8.0</td>\n",
       "      <td>10624501.25</td>\n",
       "      <td>Deposit Balance: 10624501.25 | Domicile Countr...</td>\n",
       "      <td>None</td>\n",
       "      <td>None</td>\n",
       "      <td>None</td>\n",
       "      <td>2021-03-29 23:59:08</td>\n",
       "      <td>1</td>\n",
       "      <td>0</td>\n",
       "      <td>1</td>\n",
       "      <td>0</td>\n",
       "    </tr>\n",
       "    <tr>\n",
       "      <th>100</th>\n",
       "      <td>0.788801</td>\n",
       "      <td>3.261940</td>\n",
       "      <td>0.562362</td>\n",
       "      <td>-0.550803</td>\n",
       "      <td>-1.172289</td>\n",
       "      <td>0.486096</td>\n",
       "      <td>KYC1152335</td>\n",
       "      <td>1</td>\n",
       "      <td>0.986675</td>\n",
       "      <td>35331337</td>\n",
       "      <td>WM06</td>\n",
       "      <td>NaN</td>\n",
       "      <td>10.0</td>\n",
       "      <td>1</td>\n",
       "      <td>100.0</td>\n",
       "      <td>4.0</td>\n",
       "      <td>2019-11-17 02:21:07</td>\n",
       "      <td>2019-11-17 09:30:04</td>\n",
       "      <td>None</td>\n",
       "      <td>None</td>\n",
       "      <td>None</td>\n",
       "      <td>NaN</td>\n",
       "      <td>None</td>\n",
       "      <td>None</td>\n",
       "      <td>None</td>\n",
       "      <td>NaN</td>\n",
       "      <td>None</td>\n",
       "      <td>NaN</td>\n",
       "      <td>NaN</td>\n",
       "      <td>None</td>\n",
       "      <td>None</td>\n",
       "      <td>Registered Flag: Y, PEP_FL: , Type of PEP: , S...</td>\n",
       "      <td>None</td>\n",
       "      <td>2021-03-29 23:59:08</td>\n",
       "      <td>0</td>\n",
       "      <td>0</td>\n",
       "      <td>0</td>\n",
       "      <td>1</td>\n",
       "    </tr>\n",
       "    <tr>\n",
       "      <th>101</th>\n",
       "      <td>-1.218222</td>\n",
       "      <td>-0.305422</td>\n",
       "      <td>0.562362</td>\n",
       "      <td>-0.550803</td>\n",
       "      <td>-1.172289</td>\n",
       "      <td>0.486096</td>\n",
       "      <td>KYC1239404</td>\n",
       "      <td>1</td>\n",
       "      <td>0.908870</td>\n",
       "      <td>34980801</td>\n",
       "      <td>WM06</td>\n",
       "      <td>26.0</td>\n",
       "      <td>26.0</td>\n",
       "      <td>1</td>\n",
       "      <td>53.0</td>\n",
       "      <td>3.0</td>\n",
       "      <td>2019-11-17 02:21:07</td>\n",
       "      <td>2021-02-08 11:38:44</td>\n",
       "      <td>Wealth ITrade Personal</td>\n",
       "      <td>CA</td>\n",
       "      <td>CANADA</td>\n",
       "      <td>3642.0</td>\n",
       "      <td>E901</td>\n",
       "      <td>Unemployed</td>\n",
       "      <td>N/A</td>\n",
       "      <td>0.0</td>\n",
       "      <td>No</td>\n",
       "      <td>1.0</td>\n",
       "      <td>0.00</td>\n",
       "      <td>None</td>\n",
       "      <td>None</td>\n",
       "      <td>None</td>\n",
       "      <td>None</td>\n",
       "      <td>2021-03-29 23:59:08</td>\n",
       "      <td>0</td>\n",
       "      <td>0</td>\n",
       "      <td>0</td>\n",
       "      <td>1</td>\n",
       "    </tr>\n",
       "    <tr>\n",
       "      <th>102</th>\n",
       "      <td>0.788801</td>\n",
       "      <td>-0.305422</td>\n",
       "      <td>0.562362</td>\n",
       "      <td>1.808468</td>\n",
       "      <td>0.849713</td>\n",
       "      <td>0.486096</td>\n",
       "      <td>KYC1700851</td>\n",
       "      <td>0</td>\n",
       "      <td>0.079416</td>\n",
       "      <td>36003847</td>\n",
       "      <td>WM17</td>\n",
       "      <td>53.0</td>\n",
       "      <td>53.0</td>\n",
       "      <td>3</td>\n",
       "      <td>40.0</td>\n",
       "      <td>1.0</td>\n",
       "      <td>2019-11-17 02:21:07</td>\n",
       "      <td>2021-04-14 18:13:19</td>\n",
       "      <td>IIA Personal</td>\n",
       "      <td>BR</td>\n",
       "      <td>BRAZIL</td>\n",
       "      <td>1656.0</td>\n",
       "      <td>80</td>\n",
       "      <td>Consultant</td>\n",
       "      <td>N/A</td>\n",
       "      <td>0.0</td>\n",
       "      <td>No</td>\n",
       "      <td>1.0</td>\n",
       "      <td>734227.75</td>\n",
       "      <td>None</td>\n",
       "      <td>None</td>\n",
       "      <td>None</td>\n",
       "      <td>None</td>\n",
       "      <td>2021-04-16 09:53:14</td>\n",
       "      <td>1</td>\n",
       "      <td>1</td>\n",
       "      <td>1</td>\n",
       "      <td>0</td>\n",
       "    </tr>\n",
       "  </tbody>\n",
       "</table>\n",
       "<p>103 rows × 38 columns</p>\n",
       "</div>"
      ],
      "text/plain": [
       "     tenure_trans  pep_trans  avg_bal_trans  hr_cnty_trans  hr_occup_trans  \\\n",
       "0        0.788801  -0.305422       0.562362      -0.550803        0.849713   \n",
       "1       -1.275763  -0.305422      -1.719227      -0.550803        0.849713   \n",
       "2        0.788801  -0.305422       0.562362      -0.550803        0.849713   \n",
       "3       -1.218222  -0.305422      -1.719227      -0.550803        0.849713   \n",
       "4        0.788801  -0.305422       0.562362      -0.550803        0.849713   \n",
       "..            ...        ...            ...            ...             ...   \n",
       "98      -1.218222  -0.305422      -1.719227      -0.550803        0.849713   \n",
       "99       0.788801  -0.305422      -1.719227      -0.550803        0.849713   \n",
       "100      0.788801   3.261940       0.562362      -0.550803       -1.172289   \n",
       "101     -1.218222  -0.305422       0.562362      -0.550803       -1.172289   \n",
       "102      0.788801  -0.305422       0.562362       1.808468        0.849713   \n",
       "\n",
       "     crr_score_x cust_number  pred      prob     ra_id jrsdcn_cd  base_score  \\\n",
       "0       0.486096  KYC1686315     1  0.646929  36069698      WM17        36.0   \n",
       "1       0.486817   KYC438994     0  0.045015  35251886      WM04        73.0   \n",
       "2       0.486096  KYC1799963     1  0.646929  36085159      WM17        39.0   \n",
       "3       0.486817  KYC1123463     0  0.044177  35394456      WM04        73.0   \n",
       "4       0.486096  KYC1696365     1  0.646929  36000840      WM17        36.0   \n",
       "..           ...         ...   ...       ...       ...       ...         ...   \n",
       "98      0.486817  KYC1424942     0  0.044177  35280664      WM04        73.0   \n",
       "99      0.486817  KYC1767904     0  0.022737  36989580      WM04        44.0   \n",
       "100     0.486096  KYC1152335     1  0.986675  35331337      WM06         NaN   \n",
       "101     0.486096  KYC1239404     1  0.908870  34980801      WM06        26.0   \n",
       "102     0.486096  KYC1700851     0  0.079416  36003847      WM17        53.0   \n",
       "\n",
       "     crr_score_y  crr_rating  eddu_score  eddu_rating       ra_created_dt  \\\n",
       "0           36.0           1       100.0          4.0 2019-11-17 02:21:07   \n",
       "1           99.0           3        99.0          1.0 2019-11-17 02:21:07   \n",
       "2           39.0           1       100.0          4.0 2019-11-17 02:21:07   \n",
       "3           99.0           2        52.0          2.0 2019-11-17 02:21:07   \n",
       "4           36.0           1       100.0          4.0 2019-11-17 02:21:07   \n",
       "..           ...         ...         ...          ...                 ...   \n",
       "98          99.0           3        40.0          1.0 2019-11-17 02:21:07   \n",
       "99          96.0           3        40.0          1.0 2020-01-22 03:50:14   \n",
       "100         10.0           1       100.0          4.0 2019-11-17 02:21:07   \n",
       "101         26.0           1        53.0          3.0 2019-11-17 02:21:07   \n",
       "102         53.0           3        40.0          1.0 2019-11-17 02:21:07   \n",
       "\n",
       "         ra_modified_dt        line_of_business assoc_cntry_cd  \\\n",
       "0   2019-11-17 09:36:07            IIA Personal            NCL   \n",
       "1                   NaT   ScotiaMcleod Personal             CA   \n",
       "2   2019-11-17 09:34:02            IIA Personal             KY   \n",
       "3   2020-07-16 16:30:02   ScotiaMcleod Personal             CA   \n",
       "4   2019-11-17 09:34:53            IIA Personal            NCL   \n",
       "..                  ...                     ...            ...   \n",
       "98  2021-03-19 17:58:34   ScotiaMcleod Personal             CA   \n",
       "99  2021-03-11 18:25:37   ScotiaMcleod Personal             CA   \n",
       "100 2019-11-17 09:30:04                    None           None   \n",
       "101 2021-02-08 11:38:44  Wealth ITrade Personal             CA   \n",
       "102 2021-04-14 18:13:19            IIA Personal             BR   \n",
       "\n",
       "          assoc_cntry_nm  tenure_days ocptn_cd            ocptn_nm pep_type  \\\n",
       "0    Low-Risk Non-Canada       1739.0      UNK  Unknown Occupation      N/A   \n",
       "1                 CANADA       6184.0     E904       Self-employed      N/A   \n",
       "2         CAYMAN ISLANDS       1045.0      UNK  Unknown Occupation      N/A   \n",
       "3                 CANADA       4116.0        1          Accountant      N/A   \n",
       "4    Low-Risk Non-Canada       1683.0      UNK  Unknown Occupation      N/A   \n",
       "..                   ...          ...      ...                 ...      ...   \n",
       "98                CANADA       3329.0      UNK  Unknown Occupation      N/A   \n",
       "99                CANADA       1307.0      212              Lawyer      N/A   \n",
       "100                 None          NaN     None                None     None   \n",
       "101               CANADA       3642.0     E901          Unemployed      N/A   \n",
       "102               BRAZIL       1656.0       80          Consultant      N/A   \n",
       "\n",
       "     str_cnt all_prod_registered  non_discretionary_acct  avg_bal_l4m  \\\n",
       "0        0.0                  No                     1.0    660237.25   \n",
       "1        0.0                  No                     3.0  14960337.00   \n",
       "2        0.0                  No                     1.0   1005967.25   \n",
       "3        0.0                  No                     3.0  13655561.75   \n",
       "4        0.0                  No                     1.0    735395.00   \n",
       "..       ...                 ...                     ...          ...   \n",
       "98       0.0                  No                     6.0  12334229.25   \n",
       "99       0.0                  No                     8.0  10624501.25   \n",
       "100      NaN                None                     NaN          NaN   \n",
       "101      0.0                  No                     1.0         0.00   \n",
       "102      0.0                  No                     1.0    734227.75   \n",
       "\n",
       "                                  overlay_depbal_cntry overlay_pep  \\\n",
       "0                                                 None        None   \n",
       "1     Deposit Balance: 14960337 | Domicile Country: CA        None   \n",
       "2                                                 None        None   \n",
       "3    Deposit Balance: 13655561.75 | Domicile Countr...        None   \n",
       "4                                                 None        None   \n",
       "..                                                 ...         ...   \n",
       "98   Deposit Balance: 12334229.25 | Domicile Countr...        None   \n",
       "99   Deposit Balance: 10624501.25 | Domicile Countr...        None   \n",
       "100                                               None        None   \n",
       "101                                               None        None   \n",
       "102                                               None        None   \n",
       "\n",
       "                                  overlay_pep_str_regd overlay_str  \\\n",
       "0                                                 None        None   \n",
       "1                                                 None        None   \n",
       "2                                                 None        None   \n",
       "3                                                 None        None   \n",
       "4                                                 None        None   \n",
       "..                                                 ...         ...   \n",
       "98                                                None        None   \n",
       "99                                                None        None   \n",
       "100  Registered Flag: Y, PEP_FL: , Type of PEP: , S...        None   \n",
       "101                                               None        None   \n",
       "102                                               None        None   \n",
       "\n",
       "            insert_tstp  down_grade  hr_cnty  hr_occup  target  \n",
       "0   2021-03-29 23:59:08           0        0         1       1  \n",
       "1   2021-03-29 23:59:08           1        0         1       0  \n",
       "2   2021-03-29 23:59:08           0        0         1       1  \n",
       "3   2021-03-29 23:59:08           0        0         1       0  \n",
       "4   2021-03-29 23:59:08           0        0         1       1  \n",
       "..                  ...         ...      ...       ...     ...  \n",
       "98  2021-03-29 23:59:08           1        0         1       0  \n",
       "99  2021-03-29 23:59:08           1        0         1       0  \n",
       "100 2021-03-29 23:59:08           0        0         0       1  \n",
       "101 2021-03-29 23:59:08           0        0         0       1  \n",
       "102 2021-04-16 09:53:14           1        1         1       0  \n",
       "\n",
       "[103 rows x 38 columns]"
      ]
     },
     "execution_count": 214,
     "metadata": {},
     "output_type": "execute_result"
    }
   ],
   "source": [
    "test_check"
   ]
  },
  {
   "cell_type": "code",
   "execution_count": 212,
   "metadata": {},
   "outputs": [],
   "source": [
    "test_check=pd.merge(test,test_check,on='cust_number',how='left')"
   ]
  },
  {
   "cell_type": "code",
   "execution_count": 215,
   "metadata": {},
   "outputs": [
    {
     "data": {
      "text/html": [
       "<div>\n",
       "<style scoped>\n",
       "    .dataframe tbody tr th:only-of-type {\n",
       "        vertical-align: middle;\n",
       "    }\n",
       "\n",
       "    .dataframe tbody tr th {\n",
       "        vertical-align: top;\n",
       "    }\n",
       "\n",
       "    .dataframe thead th {\n",
       "        text-align: right;\n",
       "    }\n",
       "</style>\n",
       "<table border=\"1\" class=\"dataframe\">\n",
       "  <thead>\n",
       "    <tr style=\"text-align: right;\">\n",
       "      <th></th>\n",
       "      <th>cust_number</th>\n",
       "      <th>pred</th>\n",
       "      <th>target</th>\n",
       "      <th>down_grade</th>\n",
       "      <th>eddu_score</th>\n",
       "      <th>eddu_rating</th>\n",
       "      <th>crr_rating</th>\n",
       "      <th>prob</th>\n",
       "    </tr>\n",
       "  </thead>\n",
       "  <tbody>\n",
       "    <tr>\n",
       "      <th>0</th>\n",
       "      <td>KYC1686315</td>\n",
       "      <td>1</td>\n",
       "      <td>1</td>\n",
       "      <td>0</td>\n",
       "      <td>100.0</td>\n",
       "      <td>4.0</td>\n",
       "      <td>1</td>\n",
       "      <td>0.646929</td>\n",
       "    </tr>\n",
       "    <tr>\n",
       "      <th>1</th>\n",
       "      <td>KYC438994</td>\n",
       "      <td>0</td>\n",
       "      <td>0</td>\n",
       "      <td>1</td>\n",
       "      <td>99.0</td>\n",
       "      <td>1.0</td>\n",
       "      <td>3</td>\n",
       "      <td>0.045015</td>\n",
       "    </tr>\n",
       "    <tr>\n",
       "      <th>2</th>\n",
       "      <td>KYC1799963</td>\n",
       "      <td>1</td>\n",
       "      <td>1</td>\n",
       "      <td>0</td>\n",
       "      <td>100.0</td>\n",
       "      <td>4.0</td>\n",
       "      <td>1</td>\n",
       "      <td>0.646929</td>\n",
       "    </tr>\n",
       "    <tr>\n",
       "      <th>3</th>\n",
       "      <td>KYC1123463</td>\n",
       "      <td>0</td>\n",
       "      <td>0</td>\n",
       "      <td>0</td>\n",
       "      <td>52.0</td>\n",
       "      <td>2.0</td>\n",
       "      <td>2</td>\n",
       "      <td>0.044177</td>\n",
       "    </tr>\n",
       "    <tr>\n",
       "      <th>4</th>\n",
       "      <td>KYC1696365</td>\n",
       "      <td>1</td>\n",
       "      <td>1</td>\n",
       "      <td>0</td>\n",
       "      <td>100.0</td>\n",
       "      <td>4.0</td>\n",
       "      <td>1</td>\n",
       "      <td>0.646929</td>\n",
       "    </tr>\n",
       "    <tr>\n",
       "      <th>...</th>\n",
       "      <td>...</td>\n",
       "      <td>...</td>\n",
       "      <td>...</td>\n",
       "      <td>...</td>\n",
       "      <td>...</td>\n",
       "      <td>...</td>\n",
       "      <td>...</td>\n",
       "      <td>...</td>\n",
       "    </tr>\n",
       "    <tr>\n",
       "      <th>98</th>\n",
       "      <td>KYC1424942</td>\n",
       "      <td>0</td>\n",
       "      <td>0</td>\n",
       "      <td>1</td>\n",
       "      <td>40.0</td>\n",
       "      <td>1.0</td>\n",
       "      <td>3</td>\n",
       "      <td>0.044177</td>\n",
       "    </tr>\n",
       "    <tr>\n",
       "      <th>99</th>\n",
       "      <td>KYC1767904</td>\n",
       "      <td>0</td>\n",
       "      <td>0</td>\n",
       "      <td>1</td>\n",
       "      <td>40.0</td>\n",
       "      <td>1.0</td>\n",
       "      <td>3</td>\n",
       "      <td>0.022737</td>\n",
       "    </tr>\n",
       "    <tr>\n",
       "      <th>100</th>\n",
       "      <td>KYC1152335</td>\n",
       "      <td>1</td>\n",
       "      <td>1</td>\n",
       "      <td>0</td>\n",
       "      <td>100.0</td>\n",
       "      <td>4.0</td>\n",
       "      <td>1</td>\n",
       "      <td>0.986675</td>\n",
       "    </tr>\n",
       "    <tr>\n",
       "      <th>101</th>\n",
       "      <td>KYC1239404</td>\n",
       "      <td>1</td>\n",
       "      <td>1</td>\n",
       "      <td>0</td>\n",
       "      <td>53.0</td>\n",
       "      <td>3.0</td>\n",
       "      <td>1</td>\n",
       "      <td>0.908870</td>\n",
       "    </tr>\n",
       "    <tr>\n",
       "      <th>102</th>\n",
       "      <td>KYC1700851</td>\n",
       "      <td>0</td>\n",
       "      <td>0</td>\n",
       "      <td>1</td>\n",
       "      <td>40.0</td>\n",
       "      <td>1.0</td>\n",
       "      <td>3</td>\n",
       "      <td>0.079416</td>\n",
       "    </tr>\n",
       "  </tbody>\n",
       "</table>\n",
       "<p>103 rows × 8 columns</p>\n",
       "</div>"
      ],
      "text/plain": [
       "    cust_number  pred  target  down_grade  eddu_score  eddu_rating  \\\n",
       "0    KYC1686315     1       1           0       100.0          4.0   \n",
       "1     KYC438994     0       0           1        99.0          1.0   \n",
       "2    KYC1799963     1       1           0       100.0          4.0   \n",
       "3    KYC1123463     0       0           0        52.0          2.0   \n",
       "4    KYC1696365     1       1           0       100.0          4.0   \n",
       "..          ...   ...     ...         ...         ...          ...   \n",
       "98   KYC1424942     0       0           1        40.0          1.0   \n",
       "99   KYC1767904     0       0           1        40.0          1.0   \n",
       "100  KYC1152335     1       1           0       100.0          4.0   \n",
       "101  KYC1239404     1       1           0        53.0          3.0   \n",
       "102  KYC1700851     0       0           1        40.0          1.0   \n",
       "\n",
       "     crr_rating      prob  \n",
       "0             1  0.646929  \n",
       "1             3  0.045015  \n",
       "2             1  0.646929  \n",
       "3             2  0.044177  \n",
       "4             1  0.646929  \n",
       "..          ...       ...  \n",
       "98            3  0.044177  \n",
       "99            3  0.022737  \n",
       "100           1  0.986675  \n",
       "101           1  0.908870  \n",
       "102           3  0.079416  \n",
       "\n",
       "[103 rows x 8 columns]"
      ]
     },
     "execution_count": 215,
     "metadata": {},
     "output_type": "execute_result"
    }
   ],
   "source": [
    "test_check[['cust_number','pred','target','down_grade','eddu_score','eddu_rating','crr_rating','prob']]"
   ]
  },
  {
   "cell_type": "code",
   "execution_count": 145,
   "metadata": {},
   "outputs": [],
   "source": [
    "duplicate_df = test_check[test_check.duplicated(['cust_number'])]"
   ]
  },
  {
   "cell_type": "code",
   "execution_count": 146,
   "metadata": {},
   "outputs": [
    {
     "data": {
      "text/plain": [
       "(0, 38)"
      ]
     },
     "execution_count": 146,
     "metadata": {},
     "output_type": "execute_result"
    }
   ],
   "source": [
    "duplicate_df.shape"
   ]
  },
  {
   "cell_type": "markdown",
   "metadata": {},
   "source": [
    "# RF XGB SVM LR"
   ]
  },
  {
   "cell_type": "code",
   "execution_count": 216,
   "metadata": {},
   "outputs": [],
   "source": [
    "data=data.drop_duplicates('cust_number')"
   ]
  },
  {
   "cell_type": "code",
   "execution_count": 217,
   "metadata": {},
   "outputs": [
    {
     "data": {
      "text/plain": [
       "(257, 11)"
      ]
     },
     "execution_count": 217,
     "metadata": {},
     "output_type": "execute_result"
    }
   ],
   "source": [
    "data.shape"
   ]
  },
  {
   "cell_type": "code",
   "execution_count": 218,
   "metadata": {},
   "outputs": [],
   "source": [
    "X_train, X_test, y_train, y_test = model_data_split(data)\n",
    "X_train, train_idx_lst_08, train_idx_lst_03 = pick_overlay(X_train, overlay_lst)\n",
    "X_test, test_idx_lst_08, test_idx_lst_03= pick_overlay(X_test, overlay_lst)"
   ]
  },
  {
   "cell_type": "code",
   "execution_count": 219,
   "metadata": {},
   "outputs": [],
   "source": [
    "X_train, X_test, y_train, y_test = model_data_split(data_base)\n",
    "X_train, _, _ = pick_overlay(X_train, overlay_lst)\n",
    "X_test, _, _= pick_overlay(X_test, overlay_lst)"
   ]
  },
  {
   "cell_type": "code",
   "execution_count": 220,
   "metadata": {},
   "outputs": [],
   "source": [
    "train=X_train.copy()\n",
    "test=X_test.copy()"
   ]
  },
  {
   "cell_type": "code",
   "execution_count": 221,
   "metadata": {},
   "outputs": [],
   "source": [
    "X_train=X_train.drop('cust_number',axis='columns')\n",
    "X_test=X_test.drop('cust_number',axis='columns')"
   ]
  },
  {
   "cell_type": "code",
   "execution_count": 222,
   "metadata": {},
   "outputs": [
    {
     "data": {
      "text/plain": [
       "[35]"
      ]
     },
     "execution_count": 222,
     "metadata": {},
     "output_type": "execute_result"
    }
   ],
   "source": [
    "test_idx_lst_08"
   ]
  },
  {
   "cell_type": "code",
   "execution_count": 223,
   "metadata": {},
   "outputs": [
    {
     "data": {
      "text/plain": [
       "[96]"
      ]
     },
     "execution_count": 223,
     "metadata": {},
     "output_type": "execute_result"
    }
   ],
   "source": [
    "test_idx_lst_03"
   ]
  },
  {
   "cell_type": "code",
   "execution_count": 224,
   "metadata": {},
   "outputs": [],
   "source": [
    "import warnings\n",
    "warnings.filterwarnings('ignore')\n",
    "from datetime import datetime\n",
    "from sklearn.model_selection import RandomizedSearchCV, GridSearchCV\n",
    "\n",
    "def timer(start_time=None):\n",
    "    if not start_time:\n",
    "        start_time = datetime.now()\n",
    "        return start_time\n",
    "    elif start_time:\n",
    "        thour, temp_sec = divmod((datetime.now() - start_time).total_seconds(), 3600)\n",
    "        tmin, tsec = divmod(temp_sec, 60)\n",
    "        print('\\n Time taken: %i hours %i minutes and %s seconds.' % (thour, tmin, round(tsec, 2)))"
   ]
  },
  {
   "cell_type": "code",
   "execution_count": 225,
   "metadata": {},
   "outputs": [],
   "source": [
    "import pandas as pd\n",
    "import numpy as np\n",
    "from scipy.optimize import minimize, Bounds\n",
    "from sklearn.linear_model.logistic import _logistic_loss\n",
    "from sklearn.linear_model import LogisticRegression \n",
    "import sklearn.metrics as metrics\n",
    "import matplotlib.pyplot as plt\n",
    "from sklearn.model_selection import train_test_split, StratifiedKFold\n",
    "from sklearn.utils import resample\n",
    "from sklearn.preprocessing import StandardScaler\n",
    "from math import sqrt\n",
    "#from sklearn.tree import DecisionTreeClassifier\n",
    "#from sklearn.ensemble import RandomForestClassifier\n",
    "from scipy.spatial import distance\n",
    "from sklearn.ensemble import RandomForestClassifier\n",
    "from xgboost import XGBClassifier\n",
    "import xgboost as xgb\n",
    "from sklearn.svm import SVC\n",
    "from sklearn.feature_extraction.text import CountVectorizer\n",
    "\n",
    "def Constrained_Logistic_Regression(x_train, y_train, x_valid, y_valid, alpha, bound, col_names):\n",
    "\n",
    "    w0 = np.zeros(x_train.shape[1]) #initial guess\n",
    "    lrc_res = minimize(_logistic_loss, w0, args = (x_train, y_train, alpha), method='trust-constr', tol = 0.0001, options={'verbose': 0}, bounds = bound)\n",
    "    lr = LogisticRegression()\n",
    "    lr.coef_ = np.reshape((lrc_res['x'][0:-1]), (-1, len(lrc_res['x'][0:-1])))\n",
    "    lr.intercept_ = np.array(lrc_res['x'][-1])\n",
    "    lr.classes_ = np.array([0, 1])\n",
    "    coef_df = pd.DataFrame([list(lr.coef_[0])+[float(lr.intercept_)]], columns=col_names)\n",
    "    probs = lr.predict_proba(x_valid.iloc[:,:-1])\n",
    "    preds = probs[:,1]\n",
    "    probs_train  = lr.predict_proba(np.array(x_train)[:,:-1])\n",
    "    preds_train  = probs_train[:, 1]\n",
    "    fpr, tpr, threshold = metrics.roc_curve(y_valid, preds)\n",
    "    fpr_train, tpr_train, threshold_train = metrics.roc_curve(y_train, preds_train)\n",
    "    auc_test = metrics.auc(fpr, tpr)\n",
    "    auc_train = metrics.auc(fpr_train, tpr_train)\n",
    "    \n",
    "    return preds, auc_test, auc_train, coef_df"
   ]
  },
  {
   "cell_type": "code",
   "execution_count": 226,
   "metadata": {},
   "outputs": [],
   "source": [
    "def Cross_Validation(X_train, Y_train, X_test, Y_test, alpha_lst, col_names, bound_lst, algo, params = None, folds = 3, param_comb = 50):\n",
    "    \n",
    "    algos = ['LR','RF','XGB','SVM']\n",
    "    if algo not in algos:\n",
    "        raise Exception(\"Algorithm should be 'LR', 'RF', 'SVM' or 'XGB'\")\n",
    "\n",
    "    skf = StratifiedKFold(n_splits=folds, shuffle = True, random_state = 1001)\n",
    "    start_time = timer(None) # timing starts from this point for \"start_time\" variable\n",
    "    if params == None:\n",
    "        result = dict(zip(alpha_lst, np.repeat(None, len(alpha_lst))))\n",
    "    #     print(X_train.shape,y_train.shape)\n",
    "        for train_index, test_index in skf.split(X_train, Y_train): #splitting training to subtrain dataset and validation dataset\n",
    "\n",
    "            X_subtrain, X_valid = X_train.iloc[train_index,:], X_train.iloc[test_index,:]\n",
    "            y_subtrain, y_valid = Y_train.iloc[train_index], Y_train.iloc[test_index]\n",
    "            y_subtrain_temp = y_subtrain\n",
    "            y_subtrain_temp[y_subtrain_temp == 0] = -1 \n",
    "\n",
    "            for alpha in alpha_lst:\n",
    "\n",
    "    #             alpha_temp = alpha*len(train_index)\n",
    "                alpha_temp = alpha\n",
    "    #             print(alpha_temp,len(train_index))\n",
    "                _,roc_auc,_, _ = Constrained_Logistic_Regression(X_subtrain, y_subtrain_temp, X_valid, y_valid, alpha_temp, bound_lst, col_names)\n",
    "\n",
    "                if result[alpha]!=None:\n",
    "                    result[alpha].append(roc_auc)\n",
    "                else:\n",
    "                    result[alpha] = [roc_auc]\n",
    "\n",
    "        result = pd.DataFrame.from_dict(result)\n",
    "        optimal_alpha = result.mean().idxmax() #best alpha is selected as the one with maximum average auc on the validation sets\n",
    "\n",
    "        Y_train_temp = Y_train.copy()\n",
    "        Y_train_temp[Y_train_temp == 0]=-1 \n",
    "        probs, final_auc, final_train_auc, coef_df = Constrained_Logistic_Regression(X_train, Y_train_temp, X_test, Y_test, optimal_alpha, bound_lst, col_names)\n",
    "    else:\n",
    "        if algo == 'RF':\n",
    "            model = RandomForestClassifier(random_state = 42)\n",
    "        elif algo =='XGB':\n",
    "            model = XGBClassifier(objective=\"binary:logistic\", eval_metric='logloss', colsample_bytree=0.8, alpha=10, seed=3)\n",
    "        elif algo =='SVM':\n",
    "            model = SVC(probability=True)\n",
    "\n",
    "        random_search = RandomizedSearchCV(model, param_distributions=params, n_iter=param_comb, scoring='roc_auc', n_jobs=4, cv=skf.split(X_train, Y_train), verbose=3, random_state=1001 )\n",
    "\n",
    "        random_search.fit(X_train, y_train)\n",
    "\n",
    "        print('\\n Best estimator:')\n",
    "        print(random_search.best_estimator_)\n",
    "        if algo in ['LR','RF','XGB']:\n",
    "            print('\\n Feature Importance:')\n",
    "            print(pd.DataFrame(random_search.best_estimator_.feature_importances_,index=list(X_train.columns),columns = ['Importances']).sort_values('Importances',ascending=0))\n",
    "            print('\\n Best parameters:')\n",
    "            print(random_search.best_params_)\n",
    "        else:\n",
    "            print('\\n Best estimator')\n",
    "            print(random_search.best_estimator_ )\n",
    "                \n",
    "        \n",
    "        preds = random_search.predict_proba(X_test)\n",
    "        probs = preds[:,1]\n",
    "        fpr, tpr, threshold = metrics.roc_curve(Y_test, probs)\n",
    "        final_auc = metrics.auc(fpr, tpr)\n",
    "        final_train_auc = random_search.cv_results_['mean_test_score'].max()\n",
    "        coef_df=pd.DataFrame()\n",
    "    if algo == 'LR':\n",
    "        coef_df['lambda']=[optimal_alpha]\n",
    "    coef_df['Test_AUC']=[final_auc]\n",
    "    coef_df['Train_AUC']=[final_train_auc] \n",
    "    timer(start_time) # timing ends here for \"start_time\" variable\n",
    "    return  probs, final_auc, coef_df"
   ]
  },
  {
   "cell_type": "code",
   "execution_count": 227,
   "metadata": {},
   "outputs": [
    {
     "ename": "KeyError",
     "evalue": "'crr_score'",
     "output_type": "error",
     "traceback": [
      "\u001b[0;31m---------------------------------------------------------------------------\u001b[0m",
      "\u001b[0;31mKeyError\u001b[0m                                  Traceback (most recent call last)",
      "\u001b[0;32m<ipython-input-227-9cf25e6b11d8>\u001b[0m in \u001b[0;36m<module>\u001b[0;34m\u001b[0m\n\u001b[1;32m     11\u001b[0m \u001b[0;34m\u001b[0m\u001b[0m\n\u001b[1;32m     12\u001b[0m \u001b[0;34m\u001b[0m\u001b[0m\n\u001b[0;32m---> 13\u001b[0;31m \u001b[0mbound\u001b[0m \u001b[0;34m=\u001b[0m \u001b[0;34m[\u001b[0m\u001b[0mind_var_dict\u001b[0m\u001b[0;34m[\u001b[0m\u001b[0mcol\u001b[0m\u001b[0;34m]\u001b[0m \u001b[0;32mfor\u001b[0m \u001b[0mcol\u001b[0m \u001b[0;32min\u001b[0m \u001b[0mX_train\u001b[0m\u001b[0;34m.\u001b[0m\u001b[0mcolumns\u001b[0m\u001b[0;34m]\u001b[0m\u001b[0;34m\u001b[0m\u001b[0;34m\u001b[0m\u001b[0m\n\u001b[0m\u001b[1;32m     14\u001b[0m \u001b[0malphas\u001b[0m \u001b[0;34m=\u001b[0m \u001b[0;34m[\u001b[0m\u001b[0;36m0.005\u001b[0m\u001b[0;34m,\u001b[0m \u001b[0;36m0.01\u001b[0m\u001b[0;34m,\u001b[0m \u001b[0;36m0.015\u001b[0m\u001b[0;34m,\u001b[0m \u001b[0;36m0.02\u001b[0m\u001b[0;34m,\u001b[0m \u001b[0;36m0.025\u001b[0m\u001b[0;34m,\u001b[0m \u001b[0;36m0.03\u001b[0m\u001b[0;34m,\u001b[0m \u001b[0;36m0.035\u001b[0m\u001b[0;34m,\u001b[0m \u001b[0;36m0.04\u001b[0m\u001b[0;34m]\u001b[0m\u001b[0;34m\u001b[0m\u001b[0;34m\u001b[0m\u001b[0m\n\u001b[1;32m     15\u001b[0m \u001b[0;34m\u001b[0m\u001b[0m\n",
      "\u001b[0;32m<ipython-input-227-9cf25e6b11d8>\u001b[0m in \u001b[0;36m<listcomp>\u001b[0;34m(.0)\u001b[0m\n\u001b[1;32m     11\u001b[0m \u001b[0;34m\u001b[0m\u001b[0m\n\u001b[1;32m     12\u001b[0m \u001b[0;34m\u001b[0m\u001b[0m\n\u001b[0;32m---> 13\u001b[0;31m \u001b[0mbound\u001b[0m \u001b[0;34m=\u001b[0m \u001b[0;34m[\u001b[0m\u001b[0mind_var_dict\u001b[0m\u001b[0;34m[\u001b[0m\u001b[0mcol\u001b[0m\u001b[0;34m]\u001b[0m \u001b[0;32mfor\u001b[0m \u001b[0mcol\u001b[0m \u001b[0;32min\u001b[0m \u001b[0mX_train\u001b[0m\u001b[0;34m.\u001b[0m\u001b[0mcolumns\u001b[0m\u001b[0;34m]\u001b[0m\u001b[0;34m\u001b[0m\u001b[0;34m\u001b[0m\u001b[0m\n\u001b[0m\u001b[1;32m     14\u001b[0m \u001b[0malphas\u001b[0m \u001b[0;34m=\u001b[0m \u001b[0;34m[\u001b[0m\u001b[0;36m0.005\u001b[0m\u001b[0;34m,\u001b[0m \u001b[0;36m0.01\u001b[0m\u001b[0;34m,\u001b[0m \u001b[0;36m0.015\u001b[0m\u001b[0;34m,\u001b[0m \u001b[0;36m0.02\u001b[0m\u001b[0;34m,\u001b[0m \u001b[0;36m0.025\u001b[0m\u001b[0;34m,\u001b[0m \u001b[0;36m0.03\u001b[0m\u001b[0;34m,\u001b[0m \u001b[0;36m0.035\u001b[0m\u001b[0;34m,\u001b[0m \u001b[0;36m0.04\u001b[0m\u001b[0;34m]\u001b[0m\u001b[0;34m\u001b[0m\u001b[0;34m\u001b[0m\u001b[0m\n\u001b[1;32m     15\u001b[0m \u001b[0;34m\u001b[0m\u001b[0m\n",
      "\u001b[0;31mKeyError\u001b[0m: 'crr_score'"
     ]
    }
   ],
   "source": [
    "# Calibration Inputs\n",
    "# sign constraints\n",
    "# ind_var_dict = {'tenure':(-2., 0.), 'acct_type_cnt':(-2., 0.), 'chq_acct_cnt':(0.,2.), 'cross_border_wire_l10m':(0.,2.),\n",
    "#        'hr_cnty':(0.,2.), 'hr_occup':(0.,2.), 'hr_prod':(0.,2.), 'overlay_pep':(0.,10.), 'overlay_str':(0.,10.),\n",
    "#        'overlay_non_resident':(0.,10.), 'overlay_cash':(0.,10.), 'overlay_wire':(0.,10.),\n",
    "#        'overlay_deposit_balance':(0.,10.), 'intercept':(-10.,10.)}\n",
    "\n",
    "ind_var_dict = {'tenure_days':(-7., 1.), 'pep_type':(-1., 8.),'all_prod_registered':(-1., 8.),\n",
    "       'hr_cnty':(-1., 2.), 'hr_occup':(-2., 1.), 'overlay_str':(0.,10.),'avg_bal_l4m':(-2.,1.),\n",
    "        'intercept':(-10.,10.)}\n",
    "\n",
    "\n",
    "bound = [ind_var_dict[col] for col in X_train.columns]\n",
    "alphas = [0.005, 0.01, 0.015, 0.02, 0.025, 0.03, 0.035, 0.04]\n",
    "\n",
    "\n",
    "\n",
    "rf_params = {\n",
    "                'max_depth': [1, 2, 3, 4, 5],\n",
    "                'n_estimators': [100*x for x in range(1,6)],\n",
    "                'min_samples_leaf': [5, 10, 15, 20, 25]\n",
    "                }\n",
    "\n",
    "xgb_params = {\n",
    "        'learning_rate': [0.01, 0.02, 0.03, 0.04],\n",
    "        'min_child_weight': [1, 5, 10],\n",
    "        'gamma': [0.5, 1, 1.5, 2, 5],\n",
    "        'subsample': [0.6, 0.8, 1.0],\n",
    "        'colsample_bytree': [0.6, 0.8, 1.0],\n",
    "        'max_depth': [3, 4, 5],\n",
    "        'monotone_constraints': [(0,0,1,0,0,0,0,0,0,0,-1),(0,0,0,0,0,0,0,0,0,0,0)]\n",
    "        }\n",
    "\n",
    "svm_params = {'kernel': ('linear', 'rbf','sigmoid'),\n",
    "               'C': [0.1,10, 100]}"
   ]
  },
  {
   "cell_type": "code",
   "execution_count": 159,
   "metadata": {},
   "outputs": [
    {
     "ename": "NameError",
     "evalue": "name 'alphas' is not defined",
     "output_type": "error",
     "traceback": [
      "\u001b[0;31m---------------------------------------------------------------------------\u001b[0m",
      "\u001b[0;31mNameError\u001b[0m                                 Traceback (most recent call last)",
      "\u001b[0;32m<ipython-input-159-a94675baf695>\u001b[0m in \u001b[0;36m<module>\u001b[0;34m\u001b[0m\n\u001b[1;32m      1\u001b[0m \u001b[0;31m# RF\u001b[0m\u001b[0;34m\u001b[0m\u001b[0;34m\u001b[0m\u001b[0;34m\u001b[0m\u001b[0m\n\u001b[0;32m----> 2\u001b[0;31m \u001b[0mprobs_RF\u001b[0m\u001b[0;34m,\u001b[0m \u001b[0mridge_auc_temp_RF\u001b[0m\u001b[0;34m,\u001b[0m \u001b[0mridge_coef_df_RF\u001b[0m \u001b[0;34m=\u001b[0m \u001b[0mCross_Validation\u001b[0m\u001b[0;34m(\u001b[0m\u001b[0mX_train\u001b[0m\u001b[0;34m,\u001b[0m \u001b[0my_train\u001b[0m\u001b[0;34m,\u001b[0m \u001b[0mX_test\u001b[0m\u001b[0;34m,\u001b[0m \u001b[0my_test\u001b[0m\u001b[0;34m,\u001b[0m \u001b[0malphas\u001b[0m\u001b[0;34m,\u001b[0m \u001b[0mX_train\u001b[0m\u001b[0;34m.\u001b[0m\u001b[0mcolumns\u001b[0m\u001b[0;34m,\u001b[0m \u001b[0mbound\u001b[0m\u001b[0;34m,\u001b[0m \u001b[0malgo\u001b[0m\u001b[0;34m=\u001b[0m\u001b[0;34m'RF'\u001b[0m\u001b[0;34m,\u001b[0m \u001b[0mparams\u001b[0m \u001b[0;34m=\u001b[0m \u001b[0mrf_params\u001b[0m\u001b[0;34m)\u001b[0m\u001b[0;34m\u001b[0m\u001b[0;34m\u001b[0m\u001b[0m\n\u001b[0m",
      "\u001b[0;31mNameError\u001b[0m: name 'alphas' is not defined"
     ]
    }
   ],
   "source": [
    "# RF\n",
    "probs_RF, ridge_auc_temp_RF, ridge_coef_df_RF = Cross_Validation(X_train, y_train, X_test, y_test, alphas, X_train.columns, bound, algo='RF', params = rf_params)"
   ]
  },
  {
   "cell_type": "code",
   "execution_count": 160,
   "metadata": {},
   "outputs": [
    {
     "ename": "NameError",
     "evalue": "name 'probs_RF' is not defined",
     "output_type": "error",
     "traceback": [
      "\u001b[0;31m---------------------------------------------------------------------------\u001b[0m",
      "\u001b[0;31mNameError\u001b[0m                                 Traceback (most recent call last)",
      "\u001b[0;32m<ipython-input-160-2ece1226a0ce>\u001b[0m in \u001b[0;36m<module>\u001b[0;34m\u001b[0m\n\u001b[0;32m----> 1\u001b[0;31m \u001b[0mprob_RF\u001b[0m\u001b[0;34m=\u001b[0m\u001b[0mpd\u001b[0m\u001b[0;34m.\u001b[0m\u001b[0mDataFrame\u001b[0m\u001b[0;34m(\u001b[0m\u001b[0mprobs_RF\u001b[0m\u001b[0;34m,\u001b[0m \u001b[0mcolumns\u001b[0m\u001b[0;34m=\u001b[0m\u001b[0;34m[\u001b[0m\u001b[0;34m'prob_LR'\u001b[0m\u001b[0;34m]\u001b[0m\u001b[0;34m)\u001b[0m\u001b[0;34m\u001b[0m\u001b[0;34m\u001b[0m\u001b[0m\n\u001b[0m\u001b[1;32m      2\u001b[0m \u001b[0;34m\u001b[0m\u001b[0m\n\u001b[1;32m      3\u001b[0m \u001b[0;32mfrom\u001b[0m \u001b[0msklearn\u001b[0m\u001b[0;34m.\u001b[0m\u001b[0mmetrics\u001b[0m \u001b[0;32mimport\u001b[0m \u001b[0mroc_curve\u001b[0m\u001b[0;34m,\u001b[0m \u001b[0mauc\u001b[0m\u001b[0;34m\u001b[0m\u001b[0;34m\u001b[0m\u001b[0m\n\u001b[1;32m      4\u001b[0m \u001b[0;34m\u001b[0m\u001b[0m\n\u001b[1;32m      5\u001b[0m \u001b[0;34m\u001b[0m\u001b[0m\n",
      "\u001b[0;31mNameError\u001b[0m: name 'probs_RF' is not defined"
     ]
    }
   ],
   "source": [
    "prob_RF=pd.DataFrame(probs_RF, columns=['prob_LR']) \n",
    "\n",
    "from sklearn.metrics import roc_curve, auc\n",
    "\n",
    "\n",
    "plt.figure(figsize = (8, 6))\n",
    "plt.plot([0,1], [0,1], 'r--')\n",
    "\n",
    "\n",
    "fpr1, tpr1, thresholds1 = roc_curve(y_test, prob_RF)\n",
    "# precision, recall, thresholds = precision_recall_curve(test_y, probs[:, 1]) \n",
    "roc_auc1 = auc(fpr1, tpr1)\n",
    "\n",
    "\n",
    "# print(roc_auc_score(y_test, preds))\n",
    "\n",
    "label = 'Logistic AUC:' + ' {0:.2f}'.format(roc_auc1)\n",
    "plt.plot(fpr1, tpr1, c = 'g', label = label, linewidth = 2)\n",
    "plt.xlabel('False Positive Rate', fontsize = 10)\n",
    "plt.ylabel('True Positive Rate', fontsize = 10)\n",
    "plt.title('LR AUC', fontsize = 10)\n",
    "plt.legend(loc = 'lower right', fontsize = 10)"
   ]
  },
  {
   "cell_type": "code",
   "execution_count": 164,
   "metadata": {},
   "outputs": [
    {
     "name": "stdout",
     "output_type": "stream",
     "text": [
      "\n",
      " Time taken: 0 hours 0 minutes and 3.67 seconds.\n"
     ]
    }
   ],
   "source": [
    "# LR\n",
    "probs_LR, ridge_auc_temp_LR, ridge_coef_df_LR = Cross_Validation(X_train, y_train, X_test, y_test, alphas, X_train.columns, bound, algo='LR')"
   ]
  },
  {
   "cell_type": "code",
   "execution_count": 165,
   "metadata": {},
   "outputs": [
    {
     "data": {
      "text/plain": [
       "<Figure size 576x432 with 0 Axes>"
      ]
     },
     "execution_count": 165,
     "metadata": {},
     "output_type": "execute_result"
    },
    {
     "data": {
      "text/plain": [
       "[<matplotlib.lines.Line2D at 0x7fb72b214e10>]"
      ]
     },
     "execution_count": 165,
     "metadata": {},
     "output_type": "execute_result"
    },
    {
     "data": {
      "text/plain": [
       "[<matplotlib.lines.Line2D at 0x7fb72b290400>]"
      ]
     },
     "execution_count": 165,
     "metadata": {},
     "output_type": "execute_result"
    },
    {
     "data": {
      "text/plain": [
       "Text(0.5, 0, 'False Positive Rate')"
      ]
     },
     "execution_count": 165,
     "metadata": {},
     "output_type": "execute_result"
    },
    {
     "data": {
      "text/plain": [
       "Text(0, 0.5, 'True Positive Rate')"
      ]
     },
     "execution_count": 165,
     "metadata": {},
     "output_type": "execute_result"
    },
    {
     "data": {
      "text/plain": [
       "Text(0.5, 1.0, 'LR AUC')"
      ]
     },
     "execution_count": 165,
     "metadata": {},
     "output_type": "execute_result"
    },
    {
     "data": {
      "text/plain": [
       "<matplotlib.legend.Legend at 0x7fb72b214588>"
      ]
     },
     "execution_count": 165,
     "metadata": {},
     "output_type": "execute_result"
    },
    {
     "data": {
      "image/png": "[encoded data removed]",
      "text/plain": [
       "<Figure size 576x432 with 1 Axes>"
      ]
     },
     "metadata": {
      "needs_background": "light"
     },
     "output_type": "display_data"
    }
   ],
   "source": [
    "prob_LR=pd.DataFrame(probs_LR, columns=['prob_LR']) \n",
    "\n",
    "from sklearn.metrics import roc_curve, auc\n",
    "\n",
    "\n",
    "plt.figure(figsize = (8, 6))\n",
    "plt.plot([0,1], [0,1], 'r--')\n",
    "\n",
    "\n",
    "fpr1, tpr1, thresholds1 = roc_curve(y_test, prob_LR)\n",
    "# precision, recall, thresholds = precision_recall_curve(test_y, probs[:, 1]) \n",
    "roc_auc1 = auc(fpr1, tpr1)\n",
    "\n",
    "\n",
    "# print(roc_auc_score(y_test, preds))\n",
    "\n",
    "label = 'Logistic AUC:' + ' {0:.2f}'.format(roc_auc1)\n",
    "plt.plot(fpr1, tpr1, c = 'g', label = label, linewidth = 2)\n",
    "plt.xlabel('False Positive Rate', fontsize = 10)\n",
    "plt.ylabel('True Positive Rate', fontsize = 10)\n",
    "plt.title('LR AUC', fontsize = 10)\n",
    "plt.legend(loc = 'lower right', fontsize = 10)"
   ]
  },
  {
   "cell_type": "code",
   "execution_count": 166,
   "metadata": {},
   "outputs": [
    {
     "name": "stdout",
     "output_type": "stream",
     "text": [
      "Fitting 3 folds for each of 50 candidates, totalling 150 fits\n"
     ]
    },
    {
     "name": "stderr",
     "output_type": "stream",
     "text": [
      "[Parallel(n_jobs=4)]: Using backend LokyBackend with 4 concurrent workers.\n",
      "[Parallel(n_jobs=4)]: Done  32 tasks      | elapsed:   35.5s\n",
      "[Parallel(n_jobs=4)]: Done 128 tasks      | elapsed:  2.7min\n"
     ]
    },
    {
     "name": "stdout",
     "output_type": "stream",
     "text": [
      "\n",
      " Best estimator:\n",
      "XGBClassifier(alpha=10, base_score=0.5, booster='gbtree', colsample_bylevel=1,\n",
      "              colsample_bynode=1, colsample_bytree=0.8, eval_metric='logloss',\n",
      "              gamma=2, gpu_id=-1, importance_type='gain',\n",
      "              interaction_constraints='', learning_rate=0.02, max_delta_step=0,\n",
      "              max_depth=3, min_child_weight=1, missing=nan,\n",
      "              monotone_constraints=(0, 0, 1, 0, 0, 0, 0, 0, 0, 0, -1),\n",
      "              n_estimators=100, n_jobs=4, num_parallel_tree=1, random_state=3,\n",
      "              reg_alpha=10, reg_lambda=1, scale_pos_weight=1, seed=3,\n",
      "              subsample=0.8, tree_method='exact', validate_parameters=1,\n",
      "              verbosity=None)\n",
      "\n",
      " Feature Importance:\n",
      "             Importances\n",
      "hr_cnty         0.489454\n",
      "avg_bal_l4m     0.382701\n",
      "tenure_days     0.127845\n",
      "pep_type        0.000000\n",
      "hr_occup        0.000000\n",
      "\n",
      " Best parameters:\n",
      "{'subsample': 0.8, 'monotone_constraints': (0, 0, 1, 0, 0, 0, 0, 0, 0, 0, -1), 'min_child_weight': 1, 'max_depth': 3, 'learning_rate': 0.02, 'gamma': 2, 'colsample_bytree': 0.8}\n",
      "\n",
      " Time taken: 0 hours 3 minutes and 16.83 seconds.\n"
     ]
    },
    {
     "name": "stderr",
     "output_type": "stream",
     "text": [
      "[Parallel(n_jobs=4)]: Done 150 out of 150 | elapsed:  3.3min finished\n"
     ]
    }
   ],
   "source": [
    "# XGB\n",
    "probs_XGB, ridge_auc_temp_XGB, ridge_coef_df_XGB = Cross_Validation(X_train, y_train, X_test, y_test, alphas, X_train.columns, bound, algo='XGB', params = xgb_params)"
   ]
  },
  {
   "cell_type": "code",
   "execution_count": 167,
   "metadata": {},
   "outputs": [
    {
     "data": {
      "text/plain": [
       "<Figure size 576x432 with 0 Axes>"
      ]
     },
     "execution_count": 167,
     "metadata": {},
     "output_type": "execute_result"
    },
    {
     "data": {
      "text/plain": [
       "[<matplotlib.lines.Line2D at 0x7fb77b4ea668>]"
      ]
     },
     "execution_count": 167,
     "metadata": {},
     "output_type": "execute_result"
    },
    {
     "data": {
      "text/plain": [
       "[<matplotlib.lines.Line2D at 0x7fb77b4f6b38>]"
      ]
     },
     "execution_count": 167,
     "metadata": {},
     "output_type": "execute_result"
    },
    {
     "data": {
      "text/plain": [
       "Text(0.5, 0, 'False Positive Rate')"
      ]
     },
     "execution_count": 167,
     "metadata": {},
     "output_type": "execute_result"
    },
    {
     "data": {
      "text/plain": [
       "Text(0, 0.5, 'True Positive Rate')"
      ]
     },
     "execution_count": 167,
     "metadata": {},
     "output_type": "execute_result"
    },
    {
     "data": {
      "text/plain": [
       "Text(0.5, 1.0, 'LR AUC')"
      ]
     },
     "execution_count": 167,
     "metadata": {},
     "output_type": "execute_result"
    },
    {
     "data": {
      "text/plain": [
       "<matplotlib.legend.Legend at 0x7fb77b4ea9b0>"
      ]
     },
     "execution_count": 167,
     "metadata": {},
     "output_type": "execute_result"
    },
    {
     "data": {
      "image/png": "[encoded data removed]",
      "text/plain": [
       "<Figure size 576x432 with 1 Axes>"
      ]
     },
     "metadata": {
      "needs_background": "light"
     },
     "output_type": "display_data"
    }
   ],
   "source": [
    "prob_XGB=pd.DataFrame(probs_XGB, columns=['probs_XGB']) \n",
    "\n",
    "from sklearn.metrics import roc_curve, auc\n",
    "\n",
    "\n",
    "plt.figure(figsize = (8, 6))\n",
    "plt.plot([0,1], [0,1], 'r--')\n",
    "\n",
    "\n",
    "fpr1, tpr1, thresholds1 = roc_curve(y_test, prob_XGB)\n",
    "# precision, recall, thresholds = precision_recall_curve(test_y, probs[:, 1]) \n",
    "roc_auc1 = auc(fpr1, tpr1)\n",
    "\n",
    "\n",
    "# print(roc_auc_score(y_test, preds))\n",
    "\n",
    "label = 'Logistic AUC:' + ' {0:.2f}'.format(roc_auc1)\n",
    "plt.plot(fpr1, tpr1, c = 'g', label = label, linewidth = 2)\n",
    "plt.xlabel('False Positive Rate', fontsize = 10)\n",
    "plt.ylabel('True Positive Rate', fontsize = 10)\n",
    "plt.title('LR AUC', fontsize = 10)\n",
    "plt.legend(loc = 'lower right', fontsize = 10)"
   ]
  },
  {
   "cell_type": "code",
   "execution_count": 168,
   "metadata": {},
   "outputs": [
    {
     "name": "stdout",
     "output_type": "stream",
     "text": [
      "Fitting 3 folds for each of 6 candidates, totalling 18 fits\n",
      "\n",
      " Best estimator:\n",
      "SVC(C=0.1, kernel='sigmoid', probability=True)\n",
      "\n",
      " Best estimator\n",
      "SVC(C=0.1, kernel='sigmoid', probability=True)\n",
      "\n",
      " Time taken: 0 hours 0 minutes and 0.08 seconds.\n"
     ]
    },
    {
     "name": "stderr",
     "output_type": "stream",
     "text": [
      "[Parallel(n_jobs=4)]: Using backend LokyBackend with 4 concurrent workers.\n",
      "[Parallel(n_jobs=4)]: Done  11 out of  18 | elapsed:    0.1s remaining:    0.0s\n",
      "[Parallel(n_jobs=4)]: Done  18 out of  18 | elapsed:    0.1s remaining:    0.0s\n",
      "[Parallel(n_jobs=4)]: Done  18 out of  18 | elapsed:    0.1s finished\n"
     ]
    }
   ],
   "source": [
    "# SVM\n",
    "probs_SVM, ridge_auc_temp_SVM, ridge_coef_df_SVM = Cross_Validation(X_train, y_train, X_test, y_test, alphas, X_train.columns, bound, algo='SVM', params = svm_params, param_comb = 6)"
   ]
  },
  {
   "cell_type": "code",
   "execution_count": 169,
   "metadata": {},
   "outputs": [
    {
     "data": {
      "text/plain": [
       "<Figure size 576x432 with 0 Axes>"
      ]
     },
     "execution_count": 169,
     "metadata": {},
     "output_type": "execute_result"
    },
    {
     "data": {
      "text/plain": [
       "[<matplotlib.lines.Line2D at 0x7fb77b518d30>]"
      ]
     },
     "execution_count": 169,
     "metadata": {},
     "output_type": "execute_result"
    },
    {
     "data": {
      "text/plain": [
       "[<matplotlib.lines.Line2D at 0x7fb77b518da0>]"
      ]
     },
     "execution_count": 169,
     "metadata": {},
     "output_type": "execute_result"
    },
    {
     "data": {
      "text/plain": [
       "Text(0.5, 0, 'False Positive Rate')"
      ]
     },
     "execution_count": 169,
     "metadata": {},
     "output_type": "execute_result"
    },
    {
     "data": {
      "text/plain": [
       "Text(0, 0.5, 'True Positive Rate')"
      ]
     },
     "execution_count": 169,
     "metadata": {},
     "output_type": "execute_result"
    },
    {
     "data": {
      "text/plain": [
       "Text(0.5, 1.0, 'LR AUC')"
      ]
     },
     "execution_count": 169,
     "metadata": {},
     "output_type": "execute_result"
    },
    {
     "data": {
      "text/plain": [
       "<matplotlib.legend.Legend at 0x7fb77b518198>"
      ]
     },
     "execution_count": 169,
     "metadata": {},
     "output_type": "execute_result"
    },
    {
     "data": {
      "image/png": "[encoded data removed]",
      "text/plain": [
       "<Figure size 576x432 with 1 Axes>"
      ]
     },
     "metadata": {
      "needs_background": "light"
     },
     "output_type": "display_data"
    }
   ],
   "source": [
    "prob_SVM=pd.DataFrame(probs_SVM, columns=['probs_SVM']) \n",
    "\n",
    "from sklearn.metrics import roc_curve, auc\n",
    "\n",
    "\n",
    "plt.figure(figsize = (8, 6))\n",
    "plt.plot([0,1], [0,1], 'r--')\n",
    "\n",
    "\n",
    "fpr1, tpr1, thresholds1 = roc_curve(y_test, probs_SVM)\n",
    "# precision, recall, thresholds = precision_recall_curve(test_y, probs[:, 1]) \n",
    "roc_auc1 = auc(fpr1, tpr1)\n",
    "\n",
    "\n",
    "# print(roc_auc_score(y_test, preds))\n",
    "\n",
    "label = 'Logistic AUC:' + ' {0:.2f}'.format(roc_auc1)\n",
    "plt.plot(fpr1, tpr1, c = 'g', label = label, linewidth = 2)\n",
    "plt.xlabel('False Positive Rate', fontsize = 10)\n",
    "plt.ylabel('True Positive Rate', fontsize = 10)\n",
    "plt.title('LR AUC', fontsize = 10)\n",
    "plt.legend(loc = 'lower right', fontsize = 10)"
   ]
  },
  {
   "cell_type": "code",
   "execution_count": 171,
   "metadata": {},
   "outputs": [],
   "source": [
    "def Metrics_disp(probs, y_test, thsld = 0.52):\n",
    "    probs\n",
    "    preds = np.where(probs>thsld,1,0)\n",
    "\n",
    "    probs_overlay = probs.copy()\n",
    "    probs_overlay[test_idx_lst_08] = probs_overlay[test_idx_lst_08]+0.8\n",
    "    probs_overlay[test_idx_lst_03] = probs_overlay[test_idx_lst_03]+0.3\n",
    "    \n",
    "    probs_overlay[probs_overlay>1] = 1\n",
    "    preds_overlay = np.where(probs_overlay>thsld,1,0)\n",
    "    \n",
    "    scores = pd.DataFrame(data=[[accuracy_score(y_test, preds_overlay), recall_score(y_test, preds_overlay),\n",
    "                   precision_score(y_test, preds_overlay), roc_auc_score(y_test, probs_overlay)],\n",
    "                           [accuracy_score(y_test, preds), recall_score(y_test, preds),\n",
    "                   precision_score(y_test, preds), roc_auc_score(y_test, probs)]], \n",
    "             index=[\"With Overlay\", \"Without Overlay\"],columns=[\"accuracy\", \"recall\", \"precision\", \"roc_auc_score\"])\n",
    "    print(scores)"
   ]
  },
  {
   "cell_type": "code",
   "execution_count": 172,
   "metadata": {},
   "outputs": [
    {
     "name": "stdout",
     "output_type": "stream",
     "text": [
      "-------------------Sign Constrained LR--------------------------------------\n",
      "\n",
      "                 accuracy    recall  precision  roc_auc_score\n",
      "With Overlay     0.855769  0.901961   0.821429       0.828339\n",
      "Without Overlay  0.855769  0.901961   0.821429       0.849427\n",
      "\n",
      "-------------------Raindom Forest-------------------------------------------\n",
      "\n",
      "                 accuracy    recall  precision  roc_auc_score\n",
      "With Overlay     0.855769  0.901961   0.821429       0.855161\n",
      "Without Overlay  0.855769  0.901961   0.821429       0.892527\n",
      "\n",
      "-------------------XGBoost--------------------------------------------------\n",
      "\n",
      "                 accuracy    recall  precision  roc_auc_score\n",
      "With Overlay     0.855769  0.901961   0.821429       0.842952\n",
      "Without Overlay  0.855769  0.901961   0.821429       0.872919\n",
      "\n",
      "-------------------SVM--------------------------------------------------\n",
      "\n",
      "                 accuracy    recall  precision  roc_auc_score\n",
      "With Overlay     0.855769  0.901961   0.821429       0.822605\n",
      "Without Overlay  0.855769  0.901961   0.821429       0.843322\n"
     ]
    }
   ],
   "source": [
    "print('-------------------Sign Constrained LR--------------------------------------\\n')\n",
    "Metrics_disp(probs_LR, y_test)\n",
    "print('\\n-------------------Raindom Forest-------------------------------------------\\n')\n",
    "Metrics_disp(probs_RF, y_test)\n",
    "print('\\n-------------------XGBoost--------------------------------------------------\\n')\n",
    "Metrics_disp(probs_XGB, y_test)\n",
    "print('\\n-------------------SVM--------------------------------------------------\\n')\n",
    "Metrics_disp(probs_SVM, y_test)"
   ]
  },
  {
   "cell_type": "code",
   "execution_count": 173,
   "metadata": {},
   "outputs": [
    {
     "data": {
      "text/html": [
       "<div>\n",
       "<style scoped>\n",
       "    .dataframe tbody tr th:only-of-type {\n",
       "        vertical-align: middle;\n",
       "    }\n",
       "\n",
       "    .dataframe tbody tr th {\n",
       "        vertical-align: top;\n",
       "    }\n",
       "\n",
       "    .dataframe thead th {\n",
       "        text-align: right;\n",
       "    }\n",
       "</style>\n",
       "<table border=\"1\" class=\"dataframe\">\n",
       "  <thead>\n",
       "    <tr style=\"text-align: right;\">\n",
       "      <th></th>\n",
       "      <th>tenure_days</th>\n",
       "      <th>pep_type</th>\n",
       "      <th>avg_bal_l4m</th>\n",
       "      <th>hr_cnty</th>\n",
       "      <th>hr_occup</th>\n",
       "      <th>lambda</th>\n",
       "      <th>Test_AUC</th>\n",
       "      <th>Train_AUC</th>\n",
       "    </tr>\n",
       "  </thead>\n",
       "  <tbody>\n",
       "    <tr>\n",
       "      <th>0</th>\n",
       "      <td>0.407042</td>\n",
       "      <td>0.795543</td>\n",
       "      <td>0.999986</td>\n",
       "      <td>-0.999988</td>\n",
       "      <td>-0.108734</td>\n",
       "      <td>0.005</td>\n",
       "      <td>0.849427</td>\n",
       "      <td>0.941476</td>\n",
       "    </tr>\n",
       "    <tr>\n",
       "      <th>0</th>\n",
       "      <td>NaN</td>\n",
       "      <td>NaN</td>\n",
       "      <td>NaN</td>\n",
       "      <td>NaN</td>\n",
       "      <td>NaN</td>\n",
       "      <td>NaN</td>\n",
       "      <td>0.892527</td>\n",
       "      <td>0.949185</td>\n",
       "    </tr>\n",
       "    <tr>\n",
       "      <th>0</th>\n",
       "      <td>NaN</td>\n",
       "      <td>NaN</td>\n",
       "      <td>NaN</td>\n",
       "      <td>NaN</td>\n",
       "      <td>NaN</td>\n",
       "      <td>NaN</td>\n",
       "      <td>0.872919</td>\n",
       "      <td>0.910202</td>\n",
       "    </tr>\n",
       "  </tbody>\n",
       "</table>\n",
       "</div>"
      ],
      "text/plain": [
       "   tenure_days  pep_type  avg_bal_l4m   hr_cnty  hr_occup  lambda  Test_AUC  \\\n",
       "0     0.407042  0.795543     0.999986 -0.999988 -0.108734   0.005  0.849427   \n",
       "0          NaN       NaN          NaN       NaN       NaN     NaN  0.892527   \n",
       "0          NaN       NaN          NaN       NaN       NaN     NaN  0.872919   \n",
       "\n",
       "   Train_AUC  \n",
       "0   0.941476  \n",
       "0   0.949185  \n",
       "0   0.910202  "
      ]
     },
     "execution_count": 173,
     "metadata": {},
     "output_type": "execute_result"
    }
   ],
   "source": [
    "pd.concat([ridge_coef_df_LR,ridge_coef_df_RF,ridge_coef_df_XGB])"
   ]
  },
  {
   "cell_type": "code",
   "execution_count": 139,
   "metadata": {},
   "outputs": [
    {
     "data": {
      "text/plain": [
       "'len(probs_XGB)'"
      ]
     },
     "execution_count": 139,
     "metadata": {},
     "output_type": "execute_result"
    }
   ],
   "source": [
    "'len(probs_XGB)'"
   ]
  },
  {
   "cell_type": "code",
   "execution_count": 152,
   "metadata": {},
   "outputs": [],
   "source": [
    "\n",
    "    for i in range(prob_df.shape[1]):\n",
    "        plt.figure(figsize = (8, 6))\n",
    "        plt.plot([0,1], [0,1], 'r--')\n",
    "        \n",
    "        fpr1, tpr1, thresholds1 = roc_curve(y_test, prob_df[i])\n",
    "        # precision, recall, thresholds = precision_recall_curve(test_y, probs[:, 1]) \n",
    "        roc_auc1 = auc(fpr1, tpr1)\n",
    "\n",
    "\n",
    "        # print(roc_auc_score(y_test, preds))\n",
    "\n",
    "        label = 'Logistic AUC:' + ' {0:.2f}'.format(roc_auc1)\n",
    "        plt.plot(fpr1, tpr1, c = 'g', label = label, linewidth = 2)\n",
    "        plt.xlabel('False Positive Rate', fontsize = 10)\n",
    "        plt.ylabel('True Positive Rate', fontsize = 10)\n",
    "        plt.title('AUC', fontsize = 10)\n",
    "        plt.legend(loc = 'lower right', fontsize = 10)\n",
    "\n"
   ]
  },
  {
   "cell_type": "code",
   "execution_count": 141,
   "metadata": {},
   "outputs": [],
   "source": [
    "probs_LR=pd.DataFrame(probs_LR, columns=['prob_LR']) \n",
    "probs_RF=pd.DataFrame(probs_RF, columns=['probs_RF'])\n",
    "probs_XGB=pd.DataFrame(probs_XGB, columns=['prob_XGB'])\n",
    "probs_SVM=pd.DataFrame(probs_SVM, columns=['probs_SVM'])"
   ]
  },
  {
   "cell_type": "code",
   "execution_count": 142,
   "metadata": {},
   "outputs": [],
   "source": [
    "prob =pd.concat([probs_LR, probs_RF,probs_XGB,probs_SVM], axis= 1)"
   ]
  },
  {
   "cell_type": "code",
   "execution_count": 146,
   "metadata": {},
   "outputs": [
    {
     "data": {
      "text/plain": [
       "4"
      ]
     },
     "execution_count": 146,
     "metadata": {},
     "output_type": "execute_result"
    }
   ],
   "source": [
    "prob.shape[1]"
   ]
  },
  {
   "cell_type": "code",
   "execution_count": 147,
   "metadata": {},
   "outputs": [
    {
     "data": {
      "text/plain": [
       "range(0, 4)"
      ]
     },
     "execution_count": 147,
     "metadata": {},
     "output_type": "execute_result"
    }
   ],
   "source": [
    "range(prob.shape[1])"
   ]
  },
  {
   "cell_type": "code",
   "execution_count": null,
   "metadata": {},
   "outputs": [],
   "source": []
  }
 ],
 "metadata": {
  "kernelspec": {
   "display_name": "Python 3",
   "language": "python",
   "name": "python3"
  },
  "language_info": {
   "codemirror_mode": {
    "name": "ipython",
    "version": 3
   },
   "file_extension": ".py",
   "mimetype": "text/x-python",
   "name": "python",
   "nbconvert_exporter": "python",
   "pygments_lexer": "ipython3",
   "version": "3.8.3"
  }
 },
 "nbformat": 4,
 "nbformat_minor": 4
}
